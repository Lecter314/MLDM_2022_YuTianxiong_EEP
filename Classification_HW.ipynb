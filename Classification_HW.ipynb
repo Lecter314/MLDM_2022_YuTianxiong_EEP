{
 "cells": [
  {
   "cell_type": "markdown",
   "metadata": {
    "colab_type": "text",
    "id": "view-in-github"
   },
   "source": [
    "<a href=\"https://colab.research.google.com/github/HSE-LAMBDA/MLDM-2022/blob/master/03-linear-classification/Classification_HW.ipynb\" target=\"_parent\"><img src=\"https://colab.research.google.com/assets/colab-badge.svg\" alt=\"Open In Colab\"/></a>"
   ]
  },
  {
   "cell_type": "markdown",
   "metadata": {
    "colab_type": "text",
    "id": "jsk47s-JzFMY"
   },
   "source": [
    "## Task 1 (2 points + 1 bonus point + 1 super-bonus point)"
   ]
  },
  {
   "cell_type": "markdown",
   "metadata": {
    "colab_type": "text",
    "id": "_72sYvZSzO4B"
   },
   "source": [
    "(Titanic data again, 1.0 edition before ddl)\n",
    "\n",
    "Build a model with `sklearn`'s `LogisticRegression` to get the accuracy of at least 0.80 (0.82 for the bonus point, 0.85 for the super-bonus point) on the test set.\n",
    "\n",
    "Some (optional) suggestions:\n",
    "- Add new features (e.g. missing value indicator columns)\n",
    "- Fill missing values\n",
    "- Encode categorical features (e.g. one-hot encoding)\n",
    "- Scale the features (e.g. with standard or robust scaler)\n",
    "- Think of other ways of preprocessing the features (e.g. `Fare` $\\to$ `log(Fare)`)\n",
    "- Try adding polynomial features\n",
    "\n"
   ]
  },
  {
   "cell_type": "code",
   "execution_count": 1,
   "metadata": {
    "colab": {},
    "colab_type": "code",
    "id": "4CWHxPY62I-D"
   },
   "outputs": [
    {
     "data": {
      "text/plain": [
       "'train.csv'"
      ]
     },
     "execution_count": 1,
     "metadata": {},
     "output_type": "execute_result"
    }
   ],
   "source": [
    "import wget\n",
    "url = \"https://raw.githubusercontent.com/HSE-LAMBDA/MLDM-2022/main/01-intro/train.csv\"\n",
    "wget.download(url)"
   ]
  },
  {
   "cell_type": "code",
   "execution_count": 1,
   "metadata": {
    "colab": {},
    "colab_type": "code",
    "id": "G36oVo3RJXVc"
   },
   "outputs": [
    {
     "data": {
      "text/html": [
       "<div>\n",
       "<style scoped>\n",
       "    .dataframe tbody tr th:only-of-type {\n",
       "        vertical-align: middle;\n",
       "    }\n",
       "\n",
       "    .dataframe tbody tr th {\n",
       "        vertical-align: top;\n",
       "    }\n",
       "\n",
       "    .dataframe thead th {\n",
       "        text-align: right;\n",
       "    }\n",
       "</style>\n",
       "<table border=\"1\" class=\"dataframe\">\n",
       "  <thead>\n",
       "    <tr style=\"text-align: right;\">\n",
       "      <th></th>\n",
       "      <th>Survived</th>\n",
       "      <th>Pclass</th>\n",
       "      <th>Name</th>\n",
       "      <th>Sex</th>\n",
       "      <th>Age</th>\n",
       "      <th>SibSp</th>\n",
       "      <th>Parch</th>\n",
       "      <th>Ticket</th>\n",
       "      <th>Fare</th>\n",
       "      <th>Cabin</th>\n",
       "      <th>Embarked</th>\n",
       "    </tr>\n",
       "    <tr>\n",
       "      <th>PassengerId</th>\n",
       "      <th></th>\n",
       "      <th></th>\n",
       "      <th></th>\n",
       "      <th></th>\n",
       "      <th></th>\n",
       "      <th></th>\n",
       "      <th></th>\n",
       "      <th></th>\n",
       "      <th></th>\n",
       "      <th></th>\n",
       "      <th></th>\n",
       "    </tr>\n",
       "  </thead>\n",
       "  <tbody>\n",
       "    <tr>\n",
       "      <th>1</th>\n",
       "      <td>0</td>\n",
       "      <td>3</td>\n",
       "      <td>Braund, Mr. Owen Harris</td>\n",
       "      <td>male</td>\n",
       "      <td>22.0</td>\n",
       "      <td>1</td>\n",
       "      <td>0</td>\n",
       "      <td>A/5 21171</td>\n",
       "      <td>7.2500</td>\n",
       "      <td>NaN</td>\n",
       "      <td>S</td>\n",
       "    </tr>\n",
       "    <tr>\n",
       "      <th>2</th>\n",
       "      <td>1</td>\n",
       "      <td>1</td>\n",
       "      <td>Cumings, Mrs. John Bradley (Florence Briggs Th...</td>\n",
       "      <td>female</td>\n",
       "      <td>38.0</td>\n",
       "      <td>1</td>\n",
       "      <td>0</td>\n",
       "      <td>PC 17599</td>\n",
       "      <td>71.2833</td>\n",
       "      <td>C85</td>\n",
       "      <td>C</td>\n",
       "    </tr>\n",
       "    <tr>\n",
       "      <th>3</th>\n",
       "      <td>1</td>\n",
       "      <td>3</td>\n",
       "      <td>Heikkinen, Miss. Laina</td>\n",
       "      <td>female</td>\n",
       "      <td>26.0</td>\n",
       "      <td>0</td>\n",
       "      <td>0</td>\n",
       "      <td>STON/O2. 3101282</td>\n",
       "      <td>7.9250</td>\n",
       "      <td>NaN</td>\n",
       "      <td>S</td>\n",
       "    </tr>\n",
       "    <tr>\n",
       "      <th>4</th>\n",
       "      <td>1</td>\n",
       "      <td>1</td>\n",
       "      <td>Futrelle, Mrs. Jacques Heath (Lily May Peel)</td>\n",
       "      <td>female</td>\n",
       "      <td>35.0</td>\n",
       "      <td>1</td>\n",
       "      <td>0</td>\n",
       "      <td>113803</td>\n",
       "      <td>53.1000</td>\n",
       "      <td>C123</td>\n",
       "      <td>S</td>\n",
       "    </tr>\n",
       "    <tr>\n",
       "      <th>5</th>\n",
       "      <td>0</td>\n",
       "      <td>3</td>\n",
       "      <td>Allen, Mr. William Henry</td>\n",
       "      <td>male</td>\n",
       "      <td>35.0</td>\n",
       "      <td>0</td>\n",
       "      <td>0</td>\n",
       "      <td>373450</td>\n",
       "      <td>8.0500</td>\n",
       "      <td>NaN</td>\n",
       "      <td>S</td>\n",
       "    </tr>\n",
       "  </tbody>\n",
       "</table>\n",
       "</div>"
      ],
      "text/plain": [
       "             Survived  Pclass  \\\n",
       "PassengerId                     \n",
       "1                   0       3   \n",
       "2                   1       1   \n",
       "3                   1       3   \n",
       "4                   1       1   \n",
       "5                   0       3   \n",
       "\n",
       "                                                          Name     Sex   Age  \\\n",
       "PassengerId                                                                    \n",
       "1                                      Braund, Mr. Owen Harris    male  22.0   \n",
       "2            Cumings, Mrs. John Bradley (Florence Briggs Th...  female  38.0   \n",
       "3                                       Heikkinen, Miss. Laina  female  26.0   \n",
       "4                 Futrelle, Mrs. Jacques Heath (Lily May Peel)  female  35.0   \n",
       "5                                     Allen, Mr. William Henry    male  35.0   \n",
       "\n",
       "             SibSp  Parch            Ticket     Fare Cabin Embarked  \n",
       "PassengerId                                                          \n",
       "1                1      0         A/5 21171   7.2500   NaN        S  \n",
       "2                1      0          PC 17599  71.2833   C85        C  \n",
       "3                0      0  STON/O2. 3101282   7.9250   NaN        S  \n",
       "4                1      0            113803  53.1000  C123        S  \n",
       "5                0      0            373450   8.0500   NaN        S  "
      ]
     },
     "execution_count": 1,
     "metadata": {},
     "output_type": "execute_result"
    }
   ],
   "source": [
    "import pandas as pd\n",
    "data = pd.read_csv(\"train.csv\", index_col='PassengerId')\n",
    "data.head()"
   ]
  },
  {
   "cell_type": "markdown",
   "metadata": {
    "colab_type": "text",
    "id": "EDHw3sHgJXVj"
   },
   "source": [
    "#### About the data\n",
    "Here's some of the columns\n",
    "* Name - a string with person's full name\n",
    "* Survived - 1 if a person survived the shipwreck, 0 otherwise.\n",
    "* Pclass - passenger class. Pclass == 3 is cheap'n'cheerful, Pclass == 1 is for moneybags.\n",
    "* Sex - a person's gender\n",
    "* Age - age in years, if available\n",
    "* SibSp - number of siblings on a ship\n",
    "* Parch - number of parents on a ship\n",
    "* Fare - ticket cost\n",
    "* Embarked - port where the passenger embarked\n",
    " * C = Cherbourg; Q = Queenstown; S = Southampton"
   ]
  },
  {
   "cell_type": "code",
   "execution_count": 2,
   "metadata": {
    "colab": {},
    "colab_type": "code",
    "id": "xhb45c3NzHAU"
   },
   "outputs": [
    {
     "name": "stdout",
     "output_type": "stream",
     "text": [
      "Train accuracy: 0.8451519536903039\n",
      "Test accuracy: 0.82\n"
     ]
    }
   ],
   "source": [
    "from sklearn.linear_model import LogisticRegression\n",
    "from sklearn.pipeline import make_pipeline\n",
    "from sklearn.compose import make_column_transformer\n",
    "from sklearn.preprocessing import StandardScaler, RobustScaler, PolynomialFeatures, OneHotEncoder\n",
    "from sklearn.metrics import accuracy_score\n",
    "from sklearn.model_selection import train_test_split\n",
    "import numpy as np\n",
    "\n",
    "def feature_selection_and_preprocessing(dataset):\n",
    "    features = dataset.copy().drop(\"Ticket\", axis=1)\n",
    "    Name_dict = {\"Mr\": \"Mr\",\"Miss\": \"Miss\", \"Mrs\": \"Mrs\", \"Master\": \"Master\", \"Dr\": \"Job\", \"Rev\": \"Royalty\", \"Col\": \"Job\", \"Major\": \"Job\", \"Mlle\": \"Miss\", \"Sir\": \"Royalty\", \"Lady\": \"Royalty\", \"Ms\": \"Mrs\", \"Jonkheer\": \"Royalty\", \"Capt\": \"Job\", \"Mme\": \"Mrs\", \"the Countess\": \"Royalty\", \"Don\": \"Royalty\"}\n",
    "    features[\"Name\"] = features[\"Name\"].apply(lambda x: x.split(',')[1].split('.')[0].strip())\n",
    "    features[\"Name\"] = features[\"Name\"].map(Name_dict)\n",
    "    features[\"Sex\"].replace({\"female\": 0,\"male\": 1}, inplace=True)\n",
    "    features[\"Age\"] = features[\"Age\"].fillna(features[\"Age\"].median())\n",
    "    features[\"Embarked\"] = features[\"Embarked\"].fillna(features[\"Embarked\"].mode()[0])\n",
    "    features[\"Cabin\"] = features[\"Cabin\"].fillna(\"U\")\n",
    "    features[\"Cabin\"] = features[\"Cabin\"].apply(lambda x: x[0])\n",
    "    features[\"Relatives\"] = features[\"Parch\"] + features[\"SibSp\"]\n",
    "    features[\"Alone\"] = features[\"Relatives\"].apply(lambda x: 1 if x == 0 else 0)\n",
    "    features[\"Generation\"] = features[\"Relatives\"].apply(lambda x: 1 if 1 <= x <= 3  else 0)\n",
    "    features[\"Generations\"] = features[\"Relatives\"].apply(lambda x: 1 if x > 3  else 0)\n",
    "    \n",
    "    features[[\"Fare\"]] = features[[\"Fare\"]].apply(lambda x: (x - np.min(x)) / (np.max(x) - np.min(x)))\n",
    "    \n",
    "    features = features.join(pd.get_dummies(features[\"Embarked\"], prefix = \"Embarked\")).drop(\"Embarked\", axis=1)\n",
    "    features = features.join(pd.get_dummies(features[\"Pclass\"], prefix = \"Pclass\")).drop(\"Pclass\", axis=1)\n",
    "    features = features.join(pd.get_dummies(features[\"Name\"], prefix = \"Name\")).drop(\"Name\", axis=1)\n",
    "    features = features.join(pd.get_dummies(features[\"Cabin\"], prefix = \"Cabin\")).drop(\"Cabin\", axis=1)\n",
    "    \n",
    "    \n",
    "\n",
    "    return features[[\"Name_Miss\", \"Name_Master\", \"Name_Job\", \"Name_Mr\", \"Pclass_2\", \"Relatives\", \"Alone\", \"Cabin_B\", \"Cabin_C\", \"Cabin_D\", \"Cabin_E\", \"Cabin_U\", \"Embarked_C\", \"Embarked_Q\",  \"Sex\"]]\n",
    "\n",
    "model = make_pipeline(\n",
    "    # <YOUR CODE>\n",
    "    LogisticRegression()\n",
    ")\n",
    "\n",
    "\n",
    "# Validation code (do not touch)\n",
    "data = pd.read_csv(\"train.csv\", index_col='PassengerId')\n",
    "data_train, data_test = train_test_split(data, test_size=200, random_state=42)\n",
    "\n",
    "model.fit(\n",
    "    feature_selection_and_preprocessing(\n",
    "        data_train.drop('Survived', axis=1)\n",
    "    ),\n",
    "    data_train['Survived']\n",
    ")\n",
    "\n",
    "train_predictions = model.predict(\n",
    "    feature_selection_and_preprocessing(\n",
    "        data_train.drop('Survived', axis=1)\n",
    "    )\n",
    ")\n",
    "\n",
    "test_predictions = model.predict(\n",
    "    feature_selection_and_preprocessing(\n",
    "        data_test.drop('Survived', axis=1)\n",
    "    )\n",
    ")\n",
    "\n",
    "print(\"Train accuracy:\", accuracy_score(\n",
    "    data_train['Survived'],\n",
    "    train_predictions\n",
    "))\n",
    "print(\"Test accuracy:\", accuracy_score(\n",
    "    data_test['Survived'],\n",
    "    test_predictions\n",
    "))"
   ]
  }
 ],
 "metadata": {
  "colab": {
   "authorship_tag": "ABX9TyOAJnlQLeUs7yTF4/3n2RFU",
   "collapsed_sections": [],
   "include_colab_link": true,
   "name": "Classification_HW.ipynb",
   "provenance": []
  },
  "kernelspec": {
   "display_name": "Python 3 (ipykernel)",
   "language": "python",
   "name": "python3"
  },
  "language_info": {
   "codemirror_mode": {
    "name": "ipython",
    "version": 3
   },
   "file_extension": ".py",
   "mimetype": "text/x-python",
   "name": "python",
   "nbconvert_exporter": "python",
   "pygments_lexer": "ipython3",
   "version": "3.8.2"
  }
 },
 "nbformat": 4,
 "nbformat_minor": 1
}
