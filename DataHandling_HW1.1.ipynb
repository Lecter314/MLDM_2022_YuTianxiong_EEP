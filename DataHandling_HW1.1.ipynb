{
 "cells": [
  {
   "cell_type": "markdown",
   "metadata": {
    "colab_type": "text",
    "id": "view-in-github"
   },
   "source": [
    "<a href=\"https://colab.research.google.com/github/HSE-LAMBDA/MLDM-2022/blob/master/01-intro/DataHandling_HW.ipynb\" target=\"_parent\"><img src=\"https://colab.research.google.com/assets/colab-badge.svg\" alt=\"Open In Colab\"/></a>"
   ]
  },
  {
   "cell_type": "markdown",
   "metadata": {},
   "source": [
    "## Please, fill in before you start:"
   ]
  },
  {
   "cell_type": "markdown",
   "metadata": {},
   "source": [
    "First Name: Tianxiong\n",
    "\n",
    "Last Name: Yu\n",
    "\n",
    "Group: мээп224"
   ]
  },
  {
   "cell_type": "markdown",
   "metadata": {},
   "source": [
    "### After the assigment is done, please, push it to a [private GitHub repository](https://docs.github.com/en/github/administering-a-repository/managing-repository-settings/setting-repository-visibility) and invite [goodevening13](https://github.com/goodevening13), [abdalazizrashid](https://github.com/abdalazizrashid) and [rogachevai](https://github.com/rogachevai) [as collaborators](https://docs.github.com/en/account-and-profile/setting-up-and-managing-your-github-user-account/managing-access-to-your-personal-repositories/inviting-collaborators-to-a-personal-repository)."
   ]
  },
  {
   "cell_type": "markdown",
   "metadata": {
    "colab_type": "text",
    "id": "NXzOlAR5sPtS"
   },
   "source": [
    "Get the Titanic dataset:"
   ]
  },
  {
   "cell_type": "code",
   "execution_count": 1,
   "metadata": {},
   "outputs": [],
   "source": [
    "import wget"
   ]
  },
  {
   "cell_type": "code",
   "execution_count": 2,
   "metadata": {
    "colab": {},
    "colab_type": "code",
    "id": "4CWHxPY62I-D"
   },
   "outputs": [
    {
     "data": {
      "text/plain": [
       "'train.csv'"
      ]
     },
     "execution_count": 2,
     "metadata": {},
     "output_type": "execute_result"
    }
   ],
   "source": [
    "url = \"https://raw.githubusercontent.com/HSE-LAMBDA/MLDM-2022/main/01-intro/train.csv\"\n",
    "wget.download(url)"
   ]
  },
  {
   "cell_type": "markdown",
   "metadata": {},
   "source": [
    "#### Notice: raw data without preprocessing"
   ]
  },
  {
   "cell_type": "code",
   "execution_count": 1,
   "metadata": {
    "colab": {},
    "colab_type": "code",
    "id": "G36oVo3RJXVc"
   },
   "outputs": [
    {
     "data": {
      "text/html": [
       "<div>\n",
       "<style scoped>\n",
       "    .dataframe tbody tr th:only-of-type {\n",
       "        vertical-align: middle;\n",
       "    }\n",
       "\n",
       "    .dataframe tbody tr th {\n",
       "        vertical-align: top;\n",
       "    }\n",
       "\n",
       "    .dataframe thead th {\n",
       "        text-align: right;\n",
       "    }\n",
       "</style>\n",
       "<table border=\"1\" class=\"dataframe\">\n",
       "  <thead>\n",
       "    <tr style=\"text-align: right;\">\n",
       "      <th></th>\n",
       "      <th>Survived</th>\n",
       "      <th>Pclass</th>\n",
       "      <th>Name</th>\n",
       "      <th>Sex</th>\n",
       "      <th>Age</th>\n",
       "      <th>SibSp</th>\n",
       "      <th>Parch</th>\n",
       "      <th>Ticket</th>\n",
       "      <th>Fare</th>\n",
       "      <th>Cabin</th>\n",
       "      <th>Embarked</th>\n",
       "    </tr>\n",
       "    <tr>\n",
       "      <th>PassengerId</th>\n",
       "      <th></th>\n",
       "      <th></th>\n",
       "      <th></th>\n",
       "      <th></th>\n",
       "      <th></th>\n",
       "      <th></th>\n",
       "      <th></th>\n",
       "      <th></th>\n",
       "      <th></th>\n",
       "      <th></th>\n",
       "      <th></th>\n",
       "    </tr>\n",
       "  </thead>\n",
       "  <tbody>\n",
       "    <tr>\n",
       "      <th>1</th>\n",
       "      <td>0</td>\n",
       "      <td>3</td>\n",
       "      <td>Braund, Mr. Owen Harris</td>\n",
       "      <td>male</td>\n",
       "      <td>22.0</td>\n",
       "      <td>1</td>\n",
       "      <td>0</td>\n",
       "      <td>A/5 21171</td>\n",
       "      <td>7.2500</td>\n",
       "      <td>NaN</td>\n",
       "      <td>S</td>\n",
       "    </tr>\n",
       "    <tr>\n",
       "      <th>2</th>\n",
       "      <td>1</td>\n",
       "      <td>1</td>\n",
       "      <td>Cumings, Mrs. John Bradley (Florence Briggs Th...</td>\n",
       "      <td>female</td>\n",
       "      <td>38.0</td>\n",
       "      <td>1</td>\n",
       "      <td>0</td>\n",
       "      <td>PC 17599</td>\n",
       "      <td>71.2833</td>\n",
       "      <td>C85</td>\n",
       "      <td>C</td>\n",
       "    </tr>\n",
       "    <tr>\n",
       "      <th>3</th>\n",
       "      <td>1</td>\n",
       "      <td>3</td>\n",
       "      <td>Heikkinen, Miss. Laina</td>\n",
       "      <td>female</td>\n",
       "      <td>26.0</td>\n",
       "      <td>0</td>\n",
       "      <td>0</td>\n",
       "      <td>STON/O2. 3101282</td>\n",
       "      <td>7.9250</td>\n",
       "      <td>NaN</td>\n",
       "      <td>S</td>\n",
       "    </tr>\n",
       "    <tr>\n",
       "      <th>4</th>\n",
       "      <td>1</td>\n",
       "      <td>1</td>\n",
       "      <td>Futrelle, Mrs. Jacques Heath (Lily May Peel)</td>\n",
       "      <td>female</td>\n",
       "      <td>35.0</td>\n",
       "      <td>1</td>\n",
       "      <td>0</td>\n",
       "      <td>113803</td>\n",
       "      <td>53.1000</td>\n",
       "      <td>C123</td>\n",
       "      <td>S</td>\n",
       "    </tr>\n",
       "    <tr>\n",
       "      <th>5</th>\n",
       "      <td>0</td>\n",
       "      <td>3</td>\n",
       "      <td>Allen, Mr. William Henry</td>\n",
       "      <td>male</td>\n",
       "      <td>35.0</td>\n",
       "      <td>0</td>\n",
       "      <td>0</td>\n",
       "      <td>373450</td>\n",
       "      <td>8.0500</td>\n",
       "      <td>NaN</td>\n",
       "      <td>S</td>\n",
       "    </tr>\n",
       "  </tbody>\n",
       "</table>\n",
       "</div>"
      ],
      "text/plain": [
       "             Survived  Pclass  \\\n",
       "PassengerId                     \n",
       "1                   0       3   \n",
       "2                   1       1   \n",
       "3                   1       3   \n",
       "4                   1       1   \n",
       "5                   0       3   \n",
       "\n",
       "                                                          Name     Sex   Age  \\\n",
       "PassengerId                                                                    \n",
       "1                                      Braund, Mr. Owen Harris    male  22.0   \n",
       "2            Cumings, Mrs. John Bradley (Florence Briggs Th...  female  38.0   \n",
       "3                                       Heikkinen, Miss. Laina  female  26.0   \n",
       "4                 Futrelle, Mrs. Jacques Heath (Lily May Peel)  female  35.0   \n",
       "5                                     Allen, Mr. William Henry    male  35.0   \n",
       "\n",
       "             SibSp  Parch            Ticket     Fare Cabin Embarked  \n",
       "PassengerId                                                          \n",
       "1                1      0         A/5 21171   7.2500   NaN        S  \n",
       "2                1      0          PC 17599  71.2833   C85        C  \n",
       "3                0      0  STON/O2. 3101282   7.9250   NaN        S  \n",
       "4                1      0            113803  53.1000  C123        S  \n",
       "5                0      0            373450   8.0500   NaN        S  "
      ]
     },
     "execution_count": 1,
     "metadata": {},
     "output_type": "execute_result"
    }
   ],
   "source": [
    "import pandas as pd\n",
    "data = pd.read_csv(\"train.csv\", index_col=\"PassengerId\")\n",
    "data.head()"
   ]
  },
  {
   "cell_type": "markdown",
   "metadata": {
    "colab_type": "text",
    "id": "EDHw3sHgJXVj"
   },
   "source": [
    "#### About the data\n",
    "Here's some of the columns\n",
    "* Name - a string with person's full name\n",
    "* Survived - 1 if a person survived the shipwreck, 0 otherwise.\n",
    "* Pclass - passenger class. Pclass == 3 is cheap'n'cheerful, Pclass == 1 is for moneybags.\n",
    "* Sex - a person's gender\n",
    "* Age - age in years, if available\n",
    "* SibSp - number of siblings on a ship\n",
    "* Parch - number of parents on a ship\n",
    "* Fare - ticket cost\n",
    "* Embarked - port where the passenger embarked\n",
    " * C = Cherbourg; Q = Queenstown; S = Southampton"
   ]
  },
  {
   "cell_type": "markdown",
   "metadata": {
    "colab_type": "text",
    "id": "n2RcXTh7sf5u"
   },
   "source": [
    "## Task 1 (1 point)"
   ]
  },
  {
   "cell_type": "code",
   "execution_count": 2,
   "metadata": {
    "colab": {},
    "colab_type": "code",
    "id": "p7O68NpyJXWw"
   },
   "outputs": [
    {
     "data": {
      "text/html": [
       "<div>\n",
       "<style scoped>\n",
       "    .dataframe tbody tr th:only-of-type {\n",
       "        vertical-align: middle;\n",
       "    }\n",
       "\n",
       "    .dataframe tbody tr th {\n",
       "        vertical-align: top;\n",
       "    }\n",
       "\n",
       "    .dataframe thead th {\n",
       "        text-align: right;\n",
       "    }\n",
       "</style>\n",
       "<table border=\"1\" class=\"dataframe\">\n",
       "  <thead>\n",
       "    <tr style=\"text-align: right;\">\n",
       "      <th></th>\n",
       "      <th>SurvivalRate</th>\n",
       "    </tr>\n",
       "    <tr>\n",
       "      <th>Pclass</th>\n",
       "      <th></th>\n",
       "    </tr>\n",
       "  </thead>\n",
       "  <tbody>\n",
       "    <tr>\n",
       "      <th>1</th>\n",
       "      <td>0.63</td>\n",
       "    </tr>\n",
       "    <tr>\n",
       "      <th>2</th>\n",
       "      <td>0.47</td>\n",
       "    </tr>\n",
       "    <tr>\n",
       "      <th>3</th>\n",
       "      <td>0.24</td>\n",
       "    </tr>\n",
       "  </tbody>\n",
       "</table>\n",
       "</div>"
      ],
      "text/plain": [
       "        SurvivalRate\n",
       "Pclass              \n",
       "1               0.63\n",
       "2               0.47\n",
       "3               0.24"
      ]
     },
     "execution_count": 2,
     "metadata": {},
     "output_type": "execute_result"
    }
   ],
   "source": [
    "# Compute survival rate for each of the three passenger classes (`Pclass` = 1, 2 and 3)\n",
    "# (can you do it using groupby?)\n",
    "\n",
    "# <YOUR CODE>\n",
    "data_task1 = data.copy()\n",
    "data_task1 = data_task1[[\"Survived\",\"Pclass\"]].groupby([\"Pclass\"])[\"Survived\"].agg([\"sum\",\"count\"])\n",
    "data_task1[\"SurvivalRate\"] = data_task1.apply(lambda x: round(x[\"sum\"]/x[\"count\"],2),axis=1)\n",
    "data_task1[[\"SurvivalRate\"]]\n"
   ]
  },
  {
   "cell_type": "markdown",
   "metadata": {
    "colab_type": "text",
    "id": "qdeQs-GlvK-t"
   },
   "source": [
    "## Task 2 (1 point)"
   ]
  },
  {
   "cell_type": "code",
   "execution_count": 3,
   "metadata": {
    "colab": {},
    "colab_type": "code",
    "id": "FMGlVI6SuKRh"
   },
   "outputs": [
    {
     "data": {
      "image/png": "[encoded data removed]",
      "text/plain": [
       "<Figure size 432x288 with 1 Axes>"
      ]
     },
     "metadata": {
      "needs_background": "light"
     },
     "output_type": "display_data"
    }
   ],
   "source": [
    "# Plot the average number of parents onboard (`Parch`) as a function of the \n",
    "# number of siblings onboard (`SibSp`)\n",
    "\n",
    "# <YOUR CODE>\n",
    "import matplotlib.pyplot as plt\n",
    "data_task2 = data.copy()\n",
    "data_task2 = data_task2[[\"Parch\",\"SibSp\"]].groupby([\"SibSp\"]).mean().rename(columns={\"Parch\":'Parch_average'})\n",
    "data_task2.plot()\n",
    "plt.show()\n"
   ]
  },
  {
   "cell_type": "markdown",
   "metadata": {
    "colab_type": "text",
    "id": "uuqTMItiv8or"
   },
   "source": [
    "## Task 3 (2 points)"
   ]
  },
  {
   "cell_type": "code",
   "execution_count": 7,
   "metadata": {
    "colab": {},
    "colab_type": "code",
    "id": "JhbbBk93JXXV"
   },
   "outputs": [
    {
     "name": "stdout",
     "output_type": "stream",
     "text": [
      "Test accuracy: 0.83\n"
     ]
    }
   ],
   "source": [
    "# Build a model with KNeighborsClassifier to get the accuracy of\n",
    "# at least 0.75 on the validation part of the dataset\n",
    "\n",
    "from sklearn.neighbors import KNeighborsClassifier\n",
    "from sklearn.metrics import accuracy_score\n",
    "import numpy as np\n",
    "\n",
    "def feature_selection_and_preprocessing(dataset):\n",
    "    # <YOUR CODE>\n",
    "    features = dataset.copy()\n",
    "    features = features[[\"Pclass\",\"Sex\",\"Age\",\"SibSp\",\"Parch\"]]\n",
    "    features[\"Age\"] = features[\"Age\"].fillna(features[\"Age\"].median())\n",
    "    features[\"Sex\"].replace({\"female\": 0,\"male\": 1}, inplace=True)\n",
    "    features[[\"Age\",\"SibSp\",\"Parch\"]] = features[[\"Age\",\"SibSp\",\"Parch\"]].apply(lambda x: (x - np.min(x)) / (np.max(x) - np.min(x)))\n",
    "    return features\n",
    "\n",
    "\n",
    "model = KNeighborsClassifier(\n",
    "    # <YOUR CODE>\n",
    "    n_neighbors=3\n",
    ")\n",
    "\n",
    "# Validation code (do not touch)\n",
    "data = pd.read_csv(\"train.csv\", index_col='PassengerId')\n",
    "data_train = data.iloc[:-100]\n",
    "data_test = data.iloc[-100:]\n",
    "\n",
    "model.fit(\n",
    "    feature_selection_and_preprocessing(\n",
    "        data_train.drop('Survived', axis=1)\n",
    "    ),\n",
    "    data_train['Survived']\n",
    ")\n",
    "\n",
    "test_predictions = model.predict(\n",
    "    feature_selection_and_preprocessing(\n",
    "        data_test.drop('Survived', axis=1)\n",
    "    )\n",
    ")\n",
    "print(\"Test accuracy:\", accuracy_score(\n",
    "    data_test['Survived'],\n",
    "    test_predictions\n",
    "))\n"
   ]
  },
  {
   "cell_type": "markdown",
   "metadata": {
    "colab_type": "text",
    "id": "7YcV2BSy2_yu"
   },
   "source": [
    "## Task 4 (2 points)"
   ]
  },
  {
   "cell_type": "markdown",
   "metadata": {
    "colab_type": "text",
    "id": "jZjuqx3K3KiD"
   },
   "source": [
    "Check how your model from the previous task performs on randomized splits to train / test (with test set of size 100). Plot the histogram of the test error distribution.\n",
    "\n",
    "*Hint: check sklearn's `sklearn.model_selection.train_test_split` function.*"
   ]
  },
  {
   "cell_type": "code",
   "execution_count": 28,
   "metadata": {
    "colab": {},
    "colab_type": "code",
    "id": "WB6SCY2I3Dgb"
   },
   "outputs": [
    {
     "data": {
      "text/plain": [
       "'from sklearn.model_selection import train_test_split\\n\\n# <YOUR CODE>\\ndata_task4 = data.copy()\\nX_train, X_test, y_train, y_test = train_test_split(\\n    feature_selection_and_preprocessing(data_task4.drop(\\'Survived\\', axis=1)), data_task4[\\'Survived\\'], test_size=100, random_state=2)\\n\\nmodel = KNeighborsClassifier(n_neighbors=3)\\nmodel.fit(X_train,y_train)\\npredictions = model.predict(X_train)\\n\\nf,ax = plt.subplots()\\nplt.tight_layout()\\nax.hist(y_train - predictions, bins=10, label=\"test error\", density=True)\\nplt.suptitle(\\'Histogram of the test error distribution\\', fontsize=15, y=1.12)\\nax.legend(loc=\"best\")\\n'"
      ]
     },
     "execution_count": 28,
     "metadata": {},
     "output_type": "execute_result"
    }
   ],
   "source": [
    "'''from sklearn.model_selection import train_test_split\n",
    "\n",
    "# <YOUR CODE>\n",
    "data_task4 = data.copy()\n",
    "X_train, X_test, y_train, y_test = train_test_split(\n",
    "    feature_selection_and_preprocessing(data_task4.drop('Survived', axis=1)), data_task4['Survived'], test_size=100, random_state=2)\n",
    "\n",
    "model = KNeighborsClassifier(n_neighbors=3)\n",
    "model.fit(X_train,y_train)\n",
    "predictions = model.predict(X_train)\n",
    "\n",
    "f,ax = plt.subplots()\n",
    "plt.tight_layout()\n",
    "ax.hist(y_train - predictions, bins=10, label=\"test error\", density=True)\n",
    "plt.suptitle('Histogram of the test error distribution', fontsize=15, y=1.12)\n",
    "ax.legend(loc=\"best\")\n",
    "'''"
   ]
  },
  {
   "cell_type": "code",
   "execution_count": 18,
   "metadata": {},
   "outputs": [],
   "source": [
    "from sklearn.metrics import mean_squared_error\n",
    "from sklearn.model_selection import train_test_split\n",
    "\n",
    "# <YOUR CODE>\n",
    "data_task4 = data.copy()\n",
    "\n",
    "def MSE(dataset, random_state): # use MSE as evaluation criteria\n",
    "    X_train, X_test, y_train, y_test = train_test_split(\n",
    "    feature_selection_and_preprocessing(dataset.drop('Survived', axis=1)), dataset['Survived'], test_size=100, random_state=random_state)\n",
    "    model = KNeighborsClassifier(n_neighbors=3)\n",
    "    model.fit(X_train,y_train)\n",
    "    y_pred = model.predict(X_test)\n",
    "    return mean_squared_error(y_test, y_pred)\n",
    "\n",
    "MSE_list = []\n",
    "for iter in range(1000):\n",
    "    test_error = MSE(data_task4, iter)\n",
    "    MSE_list.append(test_error)"
   ]
  },
  {
   "cell_type": "code",
   "execution_count": 19,
   "metadata": {},
   "outputs": [
    {
     "data": {
      "text/plain": [
       "<matplotlib.legend.Legend at 0x1f63512b6d0>"
      ]
     },
     "execution_count": 19,
     "metadata": {},
     "output_type": "execute_result"
    },
    {
     "data": {
      "image/png": "[encoded data removed]",
      "text/plain": [
       "<Figure size 432x288 with 1 Axes>"
      ]
     },
     "metadata": {
      "needs_background": "light"
     },
     "output_type": "display_data"
    }
   ],
   "source": [
    "f,ax = plt.subplots()\n",
    "plt.tight_layout()\n",
    "ax.hist(MSE_list, bins=50, label=\"test error\", density=True)\n",
    "plt.suptitle('Histogram of the test error distribution', fontsize=15, y=1.12)\n",
    "ax.legend(loc=\"best\")"
   ]
  }
 ],
 "metadata": {
  "colab": {
   "collapsed_sections": [],
   "include_colab_link": true,
   "name": "DataHandling_HW.ipynb",
   "provenance": [],
   "toc_visible": true
  },
  "kernelspec": {
   "display_name": "Python 3",
   "language": "python",
   "name": "python3"
  },
  "language_info": {
   "codemirror_mode": {
    "name": "ipython",
    "version": 3
   },
   "file_extension": ".py",
   "mimetype": "text/x-python",
   "name": "python",
   "nbconvert_exporter": "python",
   "pygments_lexer": "ipython3",
   "version": "3.8.2"
  }
 },
 "nbformat": 4,
 "nbformat_minor": 1
}
