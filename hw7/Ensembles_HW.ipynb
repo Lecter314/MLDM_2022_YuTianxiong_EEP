{
 "cells": [
  {
   "cell_type": "markdown",
   "metadata": {
    "colab_type": "text",
    "id": "view-in-github"
   },
   "source": [
    "<a href=\"https://colab.research.google.com/github/HSE-LAMBDA/MLDM-2021/blob/master/08-ensembles/Ensembles_HW.ipynb\" target=\"_parent\"><img src=\"https://colab.research.google.com/assets/colab-badge.svg\" alt=\"Open In Colab\"/></a>"
   ]
  },
  {
   "cell_type": "code",
   "execution_count": 1,
   "metadata": {
    "colab": {
     "base_uri": "https://localhost:8080/",
     "height": 376
    },
    "id": "cF5wcLSHBOw-",
    "outputId": "26e392a4-0f6f-456b-97aa-e44c3bb63b54"
   },
   "outputs": [
    {
     "name": "stdout",
     "output_type": "stream",
     "text": [
      "20640\n"
     ]
    },
    {
     "data": {
      "text/html": [
       "<div>\n",
       "<style scoped>\n",
       "    .dataframe tbody tr th:only-of-type {\n",
       "        vertical-align: middle;\n",
       "    }\n",
       "\n",
       "    .dataframe tbody tr th {\n",
       "        vertical-align: top;\n",
       "    }\n",
       "\n",
       "    .dataframe thead th {\n",
       "        text-align: right;\n",
       "    }\n",
       "</style>\n",
       "<table border=\"1\" class=\"dataframe\">\n",
       "  <thead>\n",
       "    <tr style=\"text-align: right;\">\n",
       "      <th></th>\n",
       "      <th>MedInc</th>\n",
       "      <th>HouseAge</th>\n",
       "      <th>AveRooms</th>\n",
       "      <th>AveBedrms</th>\n",
       "      <th>Population</th>\n",
       "      <th>AveOccup</th>\n",
       "      <th>Latitude</th>\n",
       "      <th>Longitude</th>\n",
       "      <th>target</th>\n",
       "    </tr>\n",
       "  </thead>\n",
       "  <tbody>\n",
       "    <tr>\n",
       "      <th>0</th>\n",
       "      <td>8.3252</td>\n",
       "      <td>41.0</td>\n",
       "      <td>6.984127</td>\n",
       "      <td>1.023810</td>\n",
       "      <td>322.0</td>\n",
       "      <td>2.555556</td>\n",
       "      <td>37.88</td>\n",
       "      <td>-122.23</td>\n",
       "      <td>4.526</td>\n",
       "    </tr>\n",
       "    <tr>\n",
       "      <th>1</th>\n",
       "      <td>8.3014</td>\n",
       "      <td>21.0</td>\n",
       "      <td>6.238137</td>\n",
       "      <td>0.971880</td>\n",
       "      <td>2401.0</td>\n",
       "      <td>2.109842</td>\n",
       "      <td>37.86</td>\n",
       "      <td>-122.22</td>\n",
       "      <td>3.585</td>\n",
       "    </tr>\n",
       "    <tr>\n",
       "      <th>2</th>\n",
       "      <td>7.2574</td>\n",
       "      <td>52.0</td>\n",
       "      <td>8.288136</td>\n",
       "      <td>1.073446</td>\n",
       "      <td>496.0</td>\n",
       "      <td>2.802260</td>\n",
       "      <td>37.85</td>\n",
       "      <td>-122.24</td>\n",
       "      <td>3.521</td>\n",
       "    </tr>\n",
       "    <tr>\n",
       "      <th>3</th>\n",
       "      <td>5.6431</td>\n",
       "      <td>52.0</td>\n",
       "      <td>5.817352</td>\n",
       "      <td>1.073059</td>\n",
       "      <td>558.0</td>\n",
       "      <td>2.547945</td>\n",
       "      <td>37.85</td>\n",
       "      <td>-122.25</td>\n",
       "      <td>3.413</td>\n",
       "    </tr>\n",
       "    <tr>\n",
       "      <th>4</th>\n",
       "      <td>3.8462</td>\n",
       "      <td>52.0</td>\n",
       "      <td>6.281853</td>\n",
       "      <td>1.081081</td>\n",
       "      <td>565.0</td>\n",
       "      <td>2.181467</td>\n",
       "      <td>37.85</td>\n",
       "      <td>-122.25</td>\n",
       "      <td>3.422</td>\n",
       "    </tr>\n",
       "    <tr>\n",
       "      <th>5</th>\n",
       "      <td>4.0368</td>\n",
       "      <td>52.0</td>\n",
       "      <td>4.761658</td>\n",
       "      <td>1.103627</td>\n",
       "      <td>413.0</td>\n",
       "      <td>2.139896</td>\n",
       "      <td>37.85</td>\n",
       "      <td>-122.25</td>\n",
       "      <td>2.697</td>\n",
       "    </tr>\n",
       "    <tr>\n",
       "      <th>6</th>\n",
       "      <td>3.6591</td>\n",
       "      <td>52.0</td>\n",
       "      <td>4.931907</td>\n",
       "      <td>0.951362</td>\n",
       "      <td>1094.0</td>\n",
       "      <td>2.128405</td>\n",
       "      <td>37.84</td>\n",
       "      <td>-122.25</td>\n",
       "      <td>2.992</td>\n",
       "    </tr>\n",
       "    <tr>\n",
       "      <th>7</th>\n",
       "      <td>3.1200</td>\n",
       "      <td>52.0</td>\n",
       "      <td>4.797527</td>\n",
       "      <td>1.061824</td>\n",
       "      <td>1157.0</td>\n",
       "      <td>1.788253</td>\n",
       "      <td>37.84</td>\n",
       "      <td>-122.25</td>\n",
       "      <td>2.414</td>\n",
       "    </tr>\n",
       "    <tr>\n",
       "      <th>8</th>\n",
       "      <td>2.0804</td>\n",
       "      <td>42.0</td>\n",
       "      <td>4.294118</td>\n",
       "      <td>1.117647</td>\n",
       "      <td>1206.0</td>\n",
       "      <td>2.026891</td>\n",
       "      <td>37.84</td>\n",
       "      <td>-122.26</td>\n",
       "      <td>2.267</td>\n",
       "    </tr>\n",
       "    <tr>\n",
       "      <th>9</th>\n",
       "      <td>3.6912</td>\n",
       "      <td>52.0</td>\n",
       "      <td>4.970588</td>\n",
       "      <td>0.990196</td>\n",
       "      <td>1551.0</td>\n",
       "      <td>2.172269</td>\n",
       "      <td>37.84</td>\n",
       "      <td>-122.25</td>\n",
       "      <td>2.611</td>\n",
       "    </tr>\n",
       "  </tbody>\n",
       "</table>\n",
       "</div>"
      ],
      "text/plain": [
       "   MedInc  HouseAge  AveRooms  AveBedrms  Population  AveOccup  Latitude  \\\n",
       "0  8.3252      41.0  6.984127   1.023810       322.0  2.555556     37.88   \n",
       "1  8.3014      21.0  6.238137   0.971880      2401.0  2.109842     37.86   \n",
       "2  7.2574      52.0  8.288136   1.073446       496.0  2.802260     37.85   \n",
       "3  5.6431      52.0  5.817352   1.073059       558.0  2.547945     37.85   \n",
       "4  3.8462      52.0  6.281853   1.081081       565.0  2.181467     37.85   \n",
       "5  4.0368      52.0  4.761658   1.103627       413.0  2.139896     37.85   \n",
       "6  3.6591      52.0  4.931907   0.951362      1094.0  2.128405     37.84   \n",
       "7  3.1200      52.0  4.797527   1.061824      1157.0  1.788253     37.84   \n",
       "8  2.0804      42.0  4.294118   1.117647      1206.0  2.026891     37.84   \n",
       "9  3.6912      52.0  4.970588   0.990196      1551.0  2.172269     37.84   \n",
       "\n",
       "   Longitude  target  \n",
       "0    -122.23   4.526  \n",
       "1    -122.22   3.585  \n",
       "2    -122.24   3.521  \n",
       "3    -122.25   3.413  \n",
       "4    -122.25   3.422  \n",
       "5    -122.25   2.697  \n",
       "6    -122.25   2.992  \n",
       "7    -122.25   2.414  \n",
       "8    -122.26   2.267  \n",
       "9    -122.25   2.611  "
      ]
     },
     "execution_count": 1,
     "metadata": {},
     "output_type": "execute_result"
    }
   ],
   "source": [
    "import matplotlib.pyplot as plt\n",
    "import pandas as pd\n",
    "from sklearn.datasets import fetch_california_housing\n",
    "from sklearn.model_selection import train_test_split\n",
    "\n",
    "\n",
    "dataset = fetch_california_housing()\n",
    "\n",
    "data = pd.DataFrame(dataset.data, columns=dataset.feature_names)\n",
    "data['target'] = dataset.target\n",
    "\n",
    "print(len(data))\n",
    "data.head(10)"
   ]
  },
  {
   "cell_type": "code",
   "execution_count": 2,
   "metadata": {
    "colab": {
     "base_uri": "https://localhost:8080/"
    },
    "id": "R-dhzIu9HLcF",
    "outputId": "98977dcf-d4d6-4310-e744-8a899f79027f"
   },
   "outputs": [
    {
     "name": "stdout",
     "output_type": "stream",
     "text": [
      ".. _california_housing_dataset:\n",
      "\n",
      "California Housing dataset\n",
      "--------------------------\n",
      "\n",
      "**Data Set Characteristics:**\n",
      "\n",
      "    :Number of Instances: 20640\n",
      "\n",
      "    :Number of Attributes: 8 numeric, predictive attributes and the target\n",
      "\n",
      "    :Attribute Information:\n",
      "        - MedInc        median income in block group\n",
      "        - HouseAge      median house age in block group\n",
      "        - AveRooms      average number of rooms per household\n",
      "        - AveBedrms     average number of bedrooms per household\n",
      "        - Population    block group population\n",
      "        - AveOccup      average number of household members\n",
      "        - Latitude      block group latitude\n",
      "        - Longitude     block group longitude\n",
      "\n",
      "    :Missing Attribute Values: None\n",
      "\n",
      "This dataset was obtained from the StatLib repository.\n",
      "https://www.dcc.fc.up.pt/~ltorgo/Regression/cal_housing.html\n",
      "\n",
      "The target variable is the median house value for California districts,\n",
      "expressed in hundreds of thousands of dollars ($100,000).\n",
      "\n",
      "This dataset was derived from the 1990 U.S. census, using one row per census\n",
      "block group. A block group is the smallest geographical unit for which the U.S.\n",
      "Census Bureau publishes sample data (a block group typically has a population\n",
      "of 600 to 3,000 people).\n",
      "\n",
      "An household is a group of people residing within a home. Since the average\n",
      "number of rooms and bedrooms in this dataset are provided per household, these\n",
      "columns may take surpinsingly large values for block groups with few households\n",
      "and many empty houses, such as vacation resorts.\n",
      "\n",
      "It can be downloaded/loaded using the\n",
      ":func:`sklearn.datasets.fetch_california_housing` function.\n",
      "\n",
      ".. topic:: References\n",
      "\n",
      "    - Pace, R. Kelley and Ronald Barry, Sparse Spatial Autoregressions,\n",
      "      Statistics and Probability Letters, 33 (1997) 291-297\n",
      "\n"
     ]
    }
   ],
   "source": [
    "print(dataset.DESCR)"
   ]
  },
  {
   "cell_type": "markdown",
   "metadata": {
    "id": "ZtGrJYtvHIKT"
   },
   "source": [
    "This data contains 2 spacial features: `['Longitude', 'Latitude']`:"
   ]
  },
  {
   "cell_type": "code",
   "execution_count": 3,
   "metadata": {
    "colab": {
     "base_uri": "https://localhost:8080/",
     "height": 362
    },
    "id": "-9cf0j7qBmTr",
    "outputId": "926455e7-e19a-4132-be48-f336cf2e8526"
   },
   "outputs": [
    {
     "data": {
      "image/png": "[encoded data removed]",
      "text/plain": [
       "<Figure size 500x400 with 1 Axes>"
      ]
     },
     "metadata": {
      "needs_background": "light"
     },
     "output_type": "display_data"
    }
   ],
   "source": [
    "plt.figure(figsize=(5, 4), dpi=100)\n",
    "plt.scatter(data.Longitude, data.Latitude, s=data.target, c=data.target, cmap='bwr');"
   ]
  },
  {
   "cell_type": "markdown",
   "metadata": {
    "id": "53JksV8hLeqn"
   },
   "source": [
    "(Compare this plot with the map of California: https://en.wikipedia.org/wiki/California)"
   ]
  },
  {
   "cell_type": "markdown",
   "metadata": {
    "id": "OPHN4_8pH6qB"
   },
   "source": [
    "A kNN model might be quite reasonable to use on this 2D subspace.\n",
    "\n",
    "Let's first divide our data into train and test:"
   ]
  },
  {
   "cell_type": "code",
   "execution_count": 4,
   "metadata": {
    "colab": {
     "base_uri": "https://localhost:8080/"
    },
    "id": "l8boBXE9DsU9",
    "outputId": "7ef91625-fd9e-41f1-a5e6-81e0fb0d76db"
   },
   "outputs": [
    {
     "name": "stdout",
     "output_type": "stream",
     "text": [
      "(15480, 8) (5160, 8) (15480,) (5160,)\n"
     ]
    }
   ],
   "source": [
    "X, y = data.drop('target', axis=1), data['target']\n",
    "X_train, X_test, y_train, y_test = train_test_split(X, y, test_size=0.25, random_state=1234)\n",
    "print(X_train.shape, X_test.shape, y_train.shape, y_test.shape)"
   ]
  },
  {
   "cell_type": "markdown",
   "metadata": {
    "id": "opXKafmeIJHl"
   },
   "source": [
    " - Build a kNN regressor on the `Longitude` and `Latitude` features (**0.5 point**)\n",
    " - Build a random forest regressor on the rest of the features (**0.5 point**)\n",
    " - Build a stacking regressor (`sklearn.ensemble.StackingRegressor`) with 5-fold cross-val-predict using the two models above as the base models and a linear regression model as the final (aggregating) estimator. Don't forget to optimize hyper-parameters of your models. (**4 points**)\n",
    " - Compare the test MSE losses of the 3 models above, leave a comment (**1 point**)\n",
    " \n",
    "\n",
    "Make sure to have a look at the documentation: \n",
    "https://scikit-learn.org/stable/modules/ensemble.html#stacking\n",
    "\n",
    "You can make a pipeline (`sklearn.pipeline.make_pipeline`) with a `ColumnTransformer` (`sklearn.compose.make_column_transformer`) and a regression model (knn or random forest), where the `ColumnTransformer` will select the desired columns from the dataset (see the docs for the column transformer: https://scikit-learn.org/stable/modules/generated/sklearn.compose.make_column_transformer.html)."
   ]
  },
  {
   "cell_type": "code",
   "execution_count": 5,
   "metadata": {
    "id": "BwU6mwZ_Chu0"
   },
   "outputs": [],
   "source": [
    "from sklearn.compose import make_column_transformer\n",
    "from sklearn.pipeline import make_pipeline\n",
    "from sklearn.neighbors import KNeighborsRegressor\n",
    "from sklearn.ensemble import RandomForestRegressor, StackingRegressor\n",
    "from sklearn.linear_model import LinearRegression\n",
    "\n",
    "from sklearn.metrics import mean_squared_error"
   ]
  },
  {
   "cell_type": "code",
   "execution_count": 70,
   "metadata": {
    "id": "vdQRhLvSBuV1"
   },
   "outputs": [
    {
     "name": "stdout",
     "output_type": "stream",
     "text": [
      "knn_train_score: 0.8655928266286465\n",
      "knn_test_score: 0.7782897393301681\n",
      "rf_train_score: 0.9563124113443552\n",
      "rf_test_score: 0.6769397997283682\n"
     ]
    }
   ],
   "source": [
    "# task 1\n",
    "knn = KNeighborsRegressor()\n",
    "knn.fit(X_train[[\"Longitude\", \"Latitude\"]], y_train)\n",
    "print(\"knn_train_score: \" + str(knn.score(X_train[[\"Longitude\", \"Latitude\"]], y_train)))\n",
    "print(\"knn_test_score: \" + str(knn.score(X_test[[\"Longitude\", \"Latitude\"]], y_test)))\n",
    "\n",
    "# task 2\n",
    "rf = RandomForestRegressor(random_state=42)\n",
    "rf.fit(X_train.drop([\"Longitude\", \"Latitude\"], axis=1), y_train)\n",
    "print(\"rf_train_score: \" + str(rf.score(X_train.drop([\"Longitude\", \"Latitude\"], axis=1), y_train))) # doubting overfitting\n",
    "print(\"rf_test_score: \" + str(rf.score(X_test.drop([\"Longitude\", \"Latitude\"], axis=1), y_test)))"
   ]
  },
  {
   "cell_type": "code",
   "execution_count": 71,
   "metadata": {},
   "outputs": [
    {
     "data": {
      "text/html": [
       "<style>#sk-container-id-18 {color: black;background-color: white;}#sk-container-id-18 pre{padding: 0;}#sk-container-id-18 div.sk-toggleable {background-color: white;}#sk-container-id-18 label.sk-toggleable__label {cursor: pointer;display: block;width: 100%;margin-bottom: 0;padding: 0.3em;box-sizing: border-box;text-align: center;}#sk-container-id-18 label.sk-toggleable__label-arrow:before {content: \"▸\";float: left;margin-right: 0.25em;color: #696969;}#sk-container-id-18 label.sk-toggleable__label-arrow:hover:before {color: black;}#sk-container-id-18 div.sk-estimator:hover label.sk-toggleable__label-arrow:before {color: black;}#sk-container-id-18 div.sk-toggleable__content {max-height: 0;max-width: 0;overflow: hidden;text-align: left;background-color: #f0f8ff;}#sk-container-id-18 div.sk-toggleable__content pre {margin: 0.2em;color: black;border-radius: 0.25em;background-color: #f0f8ff;}#sk-container-id-18 input.sk-toggleable__control:checked~div.sk-toggleable__content {max-height: 200px;max-width: 100%;overflow: auto;}#sk-container-id-18 input.sk-toggleable__control:checked~label.sk-toggleable__label-arrow:before {content: \"▾\";}#sk-container-id-18 div.sk-estimator input.sk-toggleable__control:checked~label.sk-toggleable__label {background-color: #d4ebff;}#sk-container-id-18 div.sk-label input.sk-toggleable__control:checked~label.sk-toggleable__label {background-color: #d4ebff;}#sk-container-id-18 input.sk-hidden--visually {border: 0;clip: rect(1px 1px 1px 1px);clip: rect(1px, 1px, 1px, 1px);height: 1px;margin: -1px;overflow: hidden;padding: 0;position: absolute;width: 1px;}#sk-container-id-18 div.sk-estimator {font-family: monospace;background-color: #f0f8ff;border: 1px dotted black;border-radius: 0.25em;box-sizing: border-box;margin-bottom: 0.5em;}#sk-container-id-18 div.sk-estimator:hover {background-color: #d4ebff;}#sk-container-id-18 div.sk-parallel-item::after {content: \"\";width: 100%;border-bottom: 1px solid gray;flex-grow: 1;}#sk-container-id-18 div.sk-label:hover label.sk-toggleable__label {background-color: #d4ebff;}#sk-container-id-18 div.sk-serial::before {content: \"\";position: absolute;border-left: 1px solid gray;box-sizing: border-box;top: 0;bottom: 0;left: 50%;z-index: 0;}#sk-container-id-18 div.sk-serial {display: flex;flex-direction: column;align-items: center;background-color: white;padding-right: 0.2em;padding-left: 0.2em;position: relative;}#sk-container-id-18 div.sk-item {position: relative;z-index: 1;}#sk-container-id-18 div.sk-parallel {display: flex;align-items: stretch;justify-content: center;background-color: white;position: relative;}#sk-container-id-18 div.sk-item::before, #sk-container-id-18 div.sk-parallel-item::before {content: \"\";position: absolute;border-left: 1px solid gray;box-sizing: border-box;top: 0;bottom: 0;left: 50%;z-index: -1;}#sk-container-id-18 div.sk-parallel-item {display: flex;flex-direction: column;z-index: 1;position: relative;background-color: white;}#sk-container-id-18 div.sk-parallel-item:first-child::after {align-self: flex-end;width: 50%;}#sk-container-id-18 div.sk-parallel-item:last-child::after {align-self: flex-start;width: 50%;}#sk-container-id-18 div.sk-parallel-item:only-child::after {width: 0;}#sk-container-id-18 div.sk-dashed-wrapped {border: 1px dashed gray;margin: 0 0.4em 0.5em 0.4em;box-sizing: border-box;padding-bottom: 0.4em;background-color: white;}#sk-container-id-18 div.sk-label label {font-family: monospace;font-weight: bold;display: inline-block;line-height: 1.2em;}#sk-container-id-18 div.sk-label-container {text-align: center;}#sk-container-id-18 div.sk-container {/* jupyter's `normalize.less` sets `[hidden] { display: none; }` but bootstrap.min.css set `[hidden] { display: none !important; }` so we also need the `!important` here to be able to override the default hidden behavior on the sphinx rendered scikit-learn.org. See: https://github.com/scikit-learn/scikit-learn/issues/21755 */display: inline-block !important;position: relative;}#sk-container-id-18 div.sk-text-repr-fallback {display: none;}</style><div id=\"sk-container-id-18\" class=\"sk-top-container\"><div class=\"sk-text-repr-fallback\"><pre>StackingRegressor(cv=5,\n",
       "                  estimators=[(&#x27;kNN&#x27;,\n",
       "                               Pipeline(steps=[(&#x27;columntransformer&#x27;,\n",
       "                                                ColumnTransformer(transformers=[(&#x27;passthrough&#x27;,\n",
       "                                                                                 &#x27;passthrough&#x27;,\n",
       "                                                                                 [&#x27;Longitude&#x27;,\n",
       "                                                                                  &#x27;Latitude&#x27;])])),\n",
       "                                               (&#x27;kneighborsregressor&#x27;,\n",
       "                                                KNeighborsRegressor())])),\n",
       "                              (&#x27;random_forest&#x27;,\n",
       "                               Pipeline(steps=[(&#x27;columntransformer&#x27;,\n",
       "                                                ColumnTransformer(transformers=[(&#x27;passthrough&#x27;,\n",
       "                                                                                 &#x27;passthrough&#x27;,\n",
       "                                                                                 [&#x27;MedInc&#x27;,\n",
       "                                                                                  &#x27;HouseAge&#x27;,\n",
       "                                                                                  &#x27;AveRooms&#x27;,\n",
       "                                                                                  &#x27;AveBedrms&#x27;,\n",
       "                                                                                  &#x27;Population&#x27;,\n",
       "                                                                                  &#x27;AveOccup&#x27;])])),\n",
       "                                               (&#x27;randomforestregressor&#x27;,\n",
       "                                                RandomForestRegressor(random_state=42))]))],\n",
       "                  final_estimator=LinearRegression())</pre><b>In a Jupyter environment, please rerun this cell to show the HTML representation or trust the notebook. <br />On GitHub, the HTML representation is unable to render, please try loading this page with nbviewer.org.</b></div><div class=\"sk-container\" hidden><div class=\"sk-item sk-dashed-wrapped\"><div class=\"sk-label-container\"><div class=\"sk-label sk-toggleable\"><input class=\"sk-toggleable__control sk-hidden--visually\" id=\"sk-estimator-id-134\" type=\"checkbox\" ><label for=\"sk-estimator-id-134\" class=\"sk-toggleable__label sk-toggleable__label-arrow\">StackingRegressor</label><div class=\"sk-toggleable__content\"><pre>StackingRegressor(cv=5,\n",
       "                  estimators=[(&#x27;kNN&#x27;,\n",
       "                               Pipeline(steps=[(&#x27;columntransformer&#x27;,\n",
       "                                                ColumnTransformer(transformers=[(&#x27;passthrough&#x27;,\n",
       "                                                                                 &#x27;passthrough&#x27;,\n",
       "                                                                                 [&#x27;Longitude&#x27;,\n",
       "                                                                                  &#x27;Latitude&#x27;])])),\n",
       "                                               (&#x27;kneighborsregressor&#x27;,\n",
       "                                                KNeighborsRegressor())])),\n",
       "                              (&#x27;random_forest&#x27;,\n",
       "                               Pipeline(steps=[(&#x27;columntransformer&#x27;,\n",
       "                                                ColumnTransformer(transformers=[(&#x27;passthrough&#x27;,\n",
       "                                                                                 &#x27;passthrough&#x27;,\n",
       "                                                                                 [&#x27;MedInc&#x27;,\n",
       "                                                                                  &#x27;HouseAge&#x27;,\n",
       "                                                                                  &#x27;AveRooms&#x27;,\n",
       "                                                                                  &#x27;AveBedrms&#x27;,\n",
       "                                                                                  &#x27;Population&#x27;,\n",
       "                                                                                  &#x27;AveOccup&#x27;])])),\n",
       "                                               (&#x27;randomforestregressor&#x27;,\n",
       "                                                RandomForestRegressor(random_state=42))]))],\n",
       "                  final_estimator=LinearRegression())</pre></div></div></div><div class=\"sk-serial\"><div class=\"sk-item\"><div class=\"sk-parallel\"><div class=\"sk-parallel-item\"><div class=\"sk-item\"><div class=\"sk-label-container\"><div class=\"sk-label sk-toggleable\"><label>kNN</label></div></div><div class=\"sk-serial\"><div class=\"sk-item\"><div class=\"sk-serial\"><div class=\"sk-item sk-dashed-wrapped\"><div class=\"sk-label-container\"><div class=\"sk-label sk-toggleable\"><input class=\"sk-toggleable__control sk-hidden--visually\" id=\"sk-estimator-id-135\" type=\"checkbox\" ><label for=\"sk-estimator-id-135\" class=\"sk-toggleable__label sk-toggleable__label-arrow\">columntransformer: ColumnTransformer</label><div class=\"sk-toggleable__content\"><pre>ColumnTransformer(transformers=[(&#x27;passthrough&#x27;, &#x27;passthrough&#x27;,\n",
       "                                 [&#x27;Longitude&#x27;, &#x27;Latitude&#x27;])])</pre></div></div></div><div class=\"sk-parallel\"><div class=\"sk-parallel-item\"><div class=\"sk-item\"><div class=\"sk-label-container\"><div class=\"sk-label sk-toggleable\"><input class=\"sk-toggleable__control sk-hidden--visually\" id=\"sk-estimator-id-136\" type=\"checkbox\" ><label for=\"sk-estimator-id-136\" class=\"sk-toggleable__label sk-toggleable__label-arrow\">passthrough</label><div class=\"sk-toggleable__content\"><pre>[&#x27;Longitude&#x27;, &#x27;Latitude&#x27;]</pre></div></div></div><div class=\"sk-serial\"><div class=\"sk-item\"><div class=\"sk-estimator sk-toggleable\"><input class=\"sk-toggleable__control sk-hidden--visually\" id=\"sk-estimator-id-137\" type=\"checkbox\" ><label for=\"sk-estimator-id-137\" class=\"sk-toggleable__label sk-toggleable__label-arrow\">passthrough</label><div class=\"sk-toggleable__content\"><pre>passthrough</pre></div></div></div></div></div></div></div></div><div class=\"sk-item\"><div class=\"sk-estimator sk-toggleable\"><input class=\"sk-toggleable__control sk-hidden--visually\" id=\"sk-estimator-id-138\" type=\"checkbox\" ><label for=\"sk-estimator-id-138\" class=\"sk-toggleable__label sk-toggleable__label-arrow\">KNeighborsRegressor</label><div class=\"sk-toggleable__content\"><pre>KNeighborsRegressor()</pre></div></div></div></div></div></div></div></div><div class=\"sk-parallel-item\"><div class=\"sk-item\"><div class=\"sk-label-container\"><div class=\"sk-label sk-toggleable\"><label>random_forest</label></div></div><div class=\"sk-serial\"><div class=\"sk-item\"><div class=\"sk-serial\"><div class=\"sk-item sk-dashed-wrapped\"><div class=\"sk-label-container\"><div class=\"sk-label sk-toggleable\"><input class=\"sk-toggleable__control sk-hidden--visually\" id=\"sk-estimator-id-139\" type=\"checkbox\" ><label for=\"sk-estimator-id-139\" class=\"sk-toggleable__label sk-toggleable__label-arrow\">columntransformer: ColumnTransformer</label><div class=\"sk-toggleable__content\"><pre>ColumnTransformer(transformers=[(&#x27;passthrough&#x27;, &#x27;passthrough&#x27;,\n",
       "                                 [&#x27;MedInc&#x27;, &#x27;HouseAge&#x27;, &#x27;AveRooms&#x27;, &#x27;AveBedrms&#x27;,\n",
       "                                  &#x27;Population&#x27;, &#x27;AveOccup&#x27;])])</pre></div></div></div><div class=\"sk-parallel\"><div class=\"sk-parallel-item\"><div class=\"sk-item\"><div class=\"sk-label-container\"><div class=\"sk-label sk-toggleable\"><input class=\"sk-toggleable__control sk-hidden--visually\" id=\"sk-estimator-id-140\" type=\"checkbox\" ><label for=\"sk-estimator-id-140\" class=\"sk-toggleable__label sk-toggleable__label-arrow\">passthrough</label><div class=\"sk-toggleable__content\"><pre>[&#x27;MedInc&#x27;, &#x27;HouseAge&#x27;, &#x27;AveRooms&#x27;, &#x27;AveBedrms&#x27;, &#x27;Population&#x27;, &#x27;AveOccup&#x27;]</pre></div></div></div><div class=\"sk-serial\"><div class=\"sk-item\"><div class=\"sk-estimator sk-toggleable\"><input class=\"sk-toggleable__control sk-hidden--visually\" id=\"sk-estimator-id-141\" type=\"checkbox\" ><label for=\"sk-estimator-id-141\" class=\"sk-toggleable__label sk-toggleable__label-arrow\">passthrough</label><div class=\"sk-toggleable__content\"><pre>passthrough</pre></div></div></div></div></div></div></div></div><div class=\"sk-item\"><div class=\"sk-estimator sk-toggleable\"><input class=\"sk-toggleable__control sk-hidden--visually\" id=\"sk-estimator-id-142\" type=\"checkbox\" ><label for=\"sk-estimator-id-142\" class=\"sk-toggleable__label sk-toggleable__label-arrow\">RandomForestRegressor</label><div class=\"sk-toggleable__content\"><pre>RandomForestRegressor(random_state=42)</pre></div></div></div></div></div></div></div></div></div></div><div class=\"sk-item\"><div class=\"sk-parallel\"><div class=\"sk-parallel-item\"><div class=\"sk-item\"><div class=\"sk-label-container\"><div class=\"sk-label sk-toggleable\"><label>final_estimator</label></div></div><div class=\"sk-serial\"><div class=\"sk-item\"><div class=\"sk-estimator sk-toggleable\"><input class=\"sk-toggleable__control sk-hidden--visually\" id=\"sk-estimator-id-143\" type=\"checkbox\" ><label for=\"sk-estimator-id-143\" class=\"sk-toggleable__label sk-toggleable__label-arrow\">LinearRegression</label><div class=\"sk-toggleable__content\"><pre>LinearRegression()</pre></div></div></div></div></div></div></div></div></div></div></div></div>"
      ],
      "text/plain": [
       "StackingRegressor(cv=5,\n",
       "                  estimators=[('kNN',\n",
       "                               Pipeline(steps=[('columntransformer',\n",
       "                                                ColumnTransformer(transformers=[('passthrough',\n",
       "                                                                                 'passthrough',\n",
       "                                                                                 ['Longitude',\n",
       "                                                                                  'Latitude'])])),\n",
       "                                               ('kneighborsregressor',\n",
       "                                                KNeighborsRegressor())])),\n",
       "                              ('random_forest',\n",
       "                               Pipeline(steps=[('columntransformer',\n",
       "                                                ColumnTransformer(transformers=[('passthrough',\n",
       "                                                                                 'passthrough',\n",
       "                                                                                 ['MedInc',\n",
       "                                                                                  'HouseAge',\n",
       "                                                                                  'AveRooms',\n",
       "                                                                                  'AveBedrms',\n",
       "                                                                                  'Population',\n",
       "                                                                                  'AveOccup'])])),\n",
       "                                               ('randomforestregressor',\n",
       "                                                RandomForestRegressor(random_state=42))]))],\n",
       "                  final_estimator=LinearRegression())"
      ]
     },
     "execution_count": 71,
     "metadata": {},
     "output_type": "execute_result"
    }
   ],
   "source": [
    "# task 3\n",
    "knn_pipeline = make_pipeline(make_column_transformer((\"passthrough\", [\"Longitude\", \"Latitude\"])), knn)\n",
    "rf_pipeline = make_pipeline(make_column_transformer((\"passthrough\", [\"MedInc\", \"HouseAge\", \"AveRooms\", \"AveBedrms\", \"Population\", \"AveOccup\"])), rf)\n",
    "estimators = [\n",
    "    ('kNN', knn_pipeline),\n",
    "    ('random_forest', rf_pipeline)\n",
    "]\n",
    "clf = StackingRegressor(\n",
    "    estimators=estimators, final_estimator=LinearRegression(), cv=5\n",
    ")\n",
    "clf"
   ]
  },
  {
   "cell_type": "code",
   "execution_count": 72,
   "metadata": {},
   "outputs": [
    {
     "data": {
      "text/plain": [
       "dict_keys(['cv', 'estimators', 'final_estimator__copy_X', 'final_estimator__fit_intercept', 'final_estimator__n_jobs', 'final_estimator__normalize', 'final_estimator__positive', 'final_estimator', 'n_jobs', 'passthrough', 'verbose', 'kNN', 'random_forest', 'kNN__memory', 'kNN__steps', 'kNN__verbose', 'kNN__columntransformer', 'kNN__kneighborsregressor', 'kNN__columntransformer__n_jobs', 'kNN__columntransformer__remainder', 'kNN__columntransformer__sparse_threshold', 'kNN__columntransformer__transformer_weights', 'kNN__columntransformer__transformers', 'kNN__columntransformer__verbose', 'kNN__columntransformer__verbose_feature_names_out', 'kNN__columntransformer__passthrough', 'kNN__kneighborsregressor__algorithm', 'kNN__kneighborsregressor__leaf_size', 'kNN__kneighborsregressor__metric', 'kNN__kneighborsregressor__metric_params', 'kNN__kneighborsregressor__n_jobs', 'kNN__kneighborsregressor__n_neighbors', 'kNN__kneighborsregressor__p', 'kNN__kneighborsregressor__weights', 'random_forest__memory', 'random_forest__steps', 'random_forest__verbose', 'random_forest__columntransformer', 'random_forest__randomforestregressor', 'random_forest__columntransformer__n_jobs', 'random_forest__columntransformer__remainder', 'random_forest__columntransformer__sparse_threshold', 'random_forest__columntransformer__transformer_weights', 'random_forest__columntransformer__transformers', 'random_forest__columntransformer__verbose', 'random_forest__columntransformer__verbose_feature_names_out', 'random_forest__columntransformer__passthrough', 'random_forest__randomforestregressor__bootstrap', 'random_forest__randomforestregressor__ccp_alpha', 'random_forest__randomforestregressor__criterion', 'random_forest__randomforestregressor__max_depth', 'random_forest__randomforestregressor__max_features', 'random_forest__randomforestregressor__max_leaf_nodes', 'random_forest__randomforestregressor__max_samples', 'random_forest__randomforestregressor__min_impurity_decrease', 'random_forest__randomforestregressor__min_samples_leaf', 'random_forest__randomforestregressor__min_samples_split', 'random_forest__randomforestregressor__min_weight_fraction_leaf', 'random_forest__randomforestregressor__n_estimators', 'random_forest__randomforestregressor__n_jobs', 'random_forest__randomforestregressor__oob_score', 'random_forest__randomforestregressor__random_state', 'random_forest__randomforestregressor__verbose', 'random_forest__randomforestregressor__warm_start'])"
      ]
     },
     "execution_count": 72,
     "metadata": {},
     "output_type": "execute_result"
    }
   ],
   "source": [
    "# checking hyper-parameters\n",
    "clf.get_params().keys()"
   ]
  },
  {
   "cell_type": "code",
   "execution_count": 73,
   "metadata": {},
   "outputs": [],
   "source": [
    "# optimizing hyper-parameters\n",
    "from sklearn.model_selection import GridSearchCV\n",
    "param_grid = dict(\n",
    "        kNN__kneighborsregressor__n_neighbors=[3, 5, 10, 20],\n",
    "        random_forest__randomforestregressor__min_samples_leaf=[2, 4],\n",
    "        random_forest__randomforestregressor__max_depth=[10, 20, 100, None],\n",
    "        final_estimator__fit_intercept=[True, False]\n",
    "        )\n",
    "grid_search = GridSearchCV(clf, param_grid=param_grid)\n"
   ]
  },
  {
   "cell_type": "code",
   "execution_count": 74,
   "metadata": {},
   "outputs": [
    {
     "data": {
      "text/html": [
       "<style>#sk-container-id-19 {color: black;background-color: white;}#sk-container-id-19 pre{padding: 0;}#sk-container-id-19 div.sk-toggleable {background-color: white;}#sk-container-id-19 label.sk-toggleable__label {cursor: pointer;display: block;width: 100%;margin-bottom: 0;padding: 0.3em;box-sizing: border-box;text-align: center;}#sk-container-id-19 label.sk-toggleable__label-arrow:before {content: \"▸\";float: left;margin-right: 0.25em;color: #696969;}#sk-container-id-19 label.sk-toggleable__label-arrow:hover:before {color: black;}#sk-container-id-19 div.sk-estimator:hover label.sk-toggleable__label-arrow:before {color: black;}#sk-container-id-19 div.sk-toggleable__content {max-height: 0;max-width: 0;overflow: hidden;text-align: left;background-color: #f0f8ff;}#sk-container-id-19 div.sk-toggleable__content pre {margin: 0.2em;color: black;border-radius: 0.25em;background-color: #f0f8ff;}#sk-container-id-19 input.sk-toggleable__control:checked~div.sk-toggleable__content {max-height: 200px;max-width: 100%;overflow: auto;}#sk-container-id-19 input.sk-toggleable__control:checked~label.sk-toggleable__label-arrow:before {content: \"▾\";}#sk-container-id-19 div.sk-estimator input.sk-toggleable__control:checked~label.sk-toggleable__label {background-color: #d4ebff;}#sk-container-id-19 div.sk-label input.sk-toggleable__control:checked~label.sk-toggleable__label {background-color: #d4ebff;}#sk-container-id-19 input.sk-hidden--visually {border: 0;clip: rect(1px 1px 1px 1px);clip: rect(1px, 1px, 1px, 1px);height: 1px;margin: -1px;overflow: hidden;padding: 0;position: absolute;width: 1px;}#sk-container-id-19 div.sk-estimator {font-family: monospace;background-color: #f0f8ff;border: 1px dotted black;border-radius: 0.25em;box-sizing: border-box;margin-bottom: 0.5em;}#sk-container-id-19 div.sk-estimator:hover {background-color: #d4ebff;}#sk-container-id-19 div.sk-parallel-item::after {content: \"\";width: 100%;border-bottom: 1px solid gray;flex-grow: 1;}#sk-container-id-19 div.sk-label:hover label.sk-toggleable__label {background-color: #d4ebff;}#sk-container-id-19 div.sk-serial::before {content: \"\";position: absolute;border-left: 1px solid gray;box-sizing: border-box;top: 0;bottom: 0;left: 50%;z-index: 0;}#sk-container-id-19 div.sk-serial {display: flex;flex-direction: column;align-items: center;background-color: white;padding-right: 0.2em;padding-left: 0.2em;position: relative;}#sk-container-id-19 div.sk-item {position: relative;z-index: 1;}#sk-container-id-19 div.sk-parallel {display: flex;align-items: stretch;justify-content: center;background-color: white;position: relative;}#sk-container-id-19 div.sk-item::before, #sk-container-id-19 div.sk-parallel-item::before {content: \"\";position: absolute;border-left: 1px solid gray;box-sizing: border-box;top: 0;bottom: 0;left: 50%;z-index: -1;}#sk-container-id-19 div.sk-parallel-item {display: flex;flex-direction: column;z-index: 1;position: relative;background-color: white;}#sk-container-id-19 div.sk-parallel-item:first-child::after {align-self: flex-end;width: 50%;}#sk-container-id-19 div.sk-parallel-item:last-child::after {align-self: flex-start;width: 50%;}#sk-container-id-19 div.sk-parallel-item:only-child::after {width: 0;}#sk-container-id-19 div.sk-dashed-wrapped {border: 1px dashed gray;margin: 0 0.4em 0.5em 0.4em;box-sizing: border-box;padding-bottom: 0.4em;background-color: white;}#sk-container-id-19 div.sk-label label {font-family: monospace;font-weight: bold;display: inline-block;line-height: 1.2em;}#sk-container-id-19 div.sk-label-container {text-align: center;}#sk-container-id-19 div.sk-container {/* jupyter's `normalize.less` sets `[hidden] { display: none; }` but bootstrap.min.css set `[hidden] { display: none !important; }` so we also need the `!important` here to be able to override the default hidden behavior on the sphinx rendered scikit-learn.org. See: https://github.com/scikit-learn/scikit-learn/issues/21755 */display: inline-block !important;position: relative;}#sk-container-id-19 div.sk-text-repr-fallback {display: none;}</style><div id=\"sk-container-id-19\" class=\"sk-top-container\"><div class=\"sk-text-repr-fallback\"><pre>GridSearchCV(estimator=StackingRegressor(cv=5,\n",
       "                                         estimators=[(&#x27;kNN&#x27;,\n",
       "                                                      Pipeline(steps=[(&#x27;columntransformer&#x27;,\n",
       "                                                                       ColumnTransformer(transformers=[(&#x27;passthrough&#x27;,\n",
       "                                                                                                        &#x27;passthrough&#x27;,\n",
       "                                                                                                        [&#x27;Longitude&#x27;,\n",
       "                                                                                                         &#x27;Latitude&#x27;])])),\n",
       "                                                                      (&#x27;kneighborsregressor&#x27;,\n",
       "                                                                       KNeighborsRegressor())])),\n",
       "                                                     (&#x27;random_forest&#x27;,\n",
       "                                                      Pipeline(steps=[(&#x27;columntransformer&#x27;,\n",
       "                                                                       ColumnTransformer(transformers=[(&#x27;passthrough&#x27;,\n",
       "                                                                                                        &#x27;passthr...\n",
       "                                                                                                         &#x27;AveOccup&#x27;])])),\n",
       "                                                                      (&#x27;randomforestregressor&#x27;,\n",
       "                                                                       RandomForestRegressor(random_state=42))]))],\n",
       "                                         final_estimator=LinearRegression()),\n",
       "             param_grid={&#x27;final_estimator__fit_intercept&#x27;: [True, False],\n",
       "                         &#x27;kNN__kneighborsregressor__n_neighbors&#x27;: [3, 5, 10,\n",
       "                                                                   20],\n",
       "                         &#x27;random_forest__randomforestregressor__max_depth&#x27;: [10,\n",
       "                                                                             20,\n",
       "                                                                             100,\n",
       "                                                                             None],\n",
       "                         &#x27;random_forest__randomforestregressor__min_samples_leaf&#x27;: [2,\n",
       "                                                                                    4]})</pre><b>In a Jupyter environment, please rerun this cell to show the HTML representation or trust the notebook. <br />On GitHub, the HTML representation is unable to render, please try loading this page with nbviewer.org.</b></div><div class=\"sk-container\" hidden><div class=\"sk-item sk-dashed-wrapped\"><div class=\"sk-label-container\"><div class=\"sk-label sk-toggleable\"><input class=\"sk-toggleable__control sk-hidden--visually\" id=\"sk-estimator-id-144\" type=\"checkbox\" ><label for=\"sk-estimator-id-144\" class=\"sk-toggleable__label sk-toggleable__label-arrow\">GridSearchCV</label><div class=\"sk-toggleable__content\"><pre>GridSearchCV(estimator=StackingRegressor(cv=5,\n",
       "                                         estimators=[(&#x27;kNN&#x27;,\n",
       "                                                      Pipeline(steps=[(&#x27;columntransformer&#x27;,\n",
       "                                                                       ColumnTransformer(transformers=[(&#x27;passthrough&#x27;,\n",
       "                                                                                                        &#x27;passthrough&#x27;,\n",
       "                                                                                                        [&#x27;Longitude&#x27;,\n",
       "                                                                                                         &#x27;Latitude&#x27;])])),\n",
       "                                                                      (&#x27;kneighborsregressor&#x27;,\n",
       "                                                                       KNeighborsRegressor())])),\n",
       "                                                     (&#x27;random_forest&#x27;,\n",
       "                                                      Pipeline(steps=[(&#x27;columntransformer&#x27;,\n",
       "                                                                       ColumnTransformer(transformers=[(&#x27;passthrough&#x27;,\n",
       "                                                                                                        &#x27;passthr...\n",
       "                                                                                                         &#x27;AveOccup&#x27;])])),\n",
       "                                                                      (&#x27;randomforestregressor&#x27;,\n",
       "                                                                       RandomForestRegressor(random_state=42))]))],\n",
       "                                         final_estimator=LinearRegression()),\n",
       "             param_grid={&#x27;final_estimator__fit_intercept&#x27;: [True, False],\n",
       "                         &#x27;kNN__kneighborsregressor__n_neighbors&#x27;: [3, 5, 10,\n",
       "                                                                   20],\n",
       "                         &#x27;random_forest__randomforestregressor__max_depth&#x27;: [10,\n",
       "                                                                             20,\n",
       "                                                                             100,\n",
       "                                                                             None],\n",
       "                         &#x27;random_forest__randomforestregressor__min_samples_leaf&#x27;: [2,\n",
       "                                                                                    4]})</pre></div></div></div><div class=\"sk-parallel\"><div class=\"sk-parallel-item\"><div class=\"sk-item\"><div class=\"sk-label-container\"><div class=\"sk-label sk-toggleable\"><input class=\"sk-toggleable__control sk-hidden--visually\" id=\"sk-estimator-id-145\" type=\"checkbox\" ><label for=\"sk-estimator-id-145\" class=\"sk-toggleable__label sk-toggleable__label-arrow\">estimator: StackingRegressor</label><div class=\"sk-toggleable__content\"><pre>StackingRegressor(cv=5,\n",
       "                  estimators=[(&#x27;kNN&#x27;,\n",
       "                               Pipeline(steps=[(&#x27;columntransformer&#x27;,\n",
       "                                                ColumnTransformer(transformers=[(&#x27;passthrough&#x27;,\n",
       "                                                                                 &#x27;passthrough&#x27;,\n",
       "                                                                                 [&#x27;Longitude&#x27;,\n",
       "                                                                                  &#x27;Latitude&#x27;])])),\n",
       "                                               (&#x27;kneighborsregressor&#x27;,\n",
       "                                                KNeighborsRegressor())])),\n",
       "                              (&#x27;random_forest&#x27;,\n",
       "                               Pipeline(steps=[(&#x27;columntransformer&#x27;,\n",
       "                                                ColumnTransformer(transformers=[(&#x27;passthrough&#x27;,\n",
       "                                                                                 &#x27;passthrough&#x27;,\n",
       "                                                                                 [&#x27;MedInc&#x27;,\n",
       "                                                                                  &#x27;HouseAge&#x27;,\n",
       "                                                                                  &#x27;AveRooms&#x27;,\n",
       "                                                                                  &#x27;AveBedrms&#x27;,\n",
       "                                                                                  &#x27;Population&#x27;,\n",
       "                                                                                  &#x27;AveOccup&#x27;])])),\n",
       "                                               (&#x27;randomforestregressor&#x27;,\n",
       "                                                RandomForestRegressor(random_state=42))]))],\n",
       "                  final_estimator=LinearRegression())</pre></div></div></div><div class=\"sk-serial\"><div class=\"sk-item\"><div class=\"sk-serial\"><div class=\"sk-item\"><div class=\"sk-parallel\"><div class=\"sk-parallel-item\"><div class=\"sk-item\"><div class=\"sk-label-container\"><div class=\"sk-label sk-toggleable\"><label>kNN</label></div></div><div class=\"sk-serial\"><div class=\"sk-item\"><div class=\"sk-serial\"><div class=\"sk-item sk-dashed-wrapped\"><div class=\"sk-label-container\"><div class=\"sk-label sk-toggleable\"><input class=\"sk-toggleable__control sk-hidden--visually\" id=\"sk-estimator-id-146\" type=\"checkbox\" ><label for=\"sk-estimator-id-146\" class=\"sk-toggleable__label sk-toggleable__label-arrow\">columntransformer: ColumnTransformer</label><div class=\"sk-toggleable__content\"><pre>ColumnTransformer(transformers=[(&#x27;passthrough&#x27;, &#x27;passthrough&#x27;,\n",
       "                                 [&#x27;Longitude&#x27;, &#x27;Latitude&#x27;])])</pre></div></div></div><div class=\"sk-parallel\"><div class=\"sk-parallel-item\"><div class=\"sk-item\"><div class=\"sk-label-container\"><div class=\"sk-label sk-toggleable\"><input class=\"sk-toggleable__control sk-hidden--visually\" id=\"sk-estimator-id-147\" type=\"checkbox\" ><label for=\"sk-estimator-id-147\" class=\"sk-toggleable__label sk-toggleable__label-arrow\">passthrough</label><div class=\"sk-toggleable__content\"><pre>[&#x27;Longitude&#x27;, &#x27;Latitude&#x27;]</pre></div></div></div><div class=\"sk-serial\"><div class=\"sk-item\"><div class=\"sk-estimator sk-toggleable\"><input class=\"sk-toggleable__control sk-hidden--visually\" id=\"sk-estimator-id-148\" type=\"checkbox\" ><label for=\"sk-estimator-id-148\" class=\"sk-toggleable__label sk-toggleable__label-arrow\">passthrough</label><div class=\"sk-toggleable__content\"><pre>passthrough</pre></div></div></div></div></div></div></div></div><div class=\"sk-item\"><div class=\"sk-estimator sk-toggleable\"><input class=\"sk-toggleable__control sk-hidden--visually\" id=\"sk-estimator-id-149\" type=\"checkbox\" ><label for=\"sk-estimator-id-149\" class=\"sk-toggleable__label sk-toggleable__label-arrow\">KNeighborsRegressor</label><div class=\"sk-toggleable__content\"><pre>KNeighborsRegressor()</pre></div></div></div></div></div></div></div></div><div class=\"sk-parallel-item\"><div class=\"sk-item\"><div class=\"sk-label-container\"><div class=\"sk-label sk-toggleable\"><label>random_forest</label></div></div><div class=\"sk-serial\"><div class=\"sk-item\"><div class=\"sk-serial\"><div class=\"sk-item sk-dashed-wrapped\"><div class=\"sk-label-container\"><div class=\"sk-label sk-toggleable\"><input class=\"sk-toggleable__control sk-hidden--visually\" id=\"sk-estimator-id-150\" type=\"checkbox\" ><label for=\"sk-estimator-id-150\" class=\"sk-toggleable__label sk-toggleable__label-arrow\">columntransformer: ColumnTransformer</label><div class=\"sk-toggleable__content\"><pre>ColumnTransformer(transformers=[(&#x27;passthrough&#x27;, &#x27;passthrough&#x27;,\n",
       "                                 [&#x27;MedInc&#x27;, &#x27;HouseAge&#x27;, &#x27;AveRooms&#x27;, &#x27;AveBedrms&#x27;,\n",
       "                                  &#x27;Population&#x27;, &#x27;AveOccup&#x27;])])</pre></div></div></div><div class=\"sk-parallel\"><div class=\"sk-parallel-item\"><div class=\"sk-item\"><div class=\"sk-label-container\"><div class=\"sk-label sk-toggleable\"><input class=\"sk-toggleable__control sk-hidden--visually\" id=\"sk-estimator-id-151\" type=\"checkbox\" ><label for=\"sk-estimator-id-151\" class=\"sk-toggleable__label sk-toggleable__label-arrow\">passthrough</label><div class=\"sk-toggleable__content\"><pre>[&#x27;MedInc&#x27;, &#x27;HouseAge&#x27;, &#x27;AveRooms&#x27;, &#x27;AveBedrms&#x27;, &#x27;Population&#x27;, &#x27;AveOccup&#x27;]</pre></div></div></div><div class=\"sk-serial\"><div class=\"sk-item\"><div class=\"sk-estimator sk-toggleable\"><input class=\"sk-toggleable__control sk-hidden--visually\" id=\"sk-estimator-id-152\" type=\"checkbox\" ><label for=\"sk-estimator-id-152\" class=\"sk-toggleable__label sk-toggleable__label-arrow\">passthrough</label><div class=\"sk-toggleable__content\"><pre>passthrough</pre></div></div></div></div></div></div></div></div><div class=\"sk-item\"><div class=\"sk-estimator sk-toggleable\"><input class=\"sk-toggleable__control sk-hidden--visually\" id=\"sk-estimator-id-153\" type=\"checkbox\" ><label for=\"sk-estimator-id-153\" class=\"sk-toggleable__label sk-toggleable__label-arrow\">RandomForestRegressor</label><div class=\"sk-toggleable__content\"><pre>RandomForestRegressor(random_state=42)</pre></div></div></div></div></div></div></div></div></div></div><div class=\"sk-item\"><div class=\"sk-parallel\"><div class=\"sk-parallel-item\"><div class=\"sk-item\"><div class=\"sk-label-container\"><div class=\"sk-label sk-toggleable\"><label>final_estimator</label></div></div><div class=\"sk-serial\"><div class=\"sk-item\"><div class=\"sk-estimator sk-toggleable\"><input class=\"sk-toggleable__control sk-hidden--visually\" id=\"sk-estimator-id-154\" type=\"checkbox\" ><label for=\"sk-estimator-id-154\" class=\"sk-toggleable__label sk-toggleable__label-arrow\">LinearRegression</label><div class=\"sk-toggleable__content\"><pre>LinearRegression()</pre></div></div></div></div></div></div></div></div></div></div></div></div></div></div></div></div></div>"
      ],
      "text/plain": [
       "GridSearchCV(estimator=StackingRegressor(cv=5,\n",
       "                                         estimators=[('kNN',\n",
       "                                                      Pipeline(steps=[('columntransformer',\n",
       "                                                                       ColumnTransformer(transformers=[('passthrough',\n",
       "                                                                                                        'passthrough',\n",
       "                                                                                                        ['Longitude',\n",
       "                                                                                                         'Latitude'])])),\n",
       "                                                                      ('kneighborsregressor',\n",
       "                                                                       KNeighborsRegressor())])),\n",
       "                                                     ('random_forest',\n",
       "                                                      Pipeline(steps=[('columntransformer',\n",
       "                                                                       ColumnTransformer(transformers=[('passthrough',\n",
       "                                                                                                        'passthr...\n",
       "                                                                                                         'AveOccup'])])),\n",
       "                                                                      ('randomforestregressor',\n",
       "                                                                       RandomForestRegressor(random_state=42))]))],\n",
       "                                         final_estimator=LinearRegression()),\n",
       "             param_grid={'final_estimator__fit_intercept': [True, False],\n",
       "                         'kNN__kneighborsregressor__n_neighbors': [3, 5, 10,\n",
       "                                                                   20],\n",
       "                         'random_forest__randomforestregressor__max_depth': [10,\n",
       "                                                                             20,\n",
       "                                                                             100,\n",
       "                                                                             None],\n",
       "                         'random_forest__randomforestregressor__min_samples_leaf': [2,\n",
       "                                                                                    4]})"
      ]
     },
     "execution_count": 74,
     "metadata": {},
     "output_type": "execute_result"
    }
   ],
   "source": [
    "# that's really time consuming, consider variables has been separated into two models, we can also first do the optimization to each model then combine together (can we?)\n",
    "grid_search.fit(X_train,y_train)"
   ]
  },
  {
   "cell_type": "code",
   "execution_count": null,
   "metadata": {},
   "outputs": [],
   "source": [
    "'''\n",
    "param_grid_knn = dict(\n",
    "        kNN__kneighborsregressor__n_neighbors=[3, 5, 10, 20]\n",
    "        )\n",
    "\n",
    "grid_search_knn = GridSearchCV(knn_pipeline, param_grid=param_grid_knn)\n",
    "grid_search_knn.fit(X_train,y_train)\n",
    "grid_search_knn.best_estimator_\n",
    "'''"
   ]
  },
  {
   "cell_type": "code",
   "execution_count": null,
   "metadata": {},
   "outputs": [],
   "source": [
    "'''\n",
    "param_grid_rf = dict(\n",
    "        random_forest__randomforestregressor__min_samples_leaf=[2, 4],\n",
    "        random_forest__randomforestregressor__max_depth=[10, 20, 100, None]\n",
    ")\n",
    "\n",
    "grid_search_rf = GridSearchCV(rf_pipeline, param_grid=param_grid_rf)\n",
    "grid_search_rf.fit(X_train,y_train)\n",
    "grid_search_rf.best_estimator_\n",
    "'''"
   ]
  },
  {
   "cell_type": "code",
   "execution_count": 75,
   "metadata": {},
   "outputs": [
    {
     "data": {
      "text/html": [
       "<style>#sk-container-id-20 {color: black;background-color: white;}#sk-container-id-20 pre{padding: 0;}#sk-container-id-20 div.sk-toggleable {background-color: white;}#sk-container-id-20 label.sk-toggleable__label {cursor: pointer;display: block;width: 100%;margin-bottom: 0;padding: 0.3em;box-sizing: border-box;text-align: center;}#sk-container-id-20 label.sk-toggleable__label-arrow:before {content: \"▸\";float: left;margin-right: 0.25em;color: #696969;}#sk-container-id-20 label.sk-toggleable__label-arrow:hover:before {color: black;}#sk-container-id-20 div.sk-estimator:hover label.sk-toggleable__label-arrow:before {color: black;}#sk-container-id-20 div.sk-toggleable__content {max-height: 0;max-width: 0;overflow: hidden;text-align: left;background-color: #f0f8ff;}#sk-container-id-20 div.sk-toggleable__content pre {margin: 0.2em;color: black;border-radius: 0.25em;background-color: #f0f8ff;}#sk-container-id-20 input.sk-toggleable__control:checked~div.sk-toggleable__content {max-height: 200px;max-width: 100%;overflow: auto;}#sk-container-id-20 input.sk-toggleable__control:checked~label.sk-toggleable__label-arrow:before {content: \"▾\";}#sk-container-id-20 div.sk-estimator input.sk-toggleable__control:checked~label.sk-toggleable__label {background-color: #d4ebff;}#sk-container-id-20 div.sk-label input.sk-toggleable__control:checked~label.sk-toggleable__label {background-color: #d4ebff;}#sk-container-id-20 input.sk-hidden--visually {border: 0;clip: rect(1px 1px 1px 1px);clip: rect(1px, 1px, 1px, 1px);height: 1px;margin: -1px;overflow: hidden;padding: 0;position: absolute;width: 1px;}#sk-container-id-20 div.sk-estimator {font-family: monospace;background-color: #f0f8ff;border: 1px dotted black;border-radius: 0.25em;box-sizing: border-box;margin-bottom: 0.5em;}#sk-container-id-20 div.sk-estimator:hover {background-color: #d4ebff;}#sk-container-id-20 div.sk-parallel-item::after {content: \"\";width: 100%;border-bottom: 1px solid gray;flex-grow: 1;}#sk-container-id-20 div.sk-label:hover label.sk-toggleable__label {background-color: #d4ebff;}#sk-container-id-20 div.sk-serial::before {content: \"\";position: absolute;border-left: 1px solid gray;box-sizing: border-box;top: 0;bottom: 0;left: 50%;z-index: 0;}#sk-container-id-20 div.sk-serial {display: flex;flex-direction: column;align-items: center;background-color: white;padding-right: 0.2em;padding-left: 0.2em;position: relative;}#sk-container-id-20 div.sk-item {position: relative;z-index: 1;}#sk-container-id-20 div.sk-parallel {display: flex;align-items: stretch;justify-content: center;background-color: white;position: relative;}#sk-container-id-20 div.sk-item::before, #sk-container-id-20 div.sk-parallel-item::before {content: \"\";position: absolute;border-left: 1px solid gray;box-sizing: border-box;top: 0;bottom: 0;left: 50%;z-index: -1;}#sk-container-id-20 div.sk-parallel-item {display: flex;flex-direction: column;z-index: 1;position: relative;background-color: white;}#sk-container-id-20 div.sk-parallel-item:first-child::after {align-self: flex-end;width: 50%;}#sk-container-id-20 div.sk-parallel-item:last-child::after {align-self: flex-start;width: 50%;}#sk-container-id-20 div.sk-parallel-item:only-child::after {width: 0;}#sk-container-id-20 div.sk-dashed-wrapped {border: 1px dashed gray;margin: 0 0.4em 0.5em 0.4em;box-sizing: border-box;padding-bottom: 0.4em;background-color: white;}#sk-container-id-20 div.sk-label label {font-family: monospace;font-weight: bold;display: inline-block;line-height: 1.2em;}#sk-container-id-20 div.sk-label-container {text-align: center;}#sk-container-id-20 div.sk-container {/* jupyter's `normalize.less` sets `[hidden] { display: none; }` but bootstrap.min.css set `[hidden] { display: none !important; }` so we also need the `!important` here to be able to override the default hidden behavior on the sphinx rendered scikit-learn.org. See: https://github.com/scikit-learn/scikit-learn/issues/21755 */display: inline-block !important;position: relative;}#sk-container-id-20 div.sk-text-repr-fallback {display: none;}</style><div id=\"sk-container-id-20\" class=\"sk-top-container\"><div class=\"sk-text-repr-fallback\"><pre>StackingRegressor(cv=5,\n",
       "                  estimators=[(&#x27;kNN&#x27;,\n",
       "                               Pipeline(steps=[(&#x27;columntransformer&#x27;,\n",
       "                                                ColumnTransformer(transformers=[(&#x27;passthrough&#x27;,\n",
       "                                                                                 &#x27;passthrough&#x27;,\n",
       "                                                                                 [&#x27;Longitude&#x27;,\n",
       "                                                                                  &#x27;Latitude&#x27;])])),\n",
       "                                               (&#x27;kneighborsregressor&#x27;,\n",
       "                                                KNeighborsRegressor())])),\n",
       "                              (&#x27;random_forest&#x27;,\n",
       "                               Pipeline(steps=[(&#x27;columntransformer&#x27;,\n",
       "                                                ColumnTransformer(transformers=[(&#x27;passthrough&#x27;,\n",
       "                                                                                 &#x27;passthrough&#x27;,\n",
       "                                                                                 [&#x27;MedInc&#x27;,\n",
       "                                                                                  &#x27;HouseAge&#x27;,\n",
       "                                                                                  &#x27;AveRooms&#x27;,\n",
       "                                                                                  &#x27;AveBedrms&#x27;,\n",
       "                                                                                  &#x27;Population&#x27;,\n",
       "                                                                                  &#x27;AveOccup&#x27;])])),\n",
       "                                               (&#x27;randomforestregressor&#x27;,\n",
       "                                                RandomForestRegressor(max_depth=10,\n",
       "                                                                      min_samples_leaf=4,\n",
       "                                                                      random_state=42))]))],\n",
       "                  final_estimator=LinearRegression())</pre><b>In a Jupyter environment, please rerun this cell to show the HTML representation or trust the notebook. <br />On GitHub, the HTML representation is unable to render, please try loading this page with nbviewer.org.</b></div><div class=\"sk-container\" hidden><div class=\"sk-item sk-dashed-wrapped\"><div class=\"sk-label-container\"><div class=\"sk-label sk-toggleable\"><input class=\"sk-toggleable__control sk-hidden--visually\" id=\"sk-estimator-id-155\" type=\"checkbox\" ><label for=\"sk-estimator-id-155\" class=\"sk-toggleable__label sk-toggleable__label-arrow\">StackingRegressor</label><div class=\"sk-toggleable__content\"><pre>StackingRegressor(cv=5,\n",
       "                  estimators=[(&#x27;kNN&#x27;,\n",
       "                               Pipeline(steps=[(&#x27;columntransformer&#x27;,\n",
       "                                                ColumnTransformer(transformers=[(&#x27;passthrough&#x27;,\n",
       "                                                                                 &#x27;passthrough&#x27;,\n",
       "                                                                                 [&#x27;Longitude&#x27;,\n",
       "                                                                                  &#x27;Latitude&#x27;])])),\n",
       "                                               (&#x27;kneighborsregressor&#x27;,\n",
       "                                                KNeighborsRegressor())])),\n",
       "                              (&#x27;random_forest&#x27;,\n",
       "                               Pipeline(steps=[(&#x27;columntransformer&#x27;,\n",
       "                                                ColumnTransformer(transformers=[(&#x27;passthrough&#x27;,\n",
       "                                                                                 &#x27;passthrough&#x27;,\n",
       "                                                                                 [&#x27;MedInc&#x27;,\n",
       "                                                                                  &#x27;HouseAge&#x27;,\n",
       "                                                                                  &#x27;AveRooms&#x27;,\n",
       "                                                                                  &#x27;AveBedrms&#x27;,\n",
       "                                                                                  &#x27;Population&#x27;,\n",
       "                                                                                  &#x27;AveOccup&#x27;])])),\n",
       "                                               (&#x27;randomforestregressor&#x27;,\n",
       "                                                RandomForestRegressor(max_depth=10,\n",
       "                                                                      min_samples_leaf=4,\n",
       "                                                                      random_state=42))]))],\n",
       "                  final_estimator=LinearRegression())</pre></div></div></div><div class=\"sk-serial\"><div class=\"sk-item\"><div class=\"sk-parallel\"><div class=\"sk-parallel-item\"><div class=\"sk-item\"><div class=\"sk-label-container\"><div class=\"sk-label sk-toggleable\"><label>kNN</label></div></div><div class=\"sk-serial\"><div class=\"sk-item\"><div class=\"sk-serial\"><div class=\"sk-item sk-dashed-wrapped\"><div class=\"sk-label-container\"><div class=\"sk-label sk-toggleable\"><input class=\"sk-toggleable__control sk-hidden--visually\" id=\"sk-estimator-id-156\" type=\"checkbox\" ><label for=\"sk-estimator-id-156\" class=\"sk-toggleable__label sk-toggleable__label-arrow\">columntransformer: ColumnTransformer</label><div class=\"sk-toggleable__content\"><pre>ColumnTransformer(transformers=[(&#x27;passthrough&#x27;, &#x27;passthrough&#x27;,\n",
       "                                 [&#x27;Longitude&#x27;, &#x27;Latitude&#x27;])])</pre></div></div></div><div class=\"sk-parallel\"><div class=\"sk-parallel-item\"><div class=\"sk-item\"><div class=\"sk-label-container\"><div class=\"sk-label sk-toggleable\"><input class=\"sk-toggleable__control sk-hidden--visually\" id=\"sk-estimator-id-157\" type=\"checkbox\" ><label for=\"sk-estimator-id-157\" class=\"sk-toggleable__label sk-toggleable__label-arrow\">passthrough</label><div class=\"sk-toggleable__content\"><pre>[&#x27;Longitude&#x27;, &#x27;Latitude&#x27;]</pre></div></div></div><div class=\"sk-serial\"><div class=\"sk-item\"><div class=\"sk-estimator sk-toggleable\"><input class=\"sk-toggleable__control sk-hidden--visually\" id=\"sk-estimator-id-158\" type=\"checkbox\" ><label for=\"sk-estimator-id-158\" class=\"sk-toggleable__label sk-toggleable__label-arrow\">passthrough</label><div class=\"sk-toggleable__content\"><pre>passthrough</pre></div></div></div></div></div></div></div></div><div class=\"sk-item\"><div class=\"sk-estimator sk-toggleable\"><input class=\"sk-toggleable__control sk-hidden--visually\" id=\"sk-estimator-id-159\" type=\"checkbox\" ><label for=\"sk-estimator-id-159\" class=\"sk-toggleable__label sk-toggleable__label-arrow\">KNeighborsRegressor</label><div class=\"sk-toggleable__content\"><pre>KNeighborsRegressor()</pre></div></div></div></div></div></div></div></div><div class=\"sk-parallel-item\"><div class=\"sk-item\"><div class=\"sk-label-container\"><div class=\"sk-label sk-toggleable\"><label>random_forest</label></div></div><div class=\"sk-serial\"><div class=\"sk-item\"><div class=\"sk-serial\"><div class=\"sk-item sk-dashed-wrapped\"><div class=\"sk-label-container\"><div class=\"sk-label sk-toggleable\"><input class=\"sk-toggleable__control sk-hidden--visually\" id=\"sk-estimator-id-160\" type=\"checkbox\" ><label for=\"sk-estimator-id-160\" class=\"sk-toggleable__label sk-toggleable__label-arrow\">columntransformer: ColumnTransformer</label><div class=\"sk-toggleable__content\"><pre>ColumnTransformer(transformers=[(&#x27;passthrough&#x27;, &#x27;passthrough&#x27;,\n",
       "                                 [&#x27;MedInc&#x27;, &#x27;HouseAge&#x27;, &#x27;AveRooms&#x27;, &#x27;AveBedrms&#x27;,\n",
       "                                  &#x27;Population&#x27;, &#x27;AveOccup&#x27;])])</pre></div></div></div><div class=\"sk-parallel\"><div class=\"sk-parallel-item\"><div class=\"sk-item\"><div class=\"sk-label-container\"><div class=\"sk-label sk-toggleable\"><input class=\"sk-toggleable__control sk-hidden--visually\" id=\"sk-estimator-id-161\" type=\"checkbox\" ><label for=\"sk-estimator-id-161\" class=\"sk-toggleable__label sk-toggleable__label-arrow\">passthrough</label><div class=\"sk-toggleable__content\"><pre>[&#x27;MedInc&#x27;, &#x27;HouseAge&#x27;, &#x27;AveRooms&#x27;, &#x27;AveBedrms&#x27;, &#x27;Population&#x27;, &#x27;AveOccup&#x27;]</pre></div></div></div><div class=\"sk-serial\"><div class=\"sk-item\"><div class=\"sk-estimator sk-toggleable\"><input class=\"sk-toggleable__control sk-hidden--visually\" id=\"sk-estimator-id-162\" type=\"checkbox\" ><label for=\"sk-estimator-id-162\" class=\"sk-toggleable__label sk-toggleable__label-arrow\">passthrough</label><div class=\"sk-toggleable__content\"><pre>passthrough</pre></div></div></div></div></div></div></div></div><div class=\"sk-item\"><div class=\"sk-estimator sk-toggleable\"><input class=\"sk-toggleable__control sk-hidden--visually\" id=\"sk-estimator-id-163\" type=\"checkbox\" ><label for=\"sk-estimator-id-163\" class=\"sk-toggleable__label sk-toggleable__label-arrow\">RandomForestRegressor</label><div class=\"sk-toggleable__content\"><pre>RandomForestRegressor(max_depth=10, min_samples_leaf=4, random_state=42)</pre></div></div></div></div></div></div></div></div></div></div><div class=\"sk-item\"><div class=\"sk-parallel\"><div class=\"sk-parallel-item\"><div class=\"sk-item\"><div class=\"sk-label-container\"><div class=\"sk-label sk-toggleable\"><label>final_estimator</label></div></div><div class=\"sk-serial\"><div class=\"sk-item\"><div class=\"sk-estimator sk-toggleable\"><input class=\"sk-toggleable__control sk-hidden--visually\" id=\"sk-estimator-id-164\" type=\"checkbox\" ><label for=\"sk-estimator-id-164\" class=\"sk-toggleable__label sk-toggleable__label-arrow\">LinearRegression</label><div class=\"sk-toggleable__content\"><pre>LinearRegression()</pre></div></div></div></div></div></div></div></div></div></div></div></div>"
      ],
      "text/plain": [
       "StackingRegressor(cv=5,\n",
       "                  estimators=[('kNN',\n",
       "                               Pipeline(steps=[('columntransformer',\n",
       "                                                ColumnTransformer(transformers=[('passthrough',\n",
       "                                                                                 'passthrough',\n",
       "                                                                                 ['Longitude',\n",
       "                                                                                  'Latitude'])])),\n",
       "                                               ('kneighborsregressor',\n",
       "                                                KNeighborsRegressor())])),\n",
       "                              ('random_forest',\n",
       "                               Pipeline(steps=[('columntransformer',\n",
       "                                                ColumnTransformer(transformers=[('passthrough',\n",
       "                                                                                 'passthrough',\n",
       "                                                                                 ['MedInc',\n",
       "                                                                                  'HouseAge',\n",
       "                                                                                  'AveRooms',\n",
       "                                                                                  'AveBedrms',\n",
       "                                                                                  'Population',\n",
       "                                                                                  'AveOccup'])])),\n",
       "                                               ('randomforestregressor',\n",
       "                                                RandomForestRegressor(max_depth=10,\n",
       "                                                                      min_samples_leaf=4,\n",
       "                                                                      random_state=42))]))],\n",
       "                  final_estimator=LinearRegression())"
      ]
     },
     "execution_count": 75,
     "metadata": {},
     "output_type": "execute_result"
    }
   ],
   "source": [
    "clf_best = grid_search.best_estimator_\n",
    "clf_best.fit(X_train,y_train)"
   ]
  },
  {
   "cell_type": "code",
   "execution_count": 80,
   "metadata": {},
   "outputs": [],
   "source": [
    "# task 4\n",
    "def mse_test(model, X, y):\n",
    "    test_pred = model.predict(X)\n",
    "    mse = mean_squared_error(y, test_pred)\n",
    "    return mse"
   ]
  },
  {
   "cell_type": "code",
   "execution_count": 81,
   "metadata": {},
   "outputs": [
    {
     "name": "stdout",
     "output_type": "stream",
     "text": [
      "mse_knn = 0.2968\n",
      "mse_rf = 0.4325\n",
      "mse_clf_best = 0.2301\n"
     ]
    }
   ],
   "source": [
    "print(\"mse_knn = \" + str(round(mse_test(knn, X_test[[\"Longitude\", \"Latitude\"]], y_test), 4)))\n",
    "print(\"mse_rf = \" + str(round(mse_test(rf, X_test.drop([\"Longitude\", \"Latitude\"], axis=1), y_test), 4)))\n",
    "print(\"mse_clf_best = \" + str(round(mse_test(clf_best, X_test, y_test), 4)))"
   ]
  },
  {
   "cell_type": "markdown",
   "metadata": {},
   "source": [
    "#### Comment: by comparing three models' MSE, we observe that MSE_rf > MSE_knn > MSE_clf_best(the stacking module after optimizing hyper-parameters) in test dataset. That indicates stacking model has better performance in predicting than the other two. Through stacking with multiple models, the final prediction is more convincing, and reduces the symptom of overfitting to some extent."
   ]
  }
 ],
 "metadata": {
  "colab": {
   "authorship_tag": "ABX9TyO1NIAxZX9ETPqIs8hAEhr/",
   "include_colab_link": true,
   "name": "Ensembles_HW.ipynb",
   "provenance": []
  },
  "kernelspec": {
   "display_name": "Python 3",
   "language": "python",
   "name": "python3"
  },
  "language_info": {
   "codemirror_mode": {
    "name": "ipython",
    "version": 3
   },
   "file_extension": ".py",
   "mimetype": "text/x-python",
   "name": "python",
   "nbconvert_exporter": "python",
   "pygments_lexer": "ipython3",
   "version": "3.8.2"
  }
 },
 "nbformat": 4,
 "nbformat_minor": 1
}
