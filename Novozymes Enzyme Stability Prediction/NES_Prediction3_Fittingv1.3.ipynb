{
  "metadata": {
    "kernelspec": {
      "display_name": "Python 3",
      "language": "python",
      "name": "python3"
    },
    "language_info": {
      "name": "python",
      "version": "3.7.12",
      "mimetype": "text/x-python",
      "codemirror_mode": {
        "name": "ipython",
        "version": 3
      },
      "pygments_lexer": "ipython3",
      "nbconvert_exporter": "python",
      "file_extension": ".py"
    },
    "colab": {
      "provenance": [],
      "collapsed_sections": [
        "8GG4Dpc_5ACL"
      ]
    }
  },
  "nbformat_minor": 0,
  "nbformat": 4,
  "cells": [
    {
      "cell_type": "markdown",
      "source": [
        "# Kaggle Competition: Novozymes Enzyme Stability Prediction, Help identify the thermostable mutations in enzymes\n",
        "\n",
        "by: Tianxiong Yu, upload at <b><a href=\"https://github.com/Lecter314/MLDM_2022_YuTianxiong_EEP/tree/main/Novozymes%20Enzyme%20Stability%20Prediction\">github_MLDM_2022_YuTianxiong_EEP</a></b>"
      ],
      "metadata": {
        "id": "VCDjvZvz5AB5"
      }
    },
    {
      "cell_type": "markdown",
      "source": [
        "## 4 Fitting the model"
      ],
      "metadata": {
        "id": "pyKyJw_55AB-"
      }
    },
    {
      "cell_type": "code",
      "source": [
        "import pandas as pd\n",
        "import numpy as np\n",
        "import matplotlib.pyplot as plt\n",
        "from sklearn import metrics\n",
        "from sklearn.model_selection import train_test_split\n",
        "from sklearn import model_selection\n",
        "from sklearn.neighbors import KNeighborsRegressor\n",
        "from sklearn.ensemble import RandomForestRegressor\n",
        "from sklearn.linear_model import LinearRegression\n",
        "from sklearn.svm import SVR\n",
        "from lightgbm import LGBMRegressor\n",
        "from xgboost import XGBRegressor"
      ],
      "metadata": {
        "execution": {
          "iopub.status.busy": "2022-12-10T16:27:47.475507Z",
          "iopub.execute_input": "2022-12-10T16:27:47.475870Z",
          "iopub.status.idle": "2022-12-10T16:27:47.483899Z",
          "shell.execute_reply.started": "2022-12-10T16:27:47.475839Z",
          "shell.execute_reply": "2022-12-10T16:27:47.481845Z"
        },
        "trusted": true,
        "id": "KWNHHpin5AB-"
      },
      "execution_count": 2,
      "outputs": []
    },
    {
      "cell_type": "code",
      "source": [
        "from google.colab import drive\n",
        "drive.mount('/content/drive')"
      ],
      "metadata": {
        "colab": {
          "base_uri": "https://localhost:8080/"
        },
        "id": "sJRt-jhf56lt",
        "outputId": "f191e6e3-8b7d-4de2-c795-f90838595390"
      },
      "execution_count": 4,
      "outputs": [
        {
          "output_type": "stream",
          "name": "stdout",
          "text": [
            "Mounted at /content/drive\n"
          ]
        }
      ]
    },
    {
      "cell_type": "code",
      "source": [
        "data_updated = pd.read_csv(\"/content/drive/MyDrive/after intermediate/data_updated.csv\")\n",
        "data_test = pd.read_csv(\"/content/drive/MyDrive/after intermediate/data_test.csv\")"
      ],
      "metadata": {
        "id": "VxmNjMLV6Mc3"
      },
      "execution_count": 5,
      "outputs": []
    },
    {
      "cell_type": "code",
      "source": [
        "X_backup = data_updated.copy()"
      ],
      "metadata": {
        "execution": {
          "iopub.status.busy": "2022-12-10T16:27:51.346962Z",
          "iopub.execute_input": "2022-12-10T16:27:51.347585Z",
          "iopub.status.idle": "2022-12-10T16:27:51.374970Z",
          "shell.execute_reply.started": "2022-12-10T16:27:51.347541Z",
          "shell.execute_reply": "2022-12-10T16:27:51.374033Z"
        },
        "trusted": true,
        "id": "vx4DjbEY5ACA"
      },
      "execution_count": 6,
      "outputs": []
    },
    {
      "cell_type": "code",
      "source": [
        "X = X_backup.drop(columns=[\"seq_id\", \"tm\",\"protein_sequence\"])\n",
        "y = X_backup[\"tm\"]"
      ],
      "metadata": {
        "execution": {
          "iopub.status.busy": "2022-12-10T16:27:52.767401Z",
          "iopub.execute_input": "2022-12-10T16:27:52.767880Z",
          "iopub.status.idle": "2022-12-10T16:27:52.801805Z",
          "shell.execute_reply.started": "2022-12-10T16:27:52.767839Z",
          "shell.execute_reply": "2022-12-10T16:27:52.800793Z"
        },
        "trusted": true,
        "id": "1s2wi5xs5ACA"
      },
      "execution_count": 7,
      "outputs": []
    },
    {
      "cell_type": "code",
      "source": [
        "X.head()"
      ],
      "metadata": {
        "execution": {
          "iopub.status.busy": "2022-12-10T16:27:54.108569Z",
          "iopub.execute_input": "2022-12-10T16:27:54.109073Z",
          "iopub.status.idle": "2022-12-10T16:27:54.149461Z",
          "shell.execute_reply.started": "2022-12-10T16:27:54.108992Z",
          "shell.execute_reply": "2022-12-10T16:27:54.148385Z"
        },
        "trusted": true,
        "colab": {
          "base_uri": "https://localhost:8080/",
          "height": 235
        },
        "id": "2budUqrX5ACA",
        "outputId": "a3ab73a5-82ac-4005-e1fb-80b607024b4b"
      },
      "execution_count": 8,
      "outputs": [
        {
          "output_type": "execute_result",
          "data": {
            "text/plain": [
              "    pH  data_source   A   C   D   E   F   G   H   I  ...  SSG  SSL  SSS  TLL  \\\n",
              "0  7.0            1  45   1  13  30  13  38   3  14  ...    0    0    0    0   \n",
              "1  7.0            1  28   0  10  52   6  18   4  13  ...    0    0    0    0   \n",
              "2  7.0            1  50   9  27  32  21  65  11  16  ...    0    0    0    0   \n",
              "3  7.0            1  20   5  19  29  12  16   7  10  ...    0    0    0    0   \n",
              "4  7.0            1  86  14  78  78  32  84  40  71  ...    1    2    3    0   \n",
              "\n",
              "   VAA  VLA  VLL  wildtype  mutation  position  \n",
              "0    0    0    0       4.2       1.8         1  \n",
              "1    0    0    1       4.2       1.8         1  \n",
              "2    0    0    0       4.2       1.8         1  \n",
              "3    0    0    0       4.2       1.8         1  \n",
              "4    1    0    1       4.2       1.8         1  \n",
              "\n",
              "[5 rows x 191 columns]"
            ],
            "text/html": [
              "\n",
              "  <div id=\"df-84515286-a4a3-4082-97c5-1cfd26186551\">\n",
              "    <div class=\"colab-df-container\">\n",
              "      <div>\n",
              "<style scoped>\n",
              "    .dataframe tbody tr th:only-of-type {\n",
              "        vertical-align: middle;\n",
              "    }\n",
              "\n",
              "    .dataframe tbody tr th {\n",
              "        vertical-align: top;\n",
              "    }\n",
              "\n",
              "    .dataframe thead th {\n",
              "        text-align: right;\n",
              "    }\n",
              "</style>\n",
              "<table border=\"1\" class=\"dataframe\">\n",
              "  <thead>\n",
              "    <tr style=\"text-align: right;\">\n",
              "      <th></th>\n",
              "      <th>pH</th>\n",
              "      <th>data_source</th>\n",
              "      <th>A</th>\n",
              "      <th>C</th>\n",
              "      <th>D</th>\n",
              "      <th>E</th>\n",
              "      <th>F</th>\n",
              "      <th>G</th>\n",
              "      <th>H</th>\n",
              "      <th>I</th>\n",
              "      <th>...</th>\n",
              "      <th>SSG</th>\n",
              "      <th>SSL</th>\n",
              "      <th>SSS</th>\n",
              "      <th>TLL</th>\n",
              "      <th>VAA</th>\n",
              "      <th>VLA</th>\n",
              "      <th>VLL</th>\n",
              "      <th>wildtype</th>\n",
              "      <th>mutation</th>\n",
              "      <th>position</th>\n",
              "    </tr>\n",
              "  </thead>\n",
              "  <tbody>\n",
              "    <tr>\n",
              "      <th>0</th>\n",
              "      <td>7.0</td>\n",
              "      <td>1</td>\n",
              "      <td>45</td>\n",
              "      <td>1</td>\n",
              "      <td>13</td>\n",
              "      <td>30</td>\n",
              "      <td>13</td>\n",
              "      <td>38</td>\n",
              "      <td>3</td>\n",
              "      <td>14</td>\n",
              "      <td>...</td>\n",
              "      <td>0</td>\n",
              "      <td>0</td>\n",
              "      <td>0</td>\n",
              "      <td>0</td>\n",
              "      <td>0</td>\n",
              "      <td>0</td>\n",
              "      <td>0</td>\n",
              "      <td>4.2</td>\n",
              "      <td>1.8</td>\n",
              "      <td>1</td>\n",
              "    </tr>\n",
              "    <tr>\n",
              "      <th>1</th>\n",
              "      <td>7.0</td>\n",
              "      <td>1</td>\n",
              "      <td>28</td>\n",
              "      <td>0</td>\n",
              "      <td>10</td>\n",
              "      <td>52</td>\n",
              "      <td>6</td>\n",
              "      <td>18</td>\n",
              "      <td>4</td>\n",
              "      <td>13</td>\n",
              "      <td>...</td>\n",
              "      <td>0</td>\n",
              "      <td>0</td>\n",
              "      <td>0</td>\n",
              "      <td>0</td>\n",
              "      <td>0</td>\n",
              "      <td>0</td>\n",
              "      <td>1</td>\n",
              "      <td>4.2</td>\n",
              "      <td>1.8</td>\n",
              "      <td>1</td>\n",
              "    </tr>\n",
              "    <tr>\n",
              "      <th>2</th>\n",
              "      <td>7.0</td>\n",
              "      <td>1</td>\n",
              "      <td>50</td>\n",
              "      <td>9</td>\n",
              "      <td>27</td>\n",
              "      <td>32</td>\n",
              "      <td>21</td>\n",
              "      <td>65</td>\n",
              "      <td>11</td>\n",
              "      <td>16</td>\n",
              "      <td>...</td>\n",
              "      <td>0</td>\n",
              "      <td>0</td>\n",
              "      <td>0</td>\n",
              "      <td>0</td>\n",
              "      <td>0</td>\n",
              "      <td>0</td>\n",
              "      <td>0</td>\n",
              "      <td>4.2</td>\n",
              "      <td>1.8</td>\n",
              "      <td>1</td>\n",
              "    </tr>\n",
              "    <tr>\n",
              "      <th>3</th>\n",
              "      <td>7.0</td>\n",
              "      <td>1</td>\n",
              "      <td>20</td>\n",
              "      <td>5</td>\n",
              "      <td>19</td>\n",
              "      <td>29</td>\n",
              "      <td>12</td>\n",
              "      <td>16</td>\n",
              "      <td>7</td>\n",
              "      <td>10</td>\n",
              "      <td>...</td>\n",
              "      <td>0</td>\n",
              "      <td>0</td>\n",
              "      <td>0</td>\n",
              "      <td>0</td>\n",
              "      <td>0</td>\n",
              "      <td>0</td>\n",
              "      <td>0</td>\n",
              "      <td>4.2</td>\n",
              "      <td>1.8</td>\n",
              "      <td>1</td>\n",
              "    </tr>\n",
              "    <tr>\n",
              "      <th>4</th>\n",
              "      <td>7.0</td>\n",
              "      <td>1</td>\n",
              "      <td>86</td>\n",
              "      <td>14</td>\n",
              "      <td>78</td>\n",
              "      <td>78</td>\n",
              "      <td>32</td>\n",
              "      <td>84</td>\n",
              "      <td>40</td>\n",
              "      <td>71</td>\n",
              "      <td>...</td>\n",
              "      <td>1</td>\n",
              "      <td>2</td>\n",
              "      <td>3</td>\n",
              "      <td>0</td>\n",
              "      <td>1</td>\n",
              "      <td>0</td>\n",
              "      <td>1</td>\n",
              "      <td>4.2</td>\n",
              "      <td>1.8</td>\n",
              "      <td>1</td>\n",
              "    </tr>\n",
              "  </tbody>\n",
              "</table>\n",
              "<p>5 rows × 191 columns</p>\n",
              "</div>\n",
              "      <button class=\"colab-df-convert\" onclick=\"convertToInteractive('df-84515286-a4a3-4082-97c5-1cfd26186551')\"\n",
              "              title=\"Convert this dataframe to an interactive table.\"\n",
              "              style=\"display:none;\">\n",
              "        \n",
              "  <svg xmlns=\"http://www.w3.org/2000/svg\" height=\"24px\"viewBox=\"0 0 24 24\"\n",
              "       width=\"24px\">\n",
              "    <path d=\"M0 0h24v24H0V0z\" fill=\"none\"/>\n",
              "    <path d=\"M18.56 5.44l.94 2.06.94-2.06 2.06-.94-2.06-.94-.94-2.06-.94 2.06-2.06.94zm-11 1L8.5 8.5l.94-2.06 2.06-.94-2.06-.94L8.5 2.5l-.94 2.06-2.06.94zm10 10l.94 2.06.94-2.06 2.06-.94-2.06-.94-.94-2.06-.94 2.06-2.06.94z\"/><path d=\"M17.41 7.96l-1.37-1.37c-.4-.4-.92-.59-1.43-.59-.52 0-1.04.2-1.43.59L10.3 9.45l-7.72 7.72c-.78.78-.78 2.05 0 2.83L4 21.41c.39.39.9.59 1.41.59.51 0 1.02-.2 1.41-.59l7.78-7.78 2.81-2.81c.8-.78.8-2.07 0-2.86zM5.41 20L4 18.59l7.72-7.72 1.47 1.35L5.41 20z\"/>\n",
              "  </svg>\n",
              "      </button>\n",
              "      \n",
              "  <style>\n",
              "    .colab-df-container {\n",
              "      display:flex;\n",
              "      flex-wrap:wrap;\n",
              "      gap: 12px;\n",
              "    }\n",
              "\n",
              "    .colab-df-convert {\n",
              "      background-color: #E8F0FE;\n",
              "      border: none;\n",
              "      border-radius: 50%;\n",
              "      cursor: pointer;\n",
              "      display: none;\n",
              "      fill: #1967D2;\n",
              "      height: 32px;\n",
              "      padding: 0 0 0 0;\n",
              "      width: 32px;\n",
              "    }\n",
              "\n",
              "    .colab-df-convert:hover {\n",
              "      background-color: #E2EBFA;\n",
              "      box-shadow: 0px 1px 2px rgba(60, 64, 67, 0.3), 0px 1px 3px 1px rgba(60, 64, 67, 0.15);\n",
              "      fill: #174EA6;\n",
              "    }\n",
              "\n",
              "    [theme=dark] .colab-df-convert {\n",
              "      background-color: #3B4455;\n",
              "      fill: #D2E3FC;\n",
              "    }\n",
              "\n",
              "    [theme=dark] .colab-df-convert:hover {\n",
              "      background-color: #434B5C;\n",
              "      box-shadow: 0px 1px 3px 1px rgba(0, 0, 0, 0.15);\n",
              "      filter: drop-shadow(0px 1px 2px rgba(0, 0, 0, 0.3));\n",
              "      fill: #FFFFFF;\n",
              "    }\n",
              "  </style>\n",
              "\n",
              "      <script>\n",
              "        const buttonEl =\n",
              "          document.querySelector('#df-84515286-a4a3-4082-97c5-1cfd26186551 button.colab-df-convert');\n",
              "        buttonEl.style.display =\n",
              "          google.colab.kernel.accessAllowed ? 'block' : 'none';\n",
              "\n",
              "        async function convertToInteractive(key) {\n",
              "          const element = document.querySelector('#df-84515286-a4a3-4082-97c5-1cfd26186551');\n",
              "          const dataTable =\n",
              "            await google.colab.kernel.invokeFunction('convertToInteractive',\n",
              "                                                     [key], {});\n",
              "          if (!dataTable) return;\n",
              "\n",
              "          const docLinkHtml = 'Like what you see? Visit the ' +\n",
              "            '<a target=\"_blank\" href=https://colab.research.google.com/notebooks/data_table.ipynb>data table notebook</a>'\n",
              "            + ' to learn more about interactive tables.';\n",
              "          element.innerHTML = '';\n",
              "          dataTable['output_type'] = 'display_data';\n",
              "          await google.colab.output.renderOutput(dataTable, element);\n",
              "          const docLink = document.createElement('div');\n",
              "          docLink.innerHTML = docLinkHtml;\n",
              "          element.appendChild(docLink);\n",
              "        }\n",
              "      </script>\n",
              "    </div>\n",
              "  </div>\n",
              "  "
            ]
          },
          "metadata": {},
          "execution_count": 8
        }
      ]
    },
    {
      "cell_type": "code",
      "source": [
        "y.head()"
      ],
      "metadata": {
        "execution": {
          "iopub.status.busy": "2022-12-10T16:24:41.108943Z",
          "iopub.execute_input": "2022-12-10T16:24:41.109542Z",
          "iopub.status.idle": "2022-12-10T16:24:41.118679Z",
          "shell.execute_reply.started": "2022-12-10T16:24:41.109489Z",
          "shell.execute_reply": "2022-12-10T16:24:41.117580Z"
        },
        "trusted": true,
        "colab": {
          "base_uri": "https://localhost:8080/"
        },
        "id": "qGHvUan35ACB",
        "outputId": "3625596e-c334-4c07-a599-48929c5bb753"
      },
      "execution_count": 9,
      "outputs": [
        {
          "output_type": "execute_result",
          "data": {
            "text/plain": [
              "0    75.7\n",
              "1    50.5\n",
              "2    40.5\n",
              "3    47.2\n",
              "4    49.5\n",
              "Name: tm, dtype: float64"
            ]
          },
          "metadata": {},
          "execution_count": 9
        }
      ]
    },
    {
      "cell_type": "code",
      "source": [
        "X_train, X_test, y_train, y_test = train_test_split(X, y, train_size=0.7, random_state=42) # y_test for validation"
      ],
      "metadata": {
        "execution": {
          "iopub.status.busy": "2022-12-10T16:27:56.095528Z",
          "iopub.execute_input": "2022-12-10T16:27:56.095969Z",
          "iopub.status.idle": "2022-12-10T16:27:56.171824Z",
          "shell.execute_reply.started": "2022-12-10T16:27:56.095927Z",
          "shell.execute_reply": "2022-12-10T16:27:56.170650Z"
        },
        "trusted": true,
        "id": "rPaNoBGv5ACC"
      },
      "execution_count": 10,
      "outputs": []
    },
    {
      "cell_type": "markdown",
      "source": [
        "### 4.1 baseline"
      ],
      "metadata": {
        "id": "mSryKdMf5ACC"
      }
    },
    {
      "cell_type": "markdown",
      "source": [
        "#### 4.1.1 some basic models"
      ],
      "metadata": {
        "id": "1TNIJkcm5ACD"
      }
    },
    {
      "cell_type": "code",
      "source": [
        "# start with some basic models\n",
        "models = [(\"knn\", KNeighborsRegressor()), (\"rf\", RandomForestRegressor()), (\"svm\", SVR()),\n",
        "          (\"lr\", LinearRegression()), (\"lgbm\", LGBMRegressor()), (\"xgb\", XGBRegressor())\n",
        "         ]\n",
        "\n",
        "results = []\n",
        "names = []\n",
        "\n",
        "for name, model in models:\n",
        "    kfold = model_selection.KFold(n_splits=3, shuffle=True, random_state=42)\n",
        "    cv_results = model_selection.cross_val_score(model, X, y, cv=kfold, scoring=\"r2\") # notice from here we train the avarall dataset\n",
        "    names.append(name)\n",
        "    results.append(cv_results)\n",
        "    msg = \"%s: %f (%f)\" % (name, cv_results.mean(), cv_results.std())\n",
        "    print(msg)\n"
      ],
      "metadata": {
        "execution": {
          "iopub.status.busy": "2022-12-09T17:21:25.803456Z",
          "iopub.execute_input": "2022-12-09T17:21:25.803933Z",
          "iopub.status.idle": "2022-12-09T17:35:49.079802Z",
          "shell.execute_reply.started": "2022-12-09T17:21:25.803896Z",
          "shell.execute_reply": "2022-12-09T17:35:49.078705Z"
        },
        "trusted": true,
        "id": "FdFsuJd95ACD",
        "outputId": "5459b353-fa60-4580-fe36-2e7c10122bf1"
      },
      "execution_count": null,
      "outputs": [
        {
          "name": "stdout",
          "text": "knn: 0.508986 (0.004035)\nrf: 0.566654 (0.001959)\nsvm: 0.067301 (0.001067)\nlr: 0.228962 (0.004802)\nlgbm: 0.557775 (0.001917)\nxgb: 0.540825 (0.005657)\n",
          "output_type": "stream"
        }
      ]
    },
    {
      "cell_type": "code",
      "source": [
        "# boxplot algorithm comparison, indicates svm and lr may not be a good fit\n",
        "fig = plt.figure()\n",
        "fig.suptitle('Algorithm Comparison')\n",
        "ax = fig.add_subplot(111)\n",
        "plt.boxplot(results)\n",
        "ax.set_xticklabels(names)\n",
        "plt.grid()\n",
        "plt.legend()\n",
        "plt.show()"
      ],
      "metadata": {
        "execution": {
          "iopub.status.busy": "2022-12-09T17:46:43.950802Z",
          "iopub.execute_input": "2022-12-09T17:46:43.951323Z",
          "iopub.status.idle": "2022-12-09T17:46:44.218748Z",
          "shell.execute_reply.started": "2022-12-09T17:46:43.951286Z",
          "shell.execute_reply": "2022-12-09T17:46:44.217580Z"
        },
        "trusted": true,
        "id": "mKVX41mC5ACD",
        "outputId": "7fdc1816-4bbb-4ec4-c113-44f65156dd1e"
      },
      "execution_count": null,
      "outputs": [
        {
          "output_type": "display_data",
          "data": {
            "text/plain": "<Figure size 432x288 with 1 Axes>",
            "image/png": "[encoded data removed]"
          },
          "metadata": {
            "needs_background": "light"
          }
        }
      ]
    },
    {
      "cell_type": "markdown",
      "source": [
        "#### 4.1.2 searching better hyperparameters for each model"
      ],
      "metadata": {
        "id": "D08AXkl85ACE"
      }
    },
    {
      "cell_type": "code",
      "source": [
        "from sklearn.model_selection import GridSearchCV, RandomizedSearchCV # maybe RandomizedSearchCV can boost searching speed"
      ],
      "metadata": {
        "execution": {
          "iopub.status.busy": "2022-12-10T07:58:56.013189Z",
          "iopub.execute_input": "2022-12-10T07:58:56.013630Z",
          "iopub.status.idle": "2022-12-10T07:58:56.019823Z",
          "shell.execute_reply.started": "2022-12-10T07:58:56.013595Z",
          "shell.execute_reply": "2022-12-10T07:58:56.018642Z"
        },
        "trusted": true,
        "id": "L-iSQ8GV5ACE"
      },
      "execution_count": 119,
      "outputs": []
    },
    {
      "cell_type": "code",
      "source": [
        "# for model comparison\n",
        "comparison = pd.DataFrame(columns={\"RF\", \"LGBM\", \"XGB\", \"KNN\"}, index={\"best_params\", \"R2\", \"MSE\", \"MAE\"})\n",
        "\n",
        "def write_comparison(model_name, best_params, r2, mse, mae):\n",
        "    comparison.loc[\"best_params\", model_name] = str(best_params)\n",
        "    comparison.loc[\"R2\", model_name] = r2\n",
        "    comparison.loc[\"MSE\", model_name] = mse\n",
        "    comparison.loc[\"MAE\", model_name] = mae\n",
        "    return comparison\n"
      ],
      "metadata": {
        "execution": {
          "iopub.status.busy": "2022-12-10T08:28:43.078523Z",
          "iopub.execute_input": "2022-12-10T08:28:43.078958Z",
          "iopub.status.idle": "2022-12-10T08:28:43.088750Z",
          "shell.execute_reply.started": "2022-12-10T08:28:43.078921Z",
          "shell.execute_reply": "2022-12-10T08:28:43.087574Z"
        },
        "trusted": true,
        "id": "lEdo5MED5ACE"
      },
      "execution_count": null,
      "outputs": []
    },
    {
      "cell_type": "code",
      "source": [
        "# test model performance in test dataset\n",
        "def evaluation_criteria(y_test, y_pred):\n",
        "    r2 = metrics.r2_score(y_test, y_pred)\n",
        "    mae = metrics.mean_absolute_error(y_test, y_pred)\n",
        "    mse = metrics.mean_squared_error(y_test, y_pred)\n",
        "    return r2, mae, mse"
      ],
      "metadata": {
        "execution": {
          "iopub.status.busy": "2022-12-10T07:59:01.233425Z",
          "iopub.execute_input": "2022-12-10T07:59:01.233929Z",
          "iopub.status.idle": "2022-12-10T07:59:01.240396Z",
          "shell.execute_reply.started": "2022-12-10T07:59:01.233895Z",
          "shell.execute_reply": "2022-12-10T07:59:01.239262Z"
        },
        "trusted": true,
        "id": "KGQZVqHA5ACE"
      },
      "execution_count": null,
      "outputs": []
    },
    {
      "cell_type": "code",
      "source": [
        "# rf\n",
        "rf = RandomForestRegressor()\n",
        "\n",
        "param_grid_rf = {\n",
        "    'n_estimators': np.arange(100, 300, step=50),\n",
        "    'max_depth': list(np.arange(5, 30, step=10)),\n",
        "}\n",
        "\n",
        "# cv=5\n",
        "gs_rf = GridSearchCV(estimator=rf, param_grid=param_grid_rf, scoring=\"neg_mean_squared_error\", # using another optim\n",
        "                              cv=5, verbose=0, n_jobs=-1,\n",
        "                              return_train_score=True)\n",
        "gs_rf.fit(X_train,y_train)\n",
        "\n",
        "best_estimator_rf = gs_rf.best_estimator_\n",
        "best_params_rf = gs_rf.best_params_\n",
        "\n",
        "\n",
        "y_pred_rf= gs_rf.predict(X_test)"
      ],
      "metadata": {
        "execution": {
          "iopub.status.busy": "2022-12-09T20:43:41.109043Z",
          "iopub.execute_input": "2022-12-09T20:43:41.109566Z",
          "iopub.status.idle": "2022-12-09T21:24:44.662337Z",
          "shell.execute_reply.started": "2022-12-09T20:43:41.109528Z",
          "shell.execute_reply": "2022-12-09T21:24:44.661132Z"
        },
        "trusted": true,
        "id": "5mA57eIP5ACF"
      },
      "execution_count": null,
      "outputs": []
    },
    {
      "cell_type": "code",
      "source": [
        "r2_rf, mae_rf, mse_rf = evaluation_criteria(y_test, y_pred_rf)\n",
        "\n",
        "print(\"best params: \", best_params_rf)\n",
        "print(r2_rf, mae_rf, mse_rf)"
      ],
      "metadata": {
        "execution": {
          "iopub.status.busy": "2022-12-09T21:34:12.419481Z",
          "iopub.execute_input": "2022-12-09T21:34:12.420081Z",
          "iopub.status.idle": "2022-12-09T21:34:12.432428Z",
          "shell.execute_reply.started": "2022-12-09T21:34:12.420037Z",
          "shell.execute_reply": "2022-12-09T21:34:12.430943Z"
        },
        "trusted": true,
        "id": "v3Nbtv655ACF",
        "outputId": "4b58af38-25c9-450a-d49f-4d68729668b4"
      },
      "execution_count": null,
      "outputs": [
        {
          "name": "stdout",
          "text": "best params:  {'max_depth': 25, 'n_estimators': 250}\n0.5697359594803302 5.714212561366392 61.8132445901266\n",
          "output_type": "stream"
        }
      ]
    },
    {
      "cell_type": "code",
      "source": [
        "comparison = write_comparison(\"RF\", best_params_rf, r2_rf, mse_rf, mae_rf)\n",
        "comparison"
      ],
      "metadata": {
        "execution": {
          "iopub.status.busy": "2022-12-09T23:49:46.310309Z",
          "iopub.execute_input": "2022-12-09T23:49:46.310749Z",
          "iopub.status.idle": "2022-12-09T23:49:46.324746Z",
          "shell.execute_reply.started": "2022-12-09T23:49:46.310711Z",
          "shell.execute_reply": "2022-12-09T23:49:46.323592Z"
        },
        "trusted": true,
        "id": "mA8k_egY5ACF",
        "outputId": "01d31de4-1b73-49fd-b34d-627dbf2530cb"
      },
      "execution_count": null,
      "outputs": [
        {
          "execution_count": 92,
          "output_type": "execute_result",
          "data": {
            "text/plain": "            LGBM                                      RF  XGB  KNN\nbest_params  NaN  {'max_depth': 25, 'n_estimators': 250}  NaN  NaN\nMSE          NaN                               61.813245  NaN  NaN\nMAE          NaN                                5.714213  NaN  NaN\nR2           NaN                                0.569736  NaN  NaN",
            "text/html": "<div>\n<style scoped>\n    .dataframe tbody tr th:only-of-type {\n        vertical-align: middle;\n    }\n\n    .dataframe tbody tr th {\n        vertical-align: top;\n    }\n\n    .dataframe thead th {\n        text-align: right;\n    }\n</style>\n<table border=\"1\" class=\"dataframe\">\n  <thead>\n    <tr style=\"text-align: right;\">\n      <th></th>\n      <th>LGBM</th>\n      <th>RF</th>\n      <th>XGB</th>\n      <th>KNN</th>\n    </tr>\n  </thead>\n  <tbody>\n    <tr>\n      <th>best_params</th>\n      <td>NaN</td>\n      <td>{'max_depth': 25, 'n_estimators': 250}</td>\n      <td>NaN</td>\n      <td>NaN</td>\n    </tr>\n    <tr>\n      <th>MSE</th>\n      <td>NaN</td>\n      <td>61.813245</td>\n      <td>NaN</td>\n      <td>NaN</td>\n    </tr>\n    <tr>\n      <th>MAE</th>\n      <td>NaN</td>\n      <td>5.714213</td>\n      <td>NaN</td>\n      <td>NaN</td>\n    </tr>\n    <tr>\n      <th>R2</th>\n      <td>NaN</td>\n      <td>0.569736</td>\n      <td>NaN</td>\n      <td>NaN</td>\n    </tr>\n  </tbody>\n</table>\n</div>"
          },
          "metadata": {}
        }
      ]
    },
    {
      "cell_type": "code",
      "source": [
        "# lgbm\n",
        "lgbm = LGBMRegressor()\n",
        "param_grid_lgbm = {\n",
        "    'n_estimators': np.arange(100, 300, step=50),\n",
        "    'num_leaves': np.arange(50, 300, step=50),\n",
        "    'learning_rate': list(np.arange(0.05, 0.2, 0.05))\n",
        "}\n",
        "\n",
        "# cv=5\n",
        "gs_lgbm = GridSearchCV(estimator=lgbm, param_grid=param_grid_lgbm, scoring=\"neg_mean_squared_error\", # using another optim\n",
        "                              cv=5, verbose=0, n_jobs=-1,\n",
        "                              return_train_score=True)\n",
        "gs_lgbm.fit(X_train,y_train)\n",
        "\n",
        "best_estimator_lgbm = gs_lgbm.best_estimator_\n",
        "best_params_lgbm = gs_lgbm.best_params_\n",
        "\n"
      ],
      "metadata": {
        "execution": {
          "iopub.status.busy": "2022-12-09T21:37:38.284506Z",
          "iopub.execute_input": "2022-12-09T21:37:38.286007Z",
          "iopub.status.idle": "2022-12-09T21:54:29.444744Z",
          "shell.execute_reply.started": "2022-12-09T21:37:38.285946Z",
          "shell.execute_reply": "2022-12-09T21:54:29.443112Z"
        },
        "trusted": true,
        "id": "w2LzfHDq5ACF"
      },
      "execution_count": 120,
      "outputs": []
    },
    {
      "cell_type": "code",
      "source": [
        "y_pred_lgbm= gs_lgbm.predict(X_test)"
      ],
      "metadata": {
        "execution": {
          "iopub.status.busy": "2022-12-09T23:47:42.667501Z",
          "iopub.execute_input": "2022-12-09T23:47:42.667948Z",
          "iopub.status.idle": "2022-12-09T23:47:42.895040Z",
          "shell.execute_reply.started": "2022-12-09T23:47:42.667913Z",
          "shell.execute_reply": "2022-12-09T23:47:42.894017Z"
        },
        "trusted": true,
        "id": "cL_MD0zc5ACG"
      },
      "execution_count": null,
      "outputs": []
    },
    {
      "cell_type": "code",
      "source": [
        "r2_lgbm, mae_lgbm, mse_lgbm = evaluation_criteria(y_test, y_pred_lgbm)\n",
        "\n",
        "print(\"best params: \", best_params_lgbm)\n",
        "print(r2_lgbm, mae_lgbm, mse_lgbm)"
      ],
      "metadata": {
        "execution": {
          "iopub.status.busy": "2022-12-09T23:47:45.453423Z",
          "iopub.execute_input": "2022-12-09T23:47:45.453890Z",
          "iopub.status.idle": "2022-12-09T23:47:45.466397Z",
          "shell.execute_reply.started": "2022-12-09T23:47:45.453853Z",
          "shell.execute_reply": "2022-12-09T23:47:45.464807Z"
        },
        "trusted": true,
        "id": "rWma32Bk5ACG",
        "outputId": "81859961-e47f-48c8-bd6e-cf28fd3711d9"
      },
      "execution_count": null,
      "outputs": [
        {
          "name": "stdout",
          "text": "best params:  {'learning_rate': 0.05, 'n_estimators': 250, 'num_leaves': 250}\n0.5976281411533484 5.564431072889873 57.806155720175596\n",
          "output_type": "stream"
        }
      ]
    },
    {
      "cell_type": "code",
      "source": [
        "comparison = write_comparison(\"LGBM\", best_params_lgbm, r2_lgbm, mse_lgbm, mae_lgbm)\n",
        "comparison"
      ],
      "metadata": {
        "execution": {
          "iopub.status.busy": "2022-12-09T23:49:53.161788Z",
          "iopub.execute_input": "2022-12-09T23:49:53.162196Z",
          "iopub.status.idle": "2022-12-09T23:49:53.175988Z",
          "shell.execute_reply.started": "2022-12-09T23:49:53.162164Z",
          "shell.execute_reply": "2022-12-09T23:49:53.174599Z"
        },
        "trusted": true,
        "id": "6rbOsMu35ACG",
        "outputId": "c6995dbf-43d2-4aa6-8e74-fc9eb503f652"
      },
      "execution_count": null,
      "outputs": [
        {
          "execution_count": 93,
          "output_type": "execute_result",
          "data": {
            "text/plain": "                                                          LGBM  \\\nbest_params  {'learning_rate': 0.05, 'n_estimators': 250, '...   \nMSE                                                  57.806156   \nMAE                                                   5.564431   \nR2                                                    0.597628   \n\n                                                 RF  XGB  KNN  \nbest_params  {'max_depth': 25, 'n_estimators': 250}  NaN  NaN  \nMSE                                       61.813245  NaN  NaN  \nMAE                                        5.714213  NaN  NaN  \nR2                                         0.569736  NaN  NaN  ",
            "text/html": "<div>\n<style scoped>\n    .dataframe tbody tr th:only-of-type {\n        vertical-align: middle;\n    }\n\n    .dataframe tbody tr th {\n        vertical-align: top;\n    }\n\n    .dataframe thead th {\n        text-align: right;\n    }\n</style>\n<table border=\"1\" class=\"dataframe\">\n  <thead>\n    <tr style=\"text-align: right;\">\n      <th></th>\n      <th>LGBM</th>\n      <th>RF</th>\n      <th>XGB</th>\n      <th>KNN</th>\n    </tr>\n  </thead>\n  <tbody>\n    <tr>\n      <th>best_params</th>\n      <td>{'learning_rate': 0.05, 'n_estimators': 250, '...</td>\n      <td>{'max_depth': 25, 'n_estimators': 250}</td>\n      <td>NaN</td>\n      <td>NaN</td>\n    </tr>\n    <tr>\n      <th>MSE</th>\n      <td>57.806156</td>\n      <td>61.813245</td>\n      <td>NaN</td>\n      <td>NaN</td>\n    </tr>\n    <tr>\n      <th>MAE</th>\n      <td>5.564431</td>\n      <td>5.714213</td>\n      <td>NaN</td>\n      <td>NaN</td>\n    </tr>\n    <tr>\n      <th>R2</th>\n      <td>0.597628</td>\n      <td>0.569736</td>\n      <td>NaN</td>\n      <td>NaN</td>\n    </tr>\n  </tbody>\n</table>\n</div>"
          },
          "metadata": {}
        }
      ]
    },
    {
      "cell_type": "code",
      "source": [
        "# XGBoost\n",
        "xgb = XGBRegressor()\n",
        "\n",
        "param_grid_xgb = {\n",
        "      \"learning_rate\": list(np.arange(0.05, 0.2, 0.05)),\n",
        "      \"n_estimators\": [100, 200]\n",
        "}\n",
        "\n",
        "gs_xgb = GridSearchCV(xgb, param_grid_xgb, cv=5, n_jobs=-1, verbose=1, return_train_score=True)\n",
        "\n",
        "gs_xgb.fit(X_train, y_train)\n",
        "\n",
        "best_estimator_xgb = gs_xgb.best_estimator_\n",
        "best_params_xgb = gs_xgb.best_params_\n",
        "\n",
        "y_pred_xgb= gs_xgb.predict(X_test)"
      ],
      "metadata": {
        "execution": {
          "iopub.status.busy": "2022-12-10T08:12:10.461096Z",
          "iopub.execute_input": "2022-12-10T08:12:10.461757Z",
          "iopub.status.idle": "2022-12-10T08:18:54.344387Z",
          "shell.execute_reply.started": "2022-12-10T08:12:10.461722Z",
          "shell.execute_reply": "2022-12-10T08:18:54.343282Z"
        },
        "trusted": true,
        "id": "yvG-0zfL5ACG",
        "outputId": "6a745567-ac4a-426d-a649-88f67de03432"
      },
      "execution_count": null,
      "outputs": [
        {
          "name": "stdout",
          "text": "Fitting 5 folds for each of 8 candidates, totalling 40 fits\n",
          "output_type": "stream"
        }
      ]
    },
    {
      "cell_type": "code",
      "source": [
        "r2_xgb, mae_xgb, mse_xgb = evaluation_criteria(y_test, y_pred_xgb)\n",
        "\n",
        "print(\"best params: \", best_params_xgb)\n",
        "print(r2_xgb, mae_xgb, mse_xgb)"
      ],
      "metadata": {
        "execution": {
          "iopub.status.busy": "2022-12-10T08:27:33.008883Z",
          "iopub.execute_input": "2022-12-10T08:27:33.010332Z",
          "iopub.status.idle": "2022-12-10T08:27:33.019577Z",
          "shell.execute_reply.started": "2022-12-10T08:27:33.010287Z",
          "shell.execute_reply": "2022-12-10T08:27:33.018323Z"
        },
        "trusted": true,
        "id": "Fvts-YrQ5ACH",
        "outputId": "f40da736-848a-40c0-de46-9fd3e7903cb7"
      },
      "execution_count": null,
      "outputs": [
        {
          "name": "stdout",
          "text": "best params:  {'learning_rate': 0.1, 'n_estimators': 200}\n0.5786731324851204 5.776449682840058 60.529298898959496\n",
          "output_type": "stream"
        }
      ]
    },
    {
      "cell_type": "code",
      "source": [
        "comparison = write_comparison(\"XGB\", best_params_xgb, r2_xgb, mse_xgb, mae_xgb)\n",
        "comparison"
      ],
      "metadata": {
        "execution": {
          "iopub.status.busy": "2022-12-10T08:31:58.213233Z",
          "iopub.execute_input": "2022-12-10T08:31:58.213634Z",
          "iopub.status.idle": "2022-12-10T08:31:58.226920Z",
          "shell.execute_reply.started": "2022-12-10T08:31:58.213596Z",
          "shell.execute_reply": "2022-12-10T08:31:58.225700Z"
        },
        "trusted": true,
        "id": "nllsnrNs5ACH",
        "outputId": "8af34bdb-9f3a-4434-c0f9-83cf58144b15"
      },
      "execution_count": null,
      "outputs": [
        {
          "execution_count": 18,
          "output_type": "execute_result",
          "data": {
            "text/plain": "                                                 RF  \\\nR2                                         0.569736   \nbest_params  {'max_depth': 25, 'n_estimators': 250}   \nMSE                                       61.813245   \nMAE                                        5.714213   \n\n                                                     XGB  \\\nR2                                              0.578673   \nbest_params  {'learning_rate': 0.1, 'n_estimators': 200}   \nMSE                                            60.529299   \nMAE                                              5.77645   \n\n                                                          LGBM  KNN  \nR2                                                    0.597628  NaN  \nbest_params  {'learning_rate': 0.05, 'n_estimators': 250, '...  NaN  \nMSE                                                  57.806156  NaN  \nMAE                                                   5.564431  NaN  ",
            "text/html": "<div>\n<style scoped>\n    .dataframe tbody tr th:only-of-type {\n        vertical-align: middle;\n    }\n\n    .dataframe tbody tr th {\n        vertical-align: top;\n    }\n\n    .dataframe thead th {\n        text-align: right;\n    }\n</style>\n<table border=\"1\" class=\"dataframe\">\n  <thead>\n    <tr style=\"text-align: right;\">\n      <th></th>\n      <th>RF</th>\n      <th>XGB</th>\n      <th>LGBM</th>\n      <th>KNN</th>\n    </tr>\n  </thead>\n  <tbody>\n    <tr>\n      <th>R2</th>\n      <td>0.569736</td>\n      <td>0.578673</td>\n      <td>0.597628</td>\n      <td>NaN</td>\n    </tr>\n    <tr>\n      <th>best_params</th>\n      <td>{'max_depth': 25, 'n_estimators': 250}</td>\n      <td>{'learning_rate': 0.1, 'n_estimators': 200}</td>\n      <td>{'learning_rate': 0.05, 'n_estimators': 250, '...</td>\n      <td>NaN</td>\n    </tr>\n    <tr>\n      <th>MSE</th>\n      <td>61.813245</td>\n      <td>60.529299</td>\n      <td>57.806156</td>\n      <td>NaN</td>\n    </tr>\n    <tr>\n      <th>MAE</th>\n      <td>5.714213</td>\n      <td>5.77645</td>\n      <td>5.564431</td>\n      <td>NaN</td>\n    </tr>\n  </tbody>\n</table>\n</div>"
          },
          "metadata": {}
        }
      ]
    },
    {
      "cell_type": "code",
      "source": [
        "# knn\n",
        "knn = KNeighborsRegressor()\n",
        "\n",
        "param_grid_knn = {\n",
        "    \"n_neighbors\": [3, 5, 10, 20], \n",
        "    \"weights\": [\"uniform\",\"distance\"]}\n",
        "\n",
        "gs_knn = GridSearchCV(knn, param_grid_knn, cv=5, n_jobs=-1, verbose=1, return_train_score=True)\n",
        "\n",
        "gs_knn.fit(X_train, y_train)\n",
        "\n",
        "best_estimator_knn = gs_knn.best_estimator_\n",
        "best_params_knn = gs_knn.best_params_\n",
        "\n",
        "y_pred_knn= gs_knn.predict(X_test)"
      ],
      "metadata": {
        "execution": {
          "iopub.status.busy": "2022-12-10T08:02:38.604887Z",
          "iopub.execute_input": "2022-12-10T08:02:38.605328Z",
          "iopub.status.idle": "2022-12-10T08:05:27.515506Z",
          "shell.execute_reply.started": "2022-12-10T08:02:38.605290Z",
          "shell.execute_reply": "2022-12-10T08:05:27.513933Z"
        },
        "trusted": true,
        "id": "rvH11_u65ACH",
        "outputId": "372dac12-ae62-494d-d6fe-098dc275886e"
      },
      "execution_count": null,
      "outputs": [
        {
          "name": "stdout",
          "text": "Fitting 5 folds for each of 8 candidates, totalling 40 fits\n",
          "output_type": "stream"
        }
      ]
    },
    {
      "cell_type": "code",
      "source": [
        "r2_knn, mae_knn, mse_knn = evaluation_criteria(y_test, y_pred_knn)\n",
        "\n",
        "print(\"best params: \", best_params_knn)\n",
        "print(r2_knn, mae_knn, mse_knn)"
      ],
      "metadata": {
        "execution": {
          "iopub.status.busy": "2022-12-10T08:26:34.949898Z",
          "iopub.execute_input": "2022-12-10T08:26:34.950325Z",
          "iopub.status.idle": "2022-12-10T08:26:34.960608Z",
          "shell.execute_reply.started": "2022-12-10T08:26:34.950290Z",
          "shell.execute_reply": "2022-12-10T08:26:34.959265Z"
        },
        "trusted": true,
        "id": "6dW6X__65ACH",
        "outputId": "500d0063-d2f8-4304-be68-1194b27a89ca"
      },
      "execution_count": null,
      "outputs": [
        {
          "name": "stdout",
          "text": "best params:  {'n_neighbors': 10, 'weights': 'distance'}\n0.5212624592529533 5.943662333077348 68.77711803415293\n",
          "output_type": "stream"
        }
      ]
    },
    {
      "cell_type": "code",
      "source": [
        "# after tuning, together considering MSE, MAE and R2, LGBM in such senarios performs the best in prediction\n",
        "comparison = write_comparison(\"KNN\", best_params_knn, r2_knn, mse_knn, mae_knn)\n",
        "comparison"
      ],
      "metadata": {
        "execution": {
          "iopub.status.busy": "2022-12-10T08:32:06.068344Z",
          "iopub.execute_input": "2022-12-10T08:32:06.068793Z",
          "iopub.status.idle": "2022-12-10T08:32:06.082329Z",
          "shell.execute_reply.started": "2022-12-10T08:32:06.068759Z",
          "shell.execute_reply": "2022-12-10T08:32:06.080883Z"
        },
        "trusted": true,
        "id": "-4NDbo7S5ACH",
        "outputId": "b0bb2d1b-262e-41ed-a7c3-4bfec6dedb02"
      },
      "execution_count": null,
      "outputs": [
        {
          "execution_count": 19,
          "output_type": "execute_result",
          "data": {
            "text/plain": "                                                 RF  \\\nR2                                         0.569736   \nbest_params  {'max_depth': 25, 'n_estimators': 250}   \nMSE                                       61.813245   \nMAE                                        5.714213   \n\n                                                     XGB  \\\nR2                                              0.578673   \nbest_params  {'learning_rate': 0.1, 'n_estimators': 200}   \nMSE                                            60.529299   \nMAE                                              5.77645   \n\n                                                          LGBM  \\\nR2                                                    0.597628   \nbest_params  {'learning_rate': 0.05, 'n_estimators': 250, '...   \nMSE                                                  57.806156   \nMAE                                                   5.564431   \n\n                                                    KNN  \nR2                                             0.521262  \nbest_params  {'n_neighbors': 10, 'weights': 'distance'}  \nMSE                                           68.777118  \nMAE                                            5.943662  ",
            "text/html": "<div>\n<style scoped>\n    .dataframe tbody tr th:only-of-type {\n        vertical-align: middle;\n    }\n\n    .dataframe tbody tr th {\n        vertical-align: top;\n    }\n\n    .dataframe thead th {\n        text-align: right;\n    }\n</style>\n<table border=\"1\" class=\"dataframe\">\n  <thead>\n    <tr style=\"text-align: right;\">\n      <th></th>\n      <th>RF</th>\n      <th>XGB</th>\n      <th>LGBM</th>\n      <th>KNN</th>\n    </tr>\n  </thead>\n  <tbody>\n    <tr>\n      <th>R2</th>\n      <td>0.569736</td>\n      <td>0.578673</td>\n      <td>0.597628</td>\n      <td>0.521262</td>\n    </tr>\n    <tr>\n      <th>best_params</th>\n      <td>{'max_depth': 25, 'n_estimators': 250}</td>\n      <td>{'learning_rate': 0.1, 'n_estimators': 200}</td>\n      <td>{'learning_rate': 0.05, 'n_estimators': 250, '...</td>\n      <td>{'n_neighbors': 10, 'weights': 'distance'}</td>\n    </tr>\n    <tr>\n      <th>MSE</th>\n      <td>61.813245</td>\n      <td>60.529299</td>\n      <td>57.806156</td>\n      <td>68.777118</td>\n    </tr>\n    <tr>\n      <th>MAE</th>\n      <td>5.714213</td>\n      <td>5.77645</td>\n      <td>5.564431</td>\n      <td>5.943662</td>\n    </tr>\n  </tbody>\n</table>\n</div>"
          },
          "metadata": {}
        }
      ]
    },
    {
      "cell_type": "code",
      "source": [
        "# save these models\n",
        "import pickle\n",
        "pickle.dump(gs_rf, open('gs_rf.sav', 'wb'))\n",
        "pickle.dump(gs_lgbm, open('gs_lgbm.sav', 'wb'))\n",
        "pickle.dump(gs_xgb, open('gs_xgb.sav', 'wb'))\n",
        "pickle.dump(gs_knn, open('gs_knn.sav', 'wb'))"
      ],
      "metadata": {
        "execution": {
          "iopub.status.busy": "2022-12-10T00:04:10.000761Z",
          "iopub.execute_input": "2022-12-10T00:04:10.001177Z",
          "iopub.status.idle": "2022-12-10T00:04:10.700016Z",
          "shell.execute_reply.started": "2022-12-10T00:04:10.001145Z",
          "shell.execute_reply": "2022-12-10T00:04:10.698983Z"
        },
        "trusted": true,
        "id": "lqdsyJUL5ACI"
      },
      "execution_count": null,
      "outputs": []
    },
    {
      "cell_type": "markdown",
      "source": [
        "### 4.2 ensemble approach"
      ],
      "metadata": {
        "id": "YHajyJQd5ACI"
      }
    },
    {
      "cell_type": "code",
      "source": [
        "passlist = X_train.columns.values.tolist()\n",
        "for i in [\"pH\", \"length\", \"kinds\", \"position\", \"wildtype\", \"mutation\"]:\n",
        "    passlist.remove(i)"
      ],
      "metadata": {
        "execution": {
          "iopub.status.busy": "2022-12-10T08:44:35.096638Z",
          "iopub.execute_input": "2022-12-10T08:44:35.097169Z",
          "iopub.status.idle": "2022-12-10T08:44:35.104370Z",
          "shell.execute_reply.started": "2022-12-10T08:44:35.097128Z",
          "shell.execute_reply": "2022-12-10T08:44:35.102752Z"
        },
        "trusted": true,
        "id": "9xQv8Lhk5ACI"
      },
      "execution_count": null,
      "outputs": []
    },
    {
      "cell_type": "code",
      "source": [
        "# considering to ensemble two models, first try combine knn and lgbm, with fast processing speed for trial\n",
        "from sklearn.compose import make_column_transformer\n",
        "from sklearn.pipeline import make_pipeline\n",
        "from sklearn.ensemble import StackingRegressor\n",
        "\n",
        "knn_pipeline = make_pipeline(make_column_transformer((\"passthrough\", [\"pH\", \"length\", \"kinds\", \"position\", \"wildtype\", \"mutation\"])), knn)\n",
        "lgbm_pipeline = make_pipeline(make_column_transformer((\"passthrough\", passlist)), lgbm)\n",
        "\n",
        "estimators = [\n",
        "    ('kNN', knn_pipeline),\n",
        "    ('LGBM', lgbm_pipeline)\n",
        "]\n",
        "\n",
        "clf = StackingRegressor(\n",
        "    estimators=estimators, final_estimator=LinearRegression(), cv=5\n",
        ")\n",
        "clf"
      ],
      "metadata": {
        "execution": {
          "iopub.status.busy": "2022-12-10T08:45:12.499367Z",
          "iopub.execute_input": "2022-12-10T08:45:12.499816Z",
          "iopub.status.idle": "2022-12-10T08:45:12.539737Z",
          "shell.execute_reply.started": "2022-12-10T08:45:12.499782Z",
          "shell.execute_reply": "2022-12-10T08:45:12.538079Z"
        },
        "trusted": true,
        "id": "7cxbjOQZ5ACI",
        "outputId": "98bdfd7e-33b4-4e60-864f-d81a111514ce"
      },
      "execution_count": null,
      "outputs": [
        {
          "execution_count": 28,
          "output_type": "execute_result",
          "data": {
            "text/plain": "StackingRegressor(cv=5,\n                  estimators=[('kNN',\n                               Pipeline(steps=[('columntransformer',\n                                                ColumnTransformer(transformers=[('passthrough',\n                                                                                 'passthrough',\n                                                                                 ['pH',\n                                                                                  'length',\n                                                                                  'kinds',\n                                                                                  'position',\n                                                                                  'wildtype',\n                                                                                  'mutation'])])),\n                                               ('kneighborsregressor',\n                                                KNeighborsRegressor())])),\n                              ('LGBM',\n                               Pipeline(steps=[('columntransformer',\n                                                ColumnTransformer(transformers=[('passthrough',\n                                                                                 'passthrough',\n                                                                                 ['data_source',\n                                                                                  'A',\n                                                                                  'C',\n                                                                                  'D',\n                                                                                  'E',\n                                                                                  'F',\n                                                                                  'G',\n                                                                                  'H',\n                                                                                  'I',\n                                                                                  'L',\n                                                                                  'M',\n                                                                                  'N',\n                                                                                  'P',\n                                                                                  'Q',\n                                                                                  'R',\n                                                                                  'S',\n                                                                                  'W',\n                                                                                  'Y',\n                                                                                  'AA',\n                                                                                  'AE',\n                                                                                  'AG',\n                                                                                  'AI',\n                                                                                  'AK',\n                                                                                  'AL',\n                                                                                  'AS',\n                                                                                  'AV',\n                                                                                  'DA',\n                                                                                  'DE',\n                                                                                  'DL',\n                                                                                  'EA', ...])])),\n                                               ('lgbmregressor',\n                                                LGBMRegressor())]))],\n                  final_estimator=LinearRegression())"
          },
          "metadata": {}
        }
      ]
    },
    {
      "cell_type": "code",
      "source": [
        "# check which of the keys can be modified\n",
        "clf.get_params().keys()"
      ],
      "metadata": {
        "execution": {
          "iopub.status.busy": "2022-12-10T00:05:50.552062Z",
          "iopub.execute_input": "2022-12-10T00:05:50.552814Z",
          "iopub.status.idle": "2022-12-10T00:05:50.564948Z",
          "shell.execute_reply.started": "2022-12-10T00:05:50.552759Z",
          "shell.execute_reply": "2022-12-10T00:05:50.563280Z"
        },
        "trusted": true,
        "id": "DVUV8P2J5ACI",
        "outputId": "afee6acb-6774-4e26-c29e-764b8ce389f4"
      },
      "execution_count": null,
      "outputs": [
        {
          "execution_count": 100,
          "output_type": "execute_result",
          "data": {
            "text/plain": "dict_keys(['cv', 'estimators', 'final_estimator__copy_X', 'final_estimator__fit_intercept', 'final_estimator__n_jobs', 'final_estimator__normalize', 'final_estimator__positive', 'final_estimator', 'n_jobs', 'passthrough', 'verbose', 'kNN', 'LGBM', 'kNN__memory', 'kNN__steps', 'kNN__verbose', 'kNN__columntransformer', 'kNN__kneighborsregressor', 'kNN__columntransformer__n_jobs', 'kNN__columntransformer__remainder', 'kNN__columntransformer__sparse_threshold', 'kNN__columntransformer__transformer_weights', 'kNN__columntransformer__transformers', 'kNN__columntransformer__verbose', 'kNN__columntransformer__verbose_feature_names_out', 'kNN__columntransformer__passthrough', 'kNN__kneighborsregressor__algorithm', 'kNN__kneighborsregressor__leaf_size', 'kNN__kneighborsregressor__metric', 'kNN__kneighborsregressor__metric_params', 'kNN__kneighborsregressor__n_jobs', 'kNN__kneighborsregressor__n_neighbors', 'kNN__kneighborsregressor__p', 'kNN__kneighborsregressor__weights', 'LGBM__memory', 'LGBM__steps', 'LGBM__verbose', 'LGBM__columntransformer', 'LGBM__lgbmregressor', 'LGBM__columntransformer__n_jobs', 'LGBM__columntransformer__remainder', 'LGBM__columntransformer__sparse_threshold', 'LGBM__columntransformer__transformer_weights', 'LGBM__columntransformer__transformers', 'LGBM__columntransformer__verbose', 'LGBM__columntransformer__verbose_feature_names_out', 'LGBM__columntransformer__drop', 'LGBM__lgbmregressor__boosting_type', 'LGBM__lgbmregressor__class_weight', 'LGBM__lgbmregressor__colsample_bytree', 'LGBM__lgbmregressor__importance_type', 'LGBM__lgbmregressor__learning_rate', 'LGBM__lgbmregressor__max_depth', 'LGBM__lgbmregressor__min_child_samples', 'LGBM__lgbmregressor__min_child_weight', 'LGBM__lgbmregressor__min_split_gain', 'LGBM__lgbmregressor__n_estimators', 'LGBM__lgbmregressor__n_jobs', 'LGBM__lgbmregressor__num_leaves', 'LGBM__lgbmregressor__objective', 'LGBM__lgbmregressor__random_state', 'LGBM__lgbmregressor__reg_alpha', 'LGBM__lgbmregressor__reg_lambda', 'LGBM__lgbmregressor__silent', 'LGBM__lgbmregressor__subsample', 'LGBM__lgbmregressor__subsample_for_bin', 'LGBM__lgbmregressor__subsample_freq'])"
          },
          "metadata": {}
        }
      ]
    },
    {
      "cell_type": "code",
      "source": [
        "# also find better hyperparameters for ensembles\n",
        "# why not Randomized Search for faster processing\n",
        "param_grid_ensem = dict(\n",
        "        kNN__kneighborsregressor__n_neighbors = [3, 5, 10, 20],\n",
        "        kNN__kneighborsregressor__weights = [\"uniform\",\"distance\"],\n",
        "        LGBM__lgbmregressor__n_estimators = np.arange(100, 300, step=50),\n",
        "        LGBM__lgbmregressor__num_leaves = np.arange(50, 300, step=50),\n",
        "        LGBM__lgbmregressor__learning_rate =  list(np.arange(0.05, 0.2, 0.05))\n",
        "        )\n",
        "\n",
        "# gs_ensem = GridSearchCV(clf, param_grid=param_grid_ensem) # even \n",
        "gs_ensem = RandomizedSearchCV(clf, param_distributions=param_grid_ensem) # switch to random search because grid is toooooo time consuming, be careful about the variables\n",
        "gs_ensem.fit(X_train,y_train)\n",
        "\n",
        "best_estimator_ensem = gs_ensem.best_estimator_\n",
        "best_params_ensem = gs_ensem.best_params_\n",
        "\n",
        "y_pred_ensem= gs_ensem.predict(X_test)"
      ],
      "metadata": {
        "execution": {
          "iopub.status.busy": "2022-12-10T15:10:37.638690Z",
          "iopub.execute_input": "2022-12-10T15:10:37.639146Z",
          "iopub.status.idle": "2022-12-10T15:27:05.902882Z",
          "shell.execute_reply.started": "2022-12-10T15:10:37.639105Z",
          "shell.execute_reply": "2022-12-10T15:27:05.901070Z"
        },
        "trusted": true,
        "id": "2FooyDw95ACI"
      },
      "execution_count": null,
      "outputs": []
    },
    {
      "cell_type": "code",
      "source": [
        "r2_ensem, mae_ensem, mse_ensem = evaluation_criteria(y_test, y_pred_ensem)\n",
        "\n",
        "print(\"best params: \", best_params_ensem)\n",
        "print(r2_ensem, mae_ensem, mse_ensem)"
      ],
      "metadata": {
        "execution": {
          "iopub.status.busy": "2022-12-10T15:28:02.720534Z",
          "iopub.execute_input": "2022-12-10T15:28:02.721038Z",
          "iopub.status.idle": "2022-12-10T15:28:02.732034Z",
          "shell.execute_reply.started": "2022-12-10T15:28:02.720992Z",
          "shell.execute_reply": "2022-12-10T15:28:02.730399Z"
        },
        "trusted": true,
        "id": "sHLNW9By5ACJ",
        "outputId": "8c5a47e7-480d-4a13-8324-fe3039f92ccd"
      },
      "execution_count": null,
      "outputs": [
        {
          "name": "stdout",
          "text": "best params:  {'kNN__kneighborsregressor__weights': 'distance', 'kNN__kneighborsregressor__n_neighbors': 3, 'LGBM__lgbmregressor__num_leaves': 100, 'LGBM__lgbmregressor__n_estimators': 250, 'LGBM__lgbmregressor__learning_rate': 0.1}\n0.5651629350409133 5.855616850114026 62.47022135687869\n",
          "output_type": "stream"
        }
      ]
    },
    {
      "cell_type": "code",
      "source": [
        "# Compare with baseline, boosted from knn, but still lower than the other 3 with tuned hyperparameters\n",
        "comparison[\"ensemble\"] = [0.5651629350409133, \"{'kNN__kneighborsregressor__weights': 'distance', 'kNN__kneighborsregressor__n_neighbors': 3, 'LGBM__lgbmregressor__num_leaves': 100, 'LGBM__lgbmregressor__n_estimators': 250, 'LGBM__lgbmregressor__learning_rate': 0.1}\", 62.47022135687869, 5.855616850114026]\n",
        "comparison"
      ],
      "metadata": {
        "execution": {
          "iopub.status.busy": "2022-12-10T15:29:02.899680Z",
          "iopub.execute_input": "2022-12-10T15:29:02.900147Z",
          "iopub.status.idle": "2022-12-10T15:29:02.915235Z",
          "shell.execute_reply.started": "2022-12-10T15:29:02.900109Z",
          "shell.execute_reply": "2022-12-10T15:29:02.914046Z"
        },
        "trusted": true,
        "id": "uskmsG9x5ACJ",
        "outputId": "19236c60-f16a-4a99-a02a-9cc5dba2fb84"
      },
      "execution_count": null,
      "outputs": [
        {
          "execution_count": 32,
          "output_type": "execute_result",
          "data": {
            "text/plain": "                                                 RF  \\\nR2                                         0.569736   \nbest_params  {'max_depth': 25, 'n_estimators': 250}   \nMSE                                       61.813245   \nMAE                                        5.714213   \n\n                                                     XGB  \\\nR2                                              0.578673   \nbest_params  {'learning_rate': 0.1, 'n_estimators': 200}   \nMSE                                            60.529299   \nMAE                                              5.77645   \n\n                                                          LGBM  \\\nR2                                                    0.597628   \nbest_params  {'learning_rate': 0.05, 'n_estimators': 250, '...   \nMSE                                                  57.806156   \nMAE                                                   5.564431   \n\n                                                    KNN  \\\nR2                                             0.521262   \nbest_params  {'n_neighbors': 10, 'weights': 'distance'}   \nMSE                                           68.777118   \nMAE                                            5.943662   \n\n                                                      ensemble  \nR2                                                    0.565163  \nbest_params  {'kNN__kneighborsregressor__weights': 'distanc...  \nMSE                                                  62.470221  \nMAE                                                   5.855617  ",
            "text/html": "<div>\n<style scoped>\n    .dataframe tbody tr th:only-of-type {\n        vertical-align: middle;\n    }\n\n    .dataframe tbody tr th {\n        vertical-align: top;\n    }\n\n    .dataframe thead th {\n        text-align: right;\n    }\n</style>\n<table border=\"1\" class=\"dataframe\">\n  <thead>\n    <tr style=\"text-align: right;\">\n      <th></th>\n      <th>RF</th>\n      <th>XGB</th>\n      <th>LGBM</th>\n      <th>KNN</th>\n      <th>ensemble</th>\n    </tr>\n  </thead>\n  <tbody>\n    <tr>\n      <th>R2</th>\n      <td>0.569736</td>\n      <td>0.578673</td>\n      <td>0.597628</td>\n      <td>0.521262</td>\n      <td>0.565163</td>\n    </tr>\n    <tr>\n      <th>best_params</th>\n      <td>{'max_depth': 25, 'n_estimators': 250}</td>\n      <td>{'learning_rate': 0.1, 'n_estimators': 200}</td>\n      <td>{'learning_rate': 0.05, 'n_estimators': 250, '...</td>\n      <td>{'n_neighbors': 10, 'weights': 'distance'}</td>\n      <td>{'kNN__kneighborsregressor__weights': 'distanc...</td>\n    </tr>\n    <tr>\n      <th>MSE</th>\n      <td>61.813245</td>\n      <td>60.529299</td>\n      <td>57.806156</td>\n      <td>68.777118</td>\n      <td>62.470221</td>\n    </tr>\n    <tr>\n      <th>MAE</th>\n      <td>5.714213</td>\n      <td>5.77645</td>\n      <td>5.564431</td>\n      <td>5.943662</td>\n      <td>5.855617</td>\n    </tr>\n  </tbody>\n</table>\n</div>"
          },
          "metadata": {}
        }
      ]
    },
    {
      "cell_type": "code",
      "source": [
        "# saving the ensembels\n",
        "pickle.dump(gs_ensem, open('gs_ensem.sav', 'wb'))"
      ],
      "metadata": {
        "execution": {
          "iopub.status.busy": "2022-12-10T15:29:30.423735Z",
          "iopub.execute_input": "2022-12-10T15:29:30.424297Z",
          "iopub.status.idle": "2022-12-10T15:29:30.519862Z",
          "shell.execute_reply.started": "2022-12-10T15:29:30.424257Z",
          "shell.execute_reply": "2022-12-10T15:29:30.518890Z"
        },
        "trusted": true,
        "id": "4OhJQgts5ACJ"
      },
      "execution_count": null,
      "outputs": []
    },
    {
      "cell_type": "code",
      "source": [
        "# try combine the best two models, final estimator with lr\n",
        "xgb_pipeline = make_pipeline(make_column_transformer((\"passthrough\", [\"pH\", \"length\", \"kinds\", \"position\", \"wildtype\", \"mutation\"])), xgb)\n",
        "lgbm_pipeline = make_pipeline(make_column_transformer((\"passthrough\", passlist)), lgbm)\n",
        "\n",
        "estimators_ensemble_2 = [\n",
        "    ('XGB', xgb_pipeline),\n",
        "    ('LGBM', lgbm_pipeline)\n",
        "]\n",
        "\n",
        "clf_2 = StackingRegressor(\n",
        "    estimators=estimators_ensemble_2, final_estimator=LinearRegression(), cv=5\n",
        ")\n",
        "clf_2"
      ],
      "metadata": {
        "execution": {
          "iopub.status.busy": "2022-12-10T15:35:04.872758Z",
          "iopub.execute_input": "2022-12-10T15:35:04.873210Z",
          "iopub.status.idle": "2022-12-10T15:35:04.928748Z",
          "shell.execute_reply.started": "2022-12-10T15:35:04.873174Z",
          "shell.execute_reply": "2022-12-10T15:35:04.924190Z"
        },
        "trusted": true,
        "id": "_238bxBZ5ACJ",
        "outputId": "620a70c8-eaee-49f1-c1fd-6cf25c478186"
      },
      "execution_count": null,
      "outputs": [
        {
          "execution_count": 37,
          "output_type": "execute_result",
          "data": {
            "text/plain": "StackingRegressor(cv=5,\n                  estimators=[('XGB',\n                               Pipeline(steps=[('columntransformer',\n                                                ColumnTransformer(transformers=[('passthrough',\n                                                                                 'passthrough',\n                                                                                 ['pH',\n                                                                                  'length',\n                                                                                  'kinds',\n                                                                                  'position',\n                                                                                  'wildtype',\n                                                                                  'mutation'])])),\n                                               ('xgbregressor',\n                                                XGBRegressor(base_score=None,\n                                                             booster=None,\n                                                             callbacks=None,\n                                                             colsample_bylevel=None,\n                                                             colsample_bynode=None,\n                                                             colsample_bytree=None,\n                                                             early_sto...\n                                                             reg_lambda=None, ...))])),\n                              ('LGBM',\n                               Pipeline(steps=[('columntransformer',\n                                                ColumnTransformer(transformers=[('passthrough',\n                                                                                 'passthrough',\n                                                                                 ['data_source',\n                                                                                  'A',\n                                                                                  'C',\n                                                                                  'D',\n                                                                                  'E',\n                                                                                  'F',\n                                                                                  'G',\n                                                                                  'H',\n                                                                                  'I',\n                                                                                  'L',\n                                                                                  'M',\n                                                                                  'N',\n                                                                                  'P',\n                                                                                  'Q',\n                                                                                  'R',\n                                                                                  'S',\n                                                                                  'W',\n                                                                                  'Y',\n                                                                                  'AA',\n                                                                                  'AE',\n                                                                                  'AG',\n                                                                                  'AI',\n                                                                                  'AK',\n                                                                                  'AL',\n                                                                                  'AS',\n                                                                                  'AV',\n                                                                                  'DA',\n                                                                                  'DE',\n                                                                                  'DL',\n                                                                                  'EA', ...])])),\n                                               ('lgbmregressor',\n                                                LGBMRegressor())]))],\n                  final_estimator=LinearRegression())"
          },
          "metadata": {}
        }
      ]
    },
    {
      "cell_type": "code",
      "source": [
        "clf_2.get_params().keys()"
      ],
      "metadata": {
        "execution": {
          "iopub.status.busy": "2022-12-10T15:35:11.868300Z",
          "iopub.execute_input": "2022-12-10T15:35:11.869003Z",
          "iopub.status.idle": "2022-12-10T15:35:11.876853Z",
          "shell.execute_reply.started": "2022-12-10T15:35:11.868953Z",
          "shell.execute_reply": "2022-12-10T15:35:11.875902Z"
        },
        "trusted": true,
        "id": "A6WqIYL55ACJ",
        "outputId": "d95d0e49-07ba-4c37-8e24-cb18ba11a795"
      },
      "execution_count": null,
      "outputs": [
        {
          "execution_count": 38,
          "output_type": "execute_result",
          "data": {
            "text/plain": "dict_keys(['cv', 'estimators', 'final_estimator__copy_X', 'final_estimator__fit_intercept', 'final_estimator__n_jobs', 'final_estimator__normalize', 'final_estimator__positive', 'final_estimator', 'n_jobs', 'passthrough', 'verbose', 'XGB', 'LGBM', 'XGB__memory', 'XGB__steps', 'XGB__verbose', 'XGB__columntransformer', 'XGB__xgbregressor', 'XGB__columntransformer__n_jobs', 'XGB__columntransformer__remainder', 'XGB__columntransformer__sparse_threshold', 'XGB__columntransformer__transformer_weights', 'XGB__columntransformer__transformers', 'XGB__columntransformer__verbose', 'XGB__columntransformer__verbose_feature_names_out', 'XGB__columntransformer__passthrough', 'XGB__xgbregressor__objective', 'XGB__xgbregressor__base_score', 'XGB__xgbregressor__booster', 'XGB__xgbregressor__callbacks', 'XGB__xgbregressor__colsample_bylevel', 'XGB__xgbregressor__colsample_bynode', 'XGB__xgbregressor__colsample_bytree', 'XGB__xgbregressor__early_stopping_rounds', 'XGB__xgbregressor__enable_categorical', 'XGB__xgbregressor__eval_metric', 'XGB__xgbregressor__gamma', 'XGB__xgbregressor__gpu_id', 'XGB__xgbregressor__grow_policy', 'XGB__xgbregressor__importance_type', 'XGB__xgbregressor__interaction_constraints', 'XGB__xgbregressor__learning_rate', 'XGB__xgbregressor__max_bin', 'XGB__xgbregressor__max_cat_to_onehot', 'XGB__xgbregressor__max_delta_step', 'XGB__xgbregressor__max_depth', 'XGB__xgbregressor__max_leaves', 'XGB__xgbregressor__min_child_weight', 'XGB__xgbregressor__missing', 'XGB__xgbregressor__monotone_constraints', 'XGB__xgbregressor__n_estimators', 'XGB__xgbregressor__n_jobs', 'XGB__xgbregressor__num_parallel_tree', 'XGB__xgbregressor__predictor', 'XGB__xgbregressor__random_state', 'XGB__xgbregressor__reg_alpha', 'XGB__xgbregressor__reg_lambda', 'XGB__xgbregressor__sampling_method', 'XGB__xgbregressor__scale_pos_weight', 'XGB__xgbregressor__subsample', 'XGB__xgbregressor__tree_method', 'XGB__xgbregressor__validate_parameters', 'XGB__xgbregressor__verbosity', 'LGBM__memory', 'LGBM__steps', 'LGBM__verbose', 'LGBM__columntransformer', 'LGBM__lgbmregressor', 'LGBM__columntransformer__n_jobs', 'LGBM__columntransformer__remainder', 'LGBM__columntransformer__sparse_threshold', 'LGBM__columntransformer__transformer_weights', 'LGBM__columntransformer__transformers', 'LGBM__columntransformer__verbose', 'LGBM__columntransformer__verbose_feature_names_out', 'LGBM__columntransformer__passthrough', 'LGBM__lgbmregressor__boosting_type', 'LGBM__lgbmregressor__class_weight', 'LGBM__lgbmregressor__colsample_bytree', 'LGBM__lgbmregressor__importance_type', 'LGBM__lgbmregressor__learning_rate', 'LGBM__lgbmregressor__max_depth', 'LGBM__lgbmregressor__min_child_samples', 'LGBM__lgbmregressor__min_child_weight', 'LGBM__lgbmregressor__min_split_gain', 'LGBM__lgbmregressor__n_estimators', 'LGBM__lgbmregressor__n_jobs', 'LGBM__lgbmregressor__num_leaves', 'LGBM__lgbmregressor__objective', 'LGBM__lgbmregressor__random_state', 'LGBM__lgbmregressor__reg_alpha', 'LGBM__lgbmregressor__reg_lambda', 'LGBM__lgbmregressor__silent', 'LGBM__lgbmregressor__subsample', 'LGBM__lgbmregressor__subsample_for_bin', 'LGBM__lgbmregressor__subsample_freq'])"
          },
          "metadata": {}
        }
      ]
    },
    {
      "cell_type": "code",
      "source": [
        "param_grid_ensem2 = dict(\n",
        "        XGB__xgbregressor__learning_rate = list(np.arange(0.05, 0.2, 0.05)),\n",
        "        XGB__xgbregressor__n_estimators = [100, 200],\n",
        "        LGBM__lgbmregressor__n_estimators = np.arange(100, 300, step=50),\n",
        "        LGBM__lgbmregressor__num_leaves = np.arange(50, 300, step=50),\n",
        "        LGBM__lgbmregressor__learning_rate =  list(np.arange(0.05, 0.2, 0.05))\n",
        "        )\n",
        "\n",
        "gs_ensem2 = RandomizedSearchCV(clf_2, param_distributions=param_grid_ensem2) # switch to random search, be careful about the variable name\n",
        "gs_ensem2.fit(X_train,y_train)\n",
        "\n",
        "best_estimator_ensem2 = gs_ensem2.best_estimator_\n",
        "best_params_ensem2 = gs_ensem2.best_params_\n",
        "\n",
        "y_pred_ensem2 = gs_ensem2.predict(X_test)"
      ],
      "metadata": {
        "execution": {
          "iopub.status.busy": "2022-12-10T15:38:16.319480Z",
          "iopub.execute_input": "2022-12-10T15:38:16.319921Z",
          "iopub.status.idle": "2022-12-10T16:01:57.409269Z",
          "shell.execute_reply.started": "2022-12-10T15:38:16.319885Z",
          "shell.execute_reply": "2022-12-10T16:01:57.407962Z"
        },
        "trusted": true,
        "id": "b8QI5gXg5ACJ"
      },
      "execution_count": null,
      "outputs": []
    },
    {
      "cell_type": "code",
      "source": [
        "r2_ensem2, mae_ensem2, mse_ensem2 = evaluation_criteria(y_test, y_pred_ensem2)\n",
        "\n",
        "print(\"best params: \", best_params_ensem2)\n",
        "print(r2_ensem2, mae_ensem2, mse_ensem2)"
      ],
      "metadata": {
        "execution": {
          "iopub.status.busy": "2022-12-10T16:03:02.451319Z",
          "iopub.execute_input": "2022-12-10T16:03:02.451722Z",
          "iopub.status.idle": "2022-12-10T16:03:02.461699Z",
          "shell.execute_reply.started": "2022-12-10T16:03:02.451690Z",
          "shell.execute_reply": "2022-12-10T16:03:02.460443Z"
        },
        "trusted": true,
        "id": "QoGrcnRR5ACK",
        "outputId": "bde69e39-5e46-435f-f910-2bee16811fb7"
      },
      "execution_count": null,
      "outputs": [
        {
          "name": "stdout",
          "text": "best params:  {'XGB__xgbregressor__n_estimators': 100, 'XGB__xgbregressor__learning_rate': 0.05, 'LGBM__lgbmregressor__num_leaves': 250, 'LGBM__lgbmregressor__n_estimators': 200, 'LGBM__lgbmregressor__learning_rate': 0.05}\n0.5724605648591456 5.798807552053599 61.42181820346206\n",
          "output_type": "stream"
        }
      ]
    },
    {
      "cell_type": "code",
      "source": [
        "comparison[\"ensemble_2\"] = [0.5724605648591456, \"{'XGB__xgbregressor__n_estimators': 100, 'XGB__xgbregressor__learning_rate': 0.05, 'LGBM__lgbmregressor__num_leaves': 250, 'LGBM__lgbmregressor__n_estimators': 200, 'LGBM__lgbmregressor__learning_rate': 0.05}\", 61.42181820346206, 5.798807552053599]\n",
        "comparison"
      ],
      "metadata": {
        "execution": {
          "iopub.status.busy": "2022-12-10T16:04:16.322675Z",
          "iopub.execute_input": "2022-12-10T16:04:16.324089Z",
          "iopub.status.idle": "2022-12-10T16:04:16.341084Z",
          "shell.execute_reply.started": "2022-12-10T16:04:16.324039Z",
          "shell.execute_reply": "2022-12-10T16:04:16.339717Z"
        },
        "trusted": true,
        "id": "IkySVIrr5ACK",
        "outputId": "ae44a6a2-92ba-495c-a441-3f06d29114e2"
      },
      "execution_count": null,
      "outputs": [
        {
          "execution_count": 42,
          "output_type": "execute_result",
          "data": {
            "text/plain": "                                                 RF  \\\nR2                                         0.569736   \nbest_params  {'max_depth': 25, 'n_estimators': 250}   \nMSE                                       61.813245   \nMAE                                        5.714213   \n\n                                                     XGB  \\\nR2                                              0.578673   \nbest_params  {'learning_rate': 0.1, 'n_estimators': 200}   \nMSE                                            60.529299   \nMAE                                              5.77645   \n\n                                                          LGBM  \\\nR2                                                    0.597628   \nbest_params  {'learning_rate': 0.05, 'n_estimators': 250, '...   \nMSE                                                  57.806156   \nMAE                                                   5.564431   \n\n                                                    KNN  \\\nR2                                             0.521262   \nbest_params  {'n_neighbors': 10, 'weights': 'distance'}   \nMSE                                           68.777118   \nMAE                                            5.943662   \n\n                                                      ensemble  \\\nR2                                                    0.565163   \nbest_params  {'kNN__kneighborsregressor__weights': 'distanc...   \nMSE                                                  62.470221   \nMAE                                                   5.855617   \n\n                                                    ensemble_2  \nR2                                                    0.572461  \nbest_params  {'XGB__xgbregressor__n_estimators': 100, 'XGB_...  \nMSE                                                  61.421818  \nMAE                                                   5.798808  ",
            "text/html": "<div>\n<style scoped>\n    .dataframe tbody tr th:only-of-type {\n        vertical-align: middle;\n    }\n\n    .dataframe tbody tr th {\n        vertical-align: top;\n    }\n\n    .dataframe thead th {\n        text-align: right;\n    }\n</style>\n<table border=\"1\" class=\"dataframe\">\n  <thead>\n    <tr style=\"text-align: right;\">\n      <th></th>\n      <th>RF</th>\n      <th>XGB</th>\n      <th>LGBM</th>\n      <th>KNN</th>\n      <th>ensemble</th>\n      <th>ensemble_2</th>\n    </tr>\n  </thead>\n  <tbody>\n    <tr>\n      <th>R2</th>\n      <td>0.569736</td>\n      <td>0.578673</td>\n      <td>0.597628</td>\n      <td>0.521262</td>\n      <td>0.565163</td>\n      <td>0.572461</td>\n    </tr>\n    <tr>\n      <th>best_params</th>\n      <td>{'max_depth': 25, 'n_estimators': 250}</td>\n      <td>{'learning_rate': 0.1, 'n_estimators': 200}</td>\n      <td>{'learning_rate': 0.05, 'n_estimators': 250, '...</td>\n      <td>{'n_neighbors': 10, 'weights': 'distance'}</td>\n      <td>{'kNN__kneighborsregressor__weights': 'distanc...</td>\n      <td>{'XGB__xgbregressor__n_estimators': 100, 'XGB_...</td>\n    </tr>\n    <tr>\n      <th>MSE</th>\n      <td>61.813245</td>\n      <td>60.529299</td>\n      <td>57.806156</td>\n      <td>68.777118</td>\n      <td>62.470221</td>\n      <td>61.421818</td>\n    </tr>\n    <tr>\n      <th>MAE</th>\n      <td>5.714213</td>\n      <td>5.77645</td>\n      <td>5.564431</td>\n      <td>5.943662</td>\n      <td>5.855617</td>\n      <td>5.798808</td>\n    </tr>\n  </tbody>\n</table>\n</div>"
          },
          "metadata": {}
        }
      ]
    },
    {
      "cell_type": "markdown",
      "source": [
        "### 4.3 NN"
      ],
      "metadata": {
        "id": "mC1c2Y2e5ACK"
      }
    },
    {
      "cell_type": "markdown",
      "source": [
        "#### 4.3.1 import related libraries"
      ],
      "metadata": {
        "id": "bDMTP1w5HWuY"
      }
    },
    {
      "cell_type": "code",
      "source": [
        "# let's have a try to see how NN works in this dataset, sepcially how we see the structure of proteins\n",
        "# to have a different viewpoint of Xs\n",
        "import torch.nn as nn\n",
        "import torch\n",
        "from torch.optim import lr_scheduler\n",
        "from torch.autograd import Variable\n",
        "from torch.utils.data import Dataset, DataLoader\n",
        "import torchvision\n",
        "from torchvision import transforms, datasets, models\n",
        "import time"
      ],
      "metadata": {
        "execution": {
          "iopub.status.busy": "2022-12-10T16:30:41.945678Z",
          "iopub.execute_input": "2022-12-10T16:30:41.946062Z",
          "iopub.status.idle": "2022-12-10T16:30:42.176943Z",
          "shell.execute_reply.started": "2022-12-10T16:30:41.946024Z",
          "shell.execute_reply": "2022-12-10T16:30:42.176022Z"
        },
        "trusted": true,
        "id": "jWDXWfjL5ACK"
      },
      "execution_count": 11,
      "outputs": []
    },
    {
      "cell_type": "markdown",
      "source": [
        "#### 4.3.2 feature engineering for NN"
      ],
      "metadata": {
        "id": "dpzLz9oJHcHp"
      }
    },
    {
      "cell_type": "code",
      "source": [
        "nn_train = X_backup[[\"protein_sequence\", \"pH\", \"tm\", \"data_source\"]] # picked from the preprocessed dataset"
      ],
      "metadata": {
        "id": "e8afa36UE99K"
      },
      "execution_count": 69,
      "outputs": []
    },
    {
      "cell_type": "code",
      "source": [
        "nn_train.head()"
      ],
      "metadata": {
        "colab": {
          "base_uri": "https://localhost:8080/",
          "height": 206
        },
        "id": "1_1WMgOaFCh2",
        "outputId": "c78e7a96-18df-44df-896a-762f37355e56"
      },
      "execution_count": 66,
      "outputs": [
        {
          "output_type": "execute_result",
          "data": {
            "text/plain": [
              "                                    protein_sequence   pH    tm  data_source\n",
              "0  AAAAKAAALALLGEAPEVVDIWLPAGWRQPFRVFRLERKGDGVLVG...  7.0  75.7            1\n",
              "1  AAADGEPLHNEEERAGAGQVGRSLPQESEEQRTGSRPRRRRDLGSR...  7.0  50.5            1\n",
              "2  AAAFSTPRATSYRILSSAGSGSTRADAPQVRRLHTTRDLLAKDYYA...  7.0  40.5            1\n",
              "3  AAASGLRTAIPAQPLRHLLQPAPRPCLRPFGLLSVRAGSARRSGLL...  7.0  47.2            1\n",
              "4  AAATKSGPRRQSQGASVRTFTPFYFLVEPVDTLSVRGSSVILNCSA...  7.0  49.5            1"
            ],
            "text/html": [
              "\n",
              "  <div id=\"df-adabe946-a147-42cb-8683-9e6e5b0b5bf2\">\n",
              "    <div class=\"colab-df-container\">\n",
              "      <div>\n",
              "<style scoped>\n",
              "    .dataframe tbody tr th:only-of-type {\n",
              "        vertical-align: middle;\n",
              "    }\n",
              "\n",
              "    .dataframe tbody tr th {\n",
              "        vertical-align: top;\n",
              "    }\n",
              "\n",
              "    .dataframe thead th {\n",
              "        text-align: right;\n",
              "    }\n",
              "</style>\n",
              "<table border=\"1\" class=\"dataframe\">\n",
              "  <thead>\n",
              "    <tr style=\"text-align: right;\">\n",
              "      <th></th>\n",
              "      <th>protein_sequence</th>\n",
              "      <th>pH</th>\n",
              "      <th>tm</th>\n",
              "      <th>data_source</th>\n",
              "    </tr>\n",
              "  </thead>\n",
              "  <tbody>\n",
              "    <tr>\n",
              "      <th>0</th>\n",
              "      <td>AAAAKAAALALLGEAPEVVDIWLPAGWRQPFRVFRLERKGDGVLVG...</td>\n",
              "      <td>7.0</td>\n",
              "      <td>75.7</td>\n",
              "      <td>1</td>\n",
              "    </tr>\n",
              "    <tr>\n",
              "      <th>1</th>\n",
              "      <td>AAADGEPLHNEEERAGAGQVGRSLPQESEEQRTGSRPRRRRDLGSR...</td>\n",
              "      <td>7.0</td>\n",
              "      <td>50.5</td>\n",
              "      <td>1</td>\n",
              "    </tr>\n",
              "    <tr>\n",
              "      <th>2</th>\n",
              "      <td>AAAFSTPRATSYRILSSAGSGSTRADAPQVRRLHTTRDLLAKDYYA...</td>\n",
              "      <td>7.0</td>\n",
              "      <td>40.5</td>\n",
              "      <td>1</td>\n",
              "    </tr>\n",
              "    <tr>\n",
              "      <th>3</th>\n",
              "      <td>AAASGLRTAIPAQPLRHLLQPAPRPCLRPFGLLSVRAGSARRSGLL...</td>\n",
              "      <td>7.0</td>\n",
              "      <td>47.2</td>\n",
              "      <td>1</td>\n",
              "    </tr>\n",
              "    <tr>\n",
              "      <th>4</th>\n",
              "      <td>AAATKSGPRRQSQGASVRTFTPFYFLVEPVDTLSVRGSSVILNCSA...</td>\n",
              "      <td>7.0</td>\n",
              "      <td>49.5</td>\n",
              "      <td>1</td>\n",
              "    </tr>\n",
              "  </tbody>\n",
              "</table>\n",
              "</div>\n",
              "      <button class=\"colab-df-convert\" onclick=\"convertToInteractive('df-adabe946-a147-42cb-8683-9e6e5b0b5bf2')\"\n",
              "              title=\"Convert this dataframe to an interactive table.\"\n",
              "              style=\"display:none;\">\n",
              "        \n",
              "  <svg xmlns=\"http://www.w3.org/2000/svg\" height=\"24px\"viewBox=\"0 0 24 24\"\n",
              "       width=\"24px\">\n",
              "    <path d=\"M0 0h24v24H0V0z\" fill=\"none\"/>\n",
              "    <path d=\"M18.56 5.44l.94 2.06.94-2.06 2.06-.94-2.06-.94-.94-2.06-.94 2.06-2.06.94zm-11 1L8.5 8.5l.94-2.06 2.06-.94-2.06-.94L8.5 2.5l-.94 2.06-2.06.94zm10 10l.94 2.06.94-2.06 2.06-.94-2.06-.94-.94-2.06-.94 2.06-2.06.94z\"/><path d=\"M17.41 7.96l-1.37-1.37c-.4-.4-.92-.59-1.43-.59-.52 0-1.04.2-1.43.59L10.3 9.45l-7.72 7.72c-.78.78-.78 2.05 0 2.83L4 21.41c.39.39.9.59 1.41.59.51 0 1.02-.2 1.41-.59l7.78-7.78 2.81-2.81c.8-.78.8-2.07 0-2.86zM5.41 20L4 18.59l7.72-7.72 1.47 1.35L5.41 20z\"/>\n",
              "  </svg>\n",
              "      </button>\n",
              "      \n",
              "  <style>\n",
              "    .colab-df-container {\n",
              "      display:flex;\n",
              "      flex-wrap:wrap;\n",
              "      gap: 12px;\n",
              "    }\n",
              "\n",
              "    .colab-df-convert {\n",
              "      background-color: #E8F0FE;\n",
              "      border: none;\n",
              "      border-radius: 50%;\n",
              "      cursor: pointer;\n",
              "      display: none;\n",
              "      fill: #1967D2;\n",
              "      height: 32px;\n",
              "      padding: 0 0 0 0;\n",
              "      width: 32px;\n",
              "    }\n",
              "\n",
              "    .colab-df-convert:hover {\n",
              "      background-color: #E2EBFA;\n",
              "      box-shadow: 0px 1px 2px rgba(60, 64, 67, 0.3), 0px 1px 3px 1px rgba(60, 64, 67, 0.15);\n",
              "      fill: #174EA6;\n",
              "    }\n",
              "\n",
              "    [theme=dark] .colab-df-convert {\n",
              "      background-color: #3B4455;\n",
              "      fill: #D2E3FC;\n",
              "    }\n",
              "\n",
              "    [theme=dark] .colab-df-convert:hover {\n",
              "      background-color: #434B5C;\n",
              "      box-shadow: 0px 1px 3px 1px rgba(0, 0, 0, 0.15);\n",
              "      filter: drop-shadow(0px 1px 2px rgba(0, 0, 0, 0.3));\n",
              "      fill: #FFFFFF;\n",
              "    }\n",
              "  </style>\n",
              "\n",
              "      <script>\n",
              "        const buttonEl =\n",
              "          document.querySelector('#df-adabe946-a147-42cb-8683-9e6e5b0b5bf2 button.colab-df-convert');\n",
              "        buttonEl.style.display =\n",
              "          google.colab.kernel.accessAllowed ? 'block' : 'none';\n",
              "\n",
              "        async function convertToInteractive(key) {\n",
              "          const element = document.querySelector('#df-adabe946-a147-42cb-8683-9e6e5b0b5bf2');\n",
              "          const dataTable =\n",
              "            await google.colab.kernel.invokeFunction('convertToInteractive',\n",
              "                                                     [key], {});\n",
              "          if (!dataTable) return;\n",
              "\n",
              "          const docLinkHtml = 'Like what you see? Visit the ' +\n",
              "            '<a target=\"_blank\" href=https://colab.research.google.com/notebooks/data_table.ipynb>data table notebook</a>'\n",
              "            + ' to learn more about interactive tables.';\n",
              "          element.innerHTML = '';\n",
              "          dataTable['output_type'] = 'display_data';\n",
              "          await google.colab.output.renderOutput(dataTable, element);\n",
              "          const docLink = document.createElement('div');\n",
              "          docLink.innerHTML = docLinkHtml;\n",
              "          element.appendChild(docLink);\n",
              "        }\n",
              "      </script>\n",
              "    </div>\n",
              "  </div>\n",
              "  "
            ]
          },
          "metadata": {},
          "execution_count": 66
        }
      ]
    },
    {
      "cell_type": "code",
      "source": [
        "def protein_length_lim(df):\n",
        "    df = df.loc[df['protein_sequence'].str.len() <= 221]\n",
        "    df = df.reset_index(drop=True)\n",
        "    return df"
      ],
      "metadata": {
        "id": "NdRlGEVGFyxn"
      },
      "execution_count": 70,
      "outputs": []
    },
    {
      "cell_type": "code",
      "source": [
        "nn_train = protein_length_lim(nn_train)\n",
        "nn_train.head()"
      ],
      "metadata": {
        "colab": {
          "base_uri": "https://localhost:8080/",
          "height": 206
        },
        "id": "KOXzJ_bPF2Zt",
        "outputId": "62e374b6-f2b9-4e96-9966-83d0f9fc6212"
      },
      "execution_count": 71,
      "outputs": [
        {
          "output_type": "execute_result",
          "data": {
            "text/plain": [
              "                                    protein_sequence   pH    tm  data_source\n",
              "0  AAFQVTSNEIKTGEQLTTSHVFSGFGCEGGNTSPSLTWSGVPEGTK...  7.0  49.7            1\n",
              "1  AAGGQPQGATPGQPDQNFDYMFKLLIIGNSSVGKTSFLFRYCDDSF...  7.0  45.1            1\n",
              "2  AAIGIGILGGKFLEGAARQPDLIPLLRTQFFIVMGLVDAIPMIAVG...  7.0  62.8            1\n",
              "3  AAKSGDAEEARKKLQDAAEELSKAHHYQTELIQNEAGGEKTEMTLL...  7.0  36.3            1\n",
              "4  AALALGLPAFWTALAVGLVLGALAKSLPLFLSEAAERGLGLLGGGL...  7.0  83.0            1"
            ],
            "text/html": [
              "\n",
              "  <div id=\"df-e59389af-8989-49a2-a827-995386f48c29\">\n",
              "    <div class=\"colab-df-container\">\n",
              "      <div>\n",
              "<style scoped>\n",
              "    .dataframe tbody tr th:only-of-type {\n",
              "        vertical-align: middle;\n",
              "    }\n",
              "\n",
              "    .dataframe tbody tr th {\n",
              "        vertical-align: top;\n",
              "    }\n",
              "\n",
              "    .dataframe thead th {\n",
              "        text-align: right;\n",
              "    }\n",
              "</style>\n",
              "<table border=\"1\" class=\"dataframe\">\n",
              "  <thead>\n",
              "    <tr style=\"text-align: right;\">\n",
              "      <th></th>\n",
              "      <th>protein_sequence</th>\n",
              "      <th>pH</th>\n",
              "      <th>tm</th>\n",
              "      <th>data_source</th>\n",
              "    </tr>\n",
              "  </thead>\n",
              "  <tbody>\n",
              "    <tr>\n",
              "      <th>0</th>\n",
              "      <td>AAFQVTSNEIKTGEQLTTSHVFSGFGCEGGNTSPSLTWSGVPEGTK...</td>\n",
              "      <td>7.0</td>\n",
              "      <td>49.7</td>\n",
              "      <td>1</td>\n",
              "    </tr>\n",
              "    <tr>\n",
              "      <th>1</th>\n",
              "      <td>AAGGQPQGATPGQPDQNFDYMFKLLIIGNSSVGKTSFLFRYCDDSF...</td>\n",
              "      <td>7.0</td>\n",
              "      <td>45.1</td>\n",
              "      <td>1</td>\n",
              "    </tr>\n",
              "    <tr>\n",
              "      <th>2</th>\n",
              "      <td>AAIGIGILGGKFLEGAARQPDLIPLLRTQFFIVMGLVDAIPMIAVG...</td>\n",
              "      <td>7.0</td>\n",
              "      <td>62.8</td>\n",
              "      <td>1</td>\n",
              "    </tr>\n",
              "    <tr>\n",
              "      <th>3</th>\n",
              "      <td>AAKSGDAEEARKKLQDAAEELSKAHHYQTELIQNEAGGEKTEMTLL...</td>\n",
              "      <td>7.0</td>\n",
              "      <td>36.3</td>\n",
              "      <td>1</td>\n",
              "    </tr>\n",
              "    <tr>\n",
              "      <th>4</th>\n",
              "      <td>AALALGLPAFWTALAVGLVLGALAKSLPLFLSEAAERGLGLLGGGL...</td>\n",
              "      <td>7.0</td>\n",
              "      <td>83.0</td>\n",
              "      <td>1</td>\n",
              "    </tr>\n",
              "  </tbody>\n",
              "</table>\n",
              "</div>\n",
              "      <button class=\"colab-df-convert\" onclick=\"convertToInteractive('df-e59389af-8989-49a2-a827-995386f48c29')\"\n",
              "              title=\"Convert this dataframe to an interactive table.\"\n",
              "              style=\"display:none;\">\n",
              "        \n",
              "  <svg xmlns=\"http://www.w3.org/2000/svg\" height=\"24px\"viewBox=\"0 0 24 24\"\n",
              "       width=\"24px\">\n",
              "    <path d=\"M0 0h24v24H0V0z\" fill=\"none\"/>\n",
              "    <path d=\"M18.56 5.44l.94 2.06.94-2.06 2.06-.94-2.06-.94-.94-2.06-.94 2.06-2.06.94zm-11 1L8.5 8.5l.94-2.06 2.06-.94-2.06-.94L8.5 2.5l-.94 2.06-2.06.94zm10 10l.94 2.06.94-2.06 2.06-.94-2.06-.94-.94-2.06-.94 2.06-2.06.94z\"/><path d=\"M17.41 7.96l-1.37-1.37c-.4-.4-.92-.59-1.43-.59-.52 0-1.04.2-1.43.59L10.3 9.45l-7.72 7.72c-.78.78-.78 2.05 0 2.83L4 21.41c.39.39.9.59 1.41.59.51 0 1.02-.2 1.41-.59l7.78-7.78 2.81-2.81c.8-.78.8-2.07 0-2.86zM5.41 20L4 18.59l7.72-7.72 1.47 1.35L5.41 20z\"/>\n",
              "  </svg>\n",
              "      </button>\n",
              "      \n",
              "  <style>\n",
              "    .colab-df-container {\n",
              "      display:flex;\n",
              "      flex-wrap:wrap;\n",
              "      gap: 12px;\n",
              "    }\n",
              "\n",
              "    .colab-df-convert {\n",
              "      background-color: #E8F0FE;\n",
              "      border: none;\n",
              "      border-radius: 50%;\n",
              "      cursor: pointer;\n",
              "      display: none;\n",
              "      fill: #1967D2;\n",
              "      height: 32px;\n",
              "      padding: 0 0 0 0;\n",
              "      width: 32px;\n",
              "    }\n",
              "\n",
              "    .colab-df-convert:hover {\n",
              "      background-color: #E2EBFA;\n",
              "      box-shadow: 0px 1px 2px rgba(60, 64, 67, 0.3), 0px 1px 3px 1px rgba(60, 64, 67, 0.15);\n",
              "      fill: #174EA6;\n",
              "    }\n",
              "\n",
              "    [theme=dark] .colab-df-convert {\n",
              "      background-color: #3B4455;\n",
              "      fill: #D2E3FC;\n",
              "    }\n",
              "\n",
              "    [theme=dark] .colab-df-convert:hover {\n",
              "      background-color: #434B5C;\n",
              "      box-shadow: 0px 1px 3px 1px rgba(0, 0, 0, 0.15);\n",
              "      filter: drop-shadow(0px 1px 2px rgba(0, 0, 0, 0.3));\n",
              "      fill: #FFFFFF;\n",
              "    }\n",
              "  </style>\n",
              "\n",
              "      <script>\n",
              "        const buttonEl =\n",
              "          document.querySelector('#df-e59389af-8989-49a2-a827-995386f48c29 button.colab-df-convert');\n",
              "        buttonEl.style.display =\n",
              "          google.colab.kernel.accessAllowed ? 'block' : 'none';\n",
              "\n",
              "        async function convertToInteractive(key) {\n",
              "          const element = document.querySelector('#df-e59389af-8989-49a2-a827-995386f48c29');\n",
              "          const dataTable =\n",
              "            await google.colab.kernel.invokeFunction('convertToInteractive',\n",
              "                                                     [key], {});\n",
              "          if (!dataTable) return;\n",
              "\n",
              "          const docLinkHtml = 'Like what you see? Visit the ' +\n",
              "            '<a target=\"_blank\" href=https://colab.research.google.com/notebooks/data_table.ipynb>data table notebook</a>'\n",
              "            + ' to learn more about interactive tables.';\n",
              "          element.innerHTML = '';\n",
              "          dataTable['output_type'] = 'display_data';\n",
              "          await google.colab.output.renderOutput(dataTable, element);\n",
              "          const docLink = document.createElement('div');\n",
              "          docLink.innerHTML = docLinkHtml;\n",
              "          element.appendChild(docLink);\n",
              "        }\n",
              "      </script>\n",
              "    </div>\n",
              "  </div>\n",
              "  "
            ]
          },
          "metadata": {},
          "execution_count": 71
        }
      ]
    },
    {
      "cell_type": "code",
      "source": [
        "aa_list = list(nn_train['protein_sequence'].str.split('').explode('protein_sequence').unique())\n",
        "aa_list.remove('')\n",
        "aa_map = {pH: i + 1 for i, pH in enumerate(aa_list)}\n",
        "aa_map[None] = 0\n",
        "aa_map"
      ],
      "metadata": {
        "colab": {
          "base_uri": "https://localhost:8080/"
        },
        "id": "MK92si7yGNYy",
        "outputId": "815486bc-fbe4-4fa1-aeb1-835a9b50e9ad"
      },
      "execution_count": 72,
      "outputs": [
        {
          "output_type": "execute_result",
          "data": {
            "text/plain": [
              "{'A': 1,\n",
              " 'F': 2,\n",
              " 'Q': 3,\n",
              " 'V': 4,\n",
              " 'T': 5,\n",
              " 'S': 6,\n",
              " 'N': 7,\n",
              " 'E': 8,\n",
              " 'I': 9,\n",
              " 'K': 10,\n",
              " 'G': 11,\n",
              " 'L': 12,\n",
              " 'H': 13,\n",
              " 'C': 14,\n",
              " 'P': 15,\n",
              " 'W': 16,\n",
              " 'Y': 17,\n",
              " 'D': 18,\n",
              " 'R': 19,\n",
              " 'M': 20,\n",
              " None: 0}"
            ]
          },
          "metadata": {},
          "execution_count": 72
        }
      ]
    },
    {
      "cell_type": "code",
      "source": [
        "# to split protein sequence\n",
        "def encode(df):\n",
        "    sequences_df = pd.DataFrame(df['protein_sequence'].apply(list).tolist())\n",
        "    sequences_df = sequences_df.replace(aa_map)\n",
        "    df = df.join(sequences_df)\n",
        "    df = df.drop(columns=['protein_sequence'])\n",
        "    return df"
      ],
      "metadata": {
        "id": "usx8NypVHDMR"
      },
      "execution_count": 73,
      "outputs": []
    },
    {
      "cell_type": "code",
      "source": [
        "nn_train = encode(nn_train)\n",
        "nn_train.head()"
      ],
      "metadata": {
        "colab": {
          "base_uri": "https://localhost:8080/",
          "height": 235
        },
        "id": "jLeyJpPrHNfX",
        "outputId": "85052958-346b-458b-c74d-77896a1bdff3"
      },
      "execution_count": 74,
      "outputs": [
        {
          "output_type": "execute_result",
          "data": {
            "text/plain": [
              "    pH    tm  data_source  0  1   2   3   4   5   6  ...  211  212  213  214  \\\n",
              "0  7.0  49.7            1  1  1   2   3   4   5   6  ...    0    0    0    0   \n",
              "1  7.0  45.1            1  1  1  11  11   3  15   3  ...    1    3    3    3   \n",
              "2  7.0  62.8            1  1  1   9  11   9  11   9  ...    0    0    0    0   \n",
              "3  7.0  36.3            1  1  1  10   6  11  18   1  ...    0    0    0    0   \n",
              "4  7.0  83.0            1  1  1  12   1  12  11  12  ...    0    0    0    0   \n",
              "\n",
              "   215  216  217  218  219  220  \n",
              "0    0    0    0    0    0    0  \n",
              "1   14    7    0    0    0    0  \n",
              "2    0    0    0    0    0    0  \n",
              "3    0    0    0    0    0    0  \n",
              "4    0    0    0    0    0    0  \n",
              "\n",
              "[5 rows x 224 columns]"
            ],
            "text/html": [
              "\n",
              "  <div id=\"df-90625b82-e41a-402e-8ddf-a56989b111d1\">\n",
              "    <div class=\"colab-df-container\">\n",
              "      <div>\n",
              "<style scoped>\n",
              "    .dataframe tbody tr th:only-of-type {\n",
              "        vertical-align: middle;\n",
              "    }\n",
              "\n",
              "    .dataframe tbody tr th {\n",
              "        vertical-align: top;\n",
              "    }\n",
              "\n",
              "    .dataframe thead th {\n",
              "        text-align: right;\n",
              "    }\n",
              "</style>\n",
              "<table border=\"1\" class=\"dataframe\">\n",
              "  <thead>\n",
              "    <tr style=\"text-align: right;\">\n",
              "      <th></th>\n",
              "      <th>pH</th>\n",
              "      <th>tm</th>\n",
              "      <th>data_source</th>\n",
              "      <th>0</th>\n",
              "      <th>1</th>\n",
              "      <th>2</th>\n",
              "      <th>3</th>\n",
              "      <th>4</th>\n",
              "      <th>5</th>\n",
              "      <th>6</th>\n",
              "      <th>...</th>\n",
              "      <th>211</th>\n",
              "      <th>212</th>\n",
              "      <th>213</th>\n",
              "      <th>214</th>\n",
              "      <th>215</th>\n",
              "      <th>216</th>\n",
              "      <th>217</th>\n",
              "      <th>218</th>\n",
              "      <th>219</th>\n",
              "      <th>220</th>\n",
              "    </tr>\n",
              "  </thead>\n",
              "  <tbody>\n",
              "    <tr>\n",
              "      <th>0</th>\n",
              "      <td>7.0</td>\n",
              "      <td>49.7</td>\n",
              "      <td>1</td>\n",
              "      <td>1</td>\n",
              "      <td>1</td>\n",
              "      <td>2</td>\n",
              "      <td>3</td>\n",
              "      <td>4</td>\n",
              "      <td>5</td>\n",
              "      <td>6</td>\n",
              "      <td>...</td>\n",
              "      <td>0</td>\n",
              "      <td>0</td>\n",
              "      <td>0</td>\n",
              "      <td>0</td>\n",
              "      <td>0</td>\n",
              "      <td>0</td>\n",
              "      <td>0</td>\n",
              "      <td>0</td>\n",
              "      <td>0</td>\n",
              "      <td>0</td>\n",
              "    </tr>\n",
              "    <tr>\n",
              "      <th>1</th>\n",
              "      <td>7.0</td>\n",
              "      <td>45.1</td>\n",
              "      <td>1</td>\n",
              "      <td>1</td>\n",
              "      <td>1</td>\n",
              "      <td>11</td>\n",
              "      <td>11</td>\n",
              "      <td>3</td>\n",
              "      <td>15</td>\n",
              "      <td>3</td>\n",
              "      <td>...</td>\n",
              "      <td>1</td>\n",
              "      <td>3</td>\n",
              "      <td>3</td>\n",
              "      <td>3</td>\n",
              "      <td>14</td>\n",
              "      <td>7</td>\n",
              "      <td>0</td>\n",
              "      <td>0</td>\n",
              "      <td>0</td>\n",
              "      <td>0</td>\n",
              "    </tr>\n",
              "    <tr>\n",
              "      <th>2</th>\n",
              "      <td>7.0</td>\n",
              "      <td>62.8</td>\n",
              "      <td>1</td>\n",
              "      <td>1</td>\n",
              "      <td>1</td>\n",
              "      <td>9</td>\n",
              "      <td>11</td>\n",
              "      <td>9</td>\n",
              "      <td>11</td>\n",
              "      <td>9</td>\n",
              "      <td>...</td>\n",
              "      <td>0</td>\n",
              "      <td>0</td>\n",
              "      <td>0</td>\n",
              "      <td>0</td>\n",
              "      <td>0</td>\n",
              "      <td>0</td>\n",
              "      <td>0</td>\n",
              "      <td>0</td>\n",
              "      <td>0</td>\n",
              "      <td>0</td>\n",
              "    </tr>\n",
              "    <tr>\n",
              "      <th>3</th>\n",
              "      <td>7.0</td>\n",
              "      <td>36.3</td>\n",
              "      <td>1</td>\n",
              "      <td>1</td>\n",
              "      <td>1</td>\n",
              "      <td>10</td>\n",
              "      <td>6</td>\n",
              "      <td>11</td>\n",
              "      <td>18</td>\n",
              "      <td>1</td>\n",
              "      <td>...</td>\n",
              "      <td>0</td>\n",
              "      <td>0</td>\n",
              "      <td>0</td>\n",
              "      <td>0</td>\n",
              "      <td>0</td>\n",
              "      <td>0</td>\n",
              "      <td>0</td>\n",
              "      <td>0</td>\n",
              "      <td>0</td>\n",
              "      <td>0</td>\n",
              "    </tr>\n",
              "    <tr>\n",
              "      <th>4</th>\n",
              "      <td>7.0</td>\n",
              "      <td>83.0</td>\n",
              "      <td>1</td>\n",
              "      <td>1</td>\n",
              "      <td>1</td>\n",
              "      <td>12</td>\n",
              "      <td>1</td>\n",
              "      <td>12</td>\n",
              "      <td>11</td>\n",
              "      <td>12</td>\n",
              "      <td>...</td>\n",
              "      <td>0</td>\n",
              "      <td>0</td>\n",
              "      <td>0</td>\n",
              "      <td>0</td>\n",
              "      <td>0</td>\n",
              "      <td>0</td>\n",
              "      <td>0</td>\n",
              "      <td>0</td>\n",
              "      <td>0</td>\n",
              "      <td>0</td>\n",
              "    </tr>\n",
              "  </tbody>\n",
              "</table>\n",
              "<p>5 rows × 224 columns</p>\n",
              "</div>\n",
              "      <button class=\"colab-df-convert\" onclick=\"convertToInteractive('df-90625b82-e41a-402e-8ddf-a56989b111d1')\"\n",
              "              title=\"Convert this dataframe to an interactive table.\"\n",
              "              style=\"display:none;\">\n",
              "        \n",
              "  <svg xmlns=\"http://www.w3.org/2000/svg\" height=\"24px\"viewBox=\"0 0 24 24\"\n",
              "       width=\"24px\">\n",
              "    <path d=\"M0 0h24v24H0V0z\" fill=\"none\"/>\n",
              "    <path d=\"M18.56 5.44l.94 2.06.94-2.06 2.06-.94-2.06-.94-.94-2.06-.94 2.06-2.06.94zm-11 1L8.5 8.5l.94-2.06 2.06-.94-2.06-.94L8.5 2.5l-.94 2.06-2.06.94zm10 10l.94 2.06.94-2.06 2.06-.94-2.06-.94-.94-2.06-.94 2.06-2.06.94z\"/><path d=\"M17.41 7.96l-1.37-1.37c-.4-.4-.92-.59-1.43-.59-.52 0-1.04.2-1.43.59L10.3 9.45l-7.72 7.72c-.78.78-.78 2.05 0 2.83L4 21.41c.39.39.9.59 1.41.59.51 0 1.02-.2 1.41-.59l7.78-7.78 2.81-2.81c.8-.78.8-2.07 0-2.86zM5.41 20L4 18.59l7.72-7.72 1.47 1.35L5.41 20z\"/>\n",
              "  </svg>\n",
              "      </button>\n",
              "      \n",
              "  <style>\n",
              "    .colab-df-container {\n",
              "      display:flex;\n",
              "      flex-wrap:wrap;\n",
              "      gap: 12px;\n",
              "    }\n",
              "\n",
              "    .colab-df-convert {\n",
              "      background-color: #E8F0FE;\n",
              "      border: none;\n",
              "      border-radius: 50%;\n",
              "      cursor: pointer;\n",
              "      display: none;\n",
              "      fill: #1967D2;\n",
              "      height: 32px;\n",
              "      padding: 0 0 0 0;\n",
              "      width: 32px;\n",
              "    }\n",
              "\n",
              "    .colab-df-convert:hover {\n",
              "      background-color: #E2EBFA;\n",
              "      box-shadow: 0px 1px 2px rgba(60, 64, 67, 0.3), 0px 1px 3px 1px rgba(60, 64, 67, 0.15);\n",
              "      fill: #174EA6;\n",
              "    }\n",
              "\n",
              "    [theme=dark] .colab-df-convert {\n",
              "      background-color: #3B4455;\n",
              "      fill: #D2E3FC;\n",
              "    }\n",
              "\n",
              "    [theme=dark] .colab-df-convert:hover {\n",
              "      background-color: #434B5C;\n",
              "      box-shadow: 0px 1px 3px 1px rgba(0, 0, 0, 0.15);\n",
              "      filter: drop-shadow(0px 1px 2px rgba(0, 0, 0, 0.3));\n",
              "      fill: #FFFFFF;\n",
              "    }\n",
              "  </style>\n",
              "\n",
              "      <script>\n",
              "        const buttonEl =\n",
              "          document.querySelector('#df-90625b82-e41a-402e-8ddf-a56989b111d1 button.colab-df-convert');\n",
              "        buttonEl.style.display =\n",
              "          google.colab.kernel.accessAllowed ? 'block' : 'none';\n",
              "\n",
              "        async function convertToInteractive(key) {\n",
              "          const element = document.querySelector('#df-90625b82-e41a-402e-8ddf-a56989b111d1');\n",
              "          const dataTable =\n",
              "            await google.colab.kernel.invokeFunction('convertToInteractive',\n",
              "                                                     [key], {});\n",
              "          if (!dataTable) return;\n",
              "\n",
              "          const docLinkHtml = 'Like what you see? Visit the ' +\n",
              "            '<a target=\"_blank\" href=https://colab.research.google.com/notebooks/data_table.ipynb>data table notebook</a>'\n",
              "            + ' to learn more about interactive tables.';\n",
              "          element.innerHTML = '';\n",
              "          dataTable['output_type'] = 'display_data';\n",
              "          await google.colab.output.renderOutput(dataTable, element);\n",
              "          const docLink = document.createElement('div');\n",
              "          docLink.innerHTML = docLinkHtml;\n",
              "          element.appendChild(docLink);\n",
              "        }\n",
              "      </script>\n",
              "    </div>\n",
              "  </div>\n",
              "  "
            ]
          },
          "metadata": {},
          "execution_count": 74
        }
      ]
    },
    {
      "cell_type": "code",
      "source": [
        "X_nn = nn_train.drop(columns=['tm'])\n",
        "y_nn = nn_train['tm']\n",
        "num_train = nn_train.shape[0]"
      ],
      "metadata": {
        "id": "bl5WRZQeHVC9"
      },
      "execution_count": 75,
      "outputs": []
    },
    {
      "cell_type": "code",
      "source": [
        "# create dataloader with the same train-test-size as above models (however not with the same randomization)\n",
        "train_features = torch.tensor((X_nn[:num_train].values), dtype=torch.long)\n",
        "\n",
        "train_labels = torch.tensor(y_nn.values.reshape(-1,1), \n",
        "                            dtype=torch.float32)\n",
        "\n",
        "\n",
        "dataset = torch.utils.data.TensorDataset(train_features,train_labels)\n",
        "\n",
        "temp_num = int(len(dataset) * 0.7)\n",
        "train_ds, test_ds = torch.utils.data.random_split(dataset, [temp_num, len(dataset) - temp_num])\n",
        "\n",
        "train_dl = torch.utils.data.DataLoader(train_ds, batch_size = 64)\n",
        "test_dl = torch.utils.data.DataLoader(test_ds, batch_size = 64)\n",
        "\n",
        "dloaders = {'train':train_dl, 'test':test_dl}\n",
        "\n",
        "print(len(train_dl.dataset), len(test_dl.dataset))"
      ],
      "metadata": {
        "colab": {
          "base_uri": "https://localhost:8080/"
        },
        "id": "zqdsxjMrHix7",
        "outputId": "49362a66-2867-4c63-d15f-b01330d2fd37"
      },
      "execution_count": 77,
      "outputs": [
        {
          "output_type": "stream",
          "name": "stdout",
          "text": [
            "5422 2325\n"
          ]
        }
      ]
    },
    {
      "cell_type": "code",
      "source": [
        "# NN, inspired by https://www.kaggle.com/code/xixihaha318/novozymes-enzyme-stability-prediction-with-pytorch#%F0%9F%8C%BD-Val-Model\n",
        "class NESP(nn.Module):\n",
        "    def __init__(self, input_channels):\n",
        "        super().__init__()\n",
        "        self.num_layers = 1\n",
        "        \n",
        "        self.embedding = nn.Embedding(input_channels - 1, 256)\n",
        "        self.lstm1 = nn.LSTM(256, 128, self.num_layers, bidirectional=True, batch_first=True)\n",
        "        self.fc1 = nn.Linear(256, 128)\n",
        "        self.fc2 = nn.Linear(128, 1)\n",
        "        \n",
        "        self.act = nn.ReLU()\n",
        "        self.drop = nn.Dropout(0.2)\n",
        "\n",
        "    def forward(self, inputs):\n",
        "        x = self.embedding(inputs)\n",
        "        x, (_h, _c)= self.lstm1(x)\n",
        "        x = self.fc1(x[:,-1,:])\n",
        "        x = self.act(x)\n",
        "        x = self.drop(x)\n",
        "        x = self.fc2(x)\n",
        "        \n",
        "        return x\n",
        "    \n",
        "model_nn = NESP(223)\n",
        "model_nn"
      ],
      "metadata": {
        "execution": {
          "iopub.status.busy": "2022-12-10T16:28:08.801591Z",
          "iopub.execute_input": "2022-12-10T16:28:08.802063Z",
          "iopub.status.idle": "2022-12-10T16:28:08.824775Z",
          "shell.execute_reply.started": "2022-12-10T16:28:08.802016Z",
          "shell.execute_reply": "2022-12-10T16:28:08.823741Z"
        },
        "trusted": true,
        "colab": {
          "base_uri": "https://localhost:8080/"
        },
        "id": "gURVzsuw5ACK",
        "outputId": "38f9f918-88b0-4fe3-919c-bd3ca906329b"
      },
      "execution_count": 79,
      "outputs": [
        {
          "output_type": "execute_result",
          "data": {
            "text/plain": [
              "NESP(\n",
              "  (embedding): Embedding(222, 256)\n",
              "  (lstm1): LSTM(256, 128, batch_first=True, bidirectional=True)\n",
              "  (fc1): Linear(in_features=256, out_features=128, bias=True)\n",
              "  (fc2): Linear(in_features=128, out_features=1, bias=True)\n",
              "  (act): ReLU()\n",
              "  (drop): Dropout(p=0.2, inplace=False)\n",
              ")"
            ]
          },
          "metadata": {},
          "execution_count": 79
        }
      ]
    },
    {
      "cell_type": "code",
      "source": [
        "# from hw9\n",
        "# accuracy calculation should be modified\n",
        "'''\n",
        "def train_model(dataloders, model, criterion, optimizer, scheduler, num_epochs=10):\n",
        "    since = time.time()\n",
        "    use_gpu = torch.cuda.is_available()\n",
        "    best_model_wts = model.state_dict()\n",
        "    best_acc = 0.0\n",
        "    dataset_sizes = {'train': len(dataloders['train'].dataset), \n",
        "                     'test': len(dataloders['test'].dataset)}\n",
        "\n",
        "    for epoch in range(num_epochs):\n",
        "        for phase in ['train', 'test']:\n",
        "            if phase == 'train':\n",
        "                scheduler.step()\n",
        "                model.train(True)\n",
        "            else:\n",
        "                model.train(False)\n",
        "\n",
        "            running_loss = 0.0\n",
        "            running_corrects = 0\n",
        "\n",
        "            for inputs, labels in dataloders[phase]:\n",
        "                if use_gpu:\n",
        "                    inputs, labels = Variable(inputs.cuda()), Variable(labels.cuda())\n",
        "                else:\n",
        "                    inputs, labels = Variable(inputs), Variable(labels)\n",
        "\n",
        "                optimizer.zero_grad()\n",
        "\n",
        "                outputs = model(inputs)\n",
        "                _, preds = torch.max(outputs.data, 1)\n",
        "                loss = criterion(outputs, labels)\n",
        "\n",
        "                if phase == 'train':\n",
        "                    loss.backward()\n",
        "                    optimizer.step()\n",
        "\n",
        "                running_loss += loss.data\n",
        "                running_corrects += torch.sum(preds = labels.data)\n",
        "            \n",
        "            if phase == 'train':\n",
        "                train_epoch_loss = running_loss / dataset_sizes[phase]\n",
        "                train_epoch_acc = running_corrects / dataset_sizes[phase]\n",
        "            else:\n",
        "                test_epoch_loss = running_loss / dataset_sizes[phase]\n",
        "                test_epoch_acc = running_corrects / dataset_sizes[phase]\n",
        "                \n",
        "            if phase == 'test' and test_epoch_acc > best_acc:\n",
        "                best_acc = test_epoch_acc\n",
        "                best_model_wts = model.state_dict()\n",
        "\n",
        "        print('Epoch [{}/{}] train loss: {:.4f} acc: {:.4f} ' \n",
        "              'test loss: {:.4f} acc: {:.4f}'.format(\n",
        "                epoch, num_epochs - 1,\n",
        "                train_epoch_loss, train_epoch_acc, \n",
        "                test_epoch_loss, test_epoch_acc))\n",
        "            \n",
        "    print('Best val Acc: {:4f}'.format(best_acc))\n",
        "\n",
        "    model.load_state_dict(best_model_wts)\n",
        "    return model\n",
        "'''"
      ],
      "metadata": {
        "execution": {
          "iopub.status.busy": "2022-12-10T16:28:12.332799Z",
          "iopub.execute_input": "2022-12-10T16:28:12.333159Z",
          "iopub.status.idle": "2022-12-10T16:28:12.345974Z",
          "shell.execute_reply.started": "2022-12-10T16:28:12.333129Z",
          "shell.execute_reply": "2022-12-10T16:28:12.344963Z"
        },
        "trusted": true,
        "id": "_CXoy_x75ACL"
      },
      "execution_count": 90,
      "outputs": []
    },
    {
      "cell_type": "code",
      "source": [
        "device = torch.device(\"cuda\" if torch.cuda.is_available() else \"cpu\")\n"
      ],
      "metadata": {
        "execution": {
          "iopub.status.busy": "2022-12-10T16:28:34.128490Z",
          "iopub.execute_input": "2022-12-10T16:28:34.128857Z",
          "iopub.status.idle": "2022-12-10T16:28:38.955481Z",
          "shell.execute_reply.started": "2022-12-10T16:28:34.128824Z",
          "shell.execute_reply": "2022-12-10T16:28:38.954453Z"
        },
        "trusted": true,
        "id": "d1sA_HZb5ACL"
      },
      "execution_count": 16,
      "outputs": []
    },
    {
      "cell_type": "code",
      "source": [
        "'''\n",
        "model_nn = model_nn.to(device)\n",
        "criterion = nn.L1Loss()\n",
        "optimizer = torch.optim.SGD(model_nn.parameters(), lr=1e-3)\n",
        "scheduler = lr_scheduler.StepLR(optimizer, step_size=7, gamma=0.1)\n",
        "'''"
      ],
      "metadata": {
        "execution": {
          "iopub.status.busy": "2022-12-10T16:29:35.579813Z",
          "iopub.execute_input": "2022-12-10T16:29:35.580178Z",
          "iopub.status.idle": "2022-12-10T16:29:35.585972Z",
          "shell.execute_reply.started": "2022-12-10T16:29:35.580145Z",
          "shell.execute_reply": "2022-12-10T16:29:35.584981Z"
        },
        "trusted": true,
        "id": "KJkqBjlV5ACL"
      },
      "execution_count": 96,
      "outputs": []
    },
    {
      "cell_type": "code",
      "source": [
        "# model_nn_trained = train_model(dloaders, model_nn, criterion, optimizer, scheduler)"
      ],
      "metadata": {
        "execution": {
          "iopub.status.busy": "2022-12-10T16:30:45.925430Z",
          "iopub.execute_input": "2022-12-10T16:30:45.925813Z",
          "iopub.status.idle": "2022-12-10T16:30:46.131552Z",
          "shell.execute_reply.started": "2022-12-10T16:30:45.925771Z",
          "shell.execute_reply": "2022-12-10T16:30:46.129178Z"
        },
        "trusted": true,
        "colab": {
          "base_uri": "https://localhost:8080/",
          "height": 330
        },
        "id": "pvUbuzK25ACL",
        "outputId": "efc793ca-4e7b-4bfb-f4d5-3550e651c4ff"
      },
      "execution_count": 91,
      "outputs": [
        {
          "output_type": "stream",
          "name": "stdout",
          "text": [
            "Epoch [0/9] train loss: 0.8313 acc: 0.0000 test loss: 0.8521 acc: 0.0000\n"
          ]
        },
        {
          "output_type": "error",
          "ename": "KeyboardInterrupt",
          "evalue": "ignored",
          "traceback": [
            "\u001b[0;31m---------------------------------------------------------------------------\u001b[0m",
            "\u001b[0;31mKeyboardInterrupt\u001b[0m                         Traceback (most recent call last)",
            "\u001b[0;32m<ipython-input-91-af0665d853e1>\u001b[0m in \u001b[0;36m<module>\u001b[0;34m\u001b[0m\n\u001b[0;32m----> 1\u001b[0;31m \u001b[0mmodel_nn_trained\u001b[0m \u001b[0;34m=\u001b[0m \u001b[0mtrain_model\u001b[0m\u001b[0;34m(\u001b[0m\u001b[0mdloaders\u001b[0m\u001b[0;34m,\u001b[0m \u001b[0mmodel_nn\u001b[0m\u001b[0;34m,\u001b[0m \u001b[0mcriterion\u001b[0m\u001b[0;34m,\u001b[0m \u001b[0moptimizer\u001b[0m\u001b[0;34m,\u001b[0m \u001b[0mscheduler\u001b[0m\u001b[0;34m)\u001b[0m\u001b[0;34m\u001b[0m\u001b[0;34m\u001b[0m\u001b[0m\n\u001b[0m",
            "\u001b[0;32m<ipython-input-90-bce4ffa2d65a>\u001b[0m in \u001b[0;36mtrain_model\u001b[0;34m(dataloders, model, criterion, optimizer, scheduler, num_epochs)\u001b[0m\n\u001b[1;32m     32\u001b[0m \u001b[0;34m\u001b[0m\u001b[0m\n\u001b[1;32m     33\u001b[0m                 \u001b[0;32mif\u001b[0m \u001b[0mphase\u001b[0m \u001b[0;34m==\u001b[0m \u001b[0;34m'train'\u001b[0m\u001b[0;34m:\u001b[0m\u001b[0;34m\u001b[0m\u001b[0;34m\u001b[0m\u001b[0m\n\u001b[0;32m---> 34\u001b[0;31m                     \u001b[0mloss\u001b[0m\u001b[0;34m.\u001b[0m\u001b[0mbackward\u001b[0m\u001b[0;34m(\u001b[0m\u001b[0;34m)\u001b[0m\u001b[0;34m\u001b[0m\u001b[0;34m\u001b[0m\u001b[0m\n\u001b[0m\u001b[1;32m     35\u001b[0m                     \u001b[0moptimizer\u001b[0m\u001b[0;34m.\u001b[0m\u001b[0mstep\u001b[0m\u001b[0;34m(\u001b[0m\u001b[0;34m)\u001b[0m\u001b[0;34m\u001b[0m\u001b[0;34m\u001b[0m\u001b[0m\n\u001b[1;32m     36\u001b[0m \u001b[0;34m\u001b[0m\u001b[0m\n",
            "\u001b[0;32m/usr/local/lib/python3.8/dist-packages/torch/_tensor.py\u001b[0m in \u001b[0;36mbackward\u001b[0;34m(self, gradient, retain_graph, create_graph, inputs)\u001b[0m\n\u001b[1;32m    485\u001b[0m                 \u001b[0minputs\u001b[0m\u001b[0;34m=\u001b[0m\u001b[0minputs\u001b[0m\u001b[0;34m,\u001b[0m\u001b[0;34m\u001b[0m\u001b[0;34m\u001b[0m\u001b[0m\n\u001b[1;32m    486\u001b[0m             )\n\u001b[0;32m--> 487\u001b[0;31m         torch.autograd.backward(\n\u001b[0m\u001b[1;32m    488\u001b[0m             \u001b[0mself\u001b[0m\u001b[0;34m,\u001b[0m \u001b[0mgradient\u001b[0m\u001b[0;34m,\u001b[0m \u001b[0mretain_graph\u001b[0m\u001b[0;34m,\u001b[0m \u001b[0mcreate_graph\u001b[0m\u001b[0;34m,\u001b[0m \u001b[0minputs\u001b[0m\u001b[0;34m=\u001b[0m\u001b[0minputs\u001b[0m\u001b[0;34m\u001b[0m\u001b[0;34m\u001b[0m\u001b[0m\n\u001b[1;32m    489\u001b[0m         )\n",
            "\u001b[0;32m/usr/local/lib/python3.8/dist-packages/torch/autograd/__init__.py\u001b[0m in \u001b[0;36mbackward\u001b[0;34m(tensors, grad_tensors, retain_graph, create_graph, grad_variables, inputs)\u001b[0m\n\u001b[1;32m    195\u001b[0m     \u001b[0;31m# some Python versions print out the first line of a multi-line function\u001b[0m\u001b[0;34m\u001b[0m\u001b[0;34m\u001b[0m\u001b[0;34m\u001b[0m\u001b[0m\n\u001b[1;32m    196\u001b[0m     \u001b[0;31m# calls in the traceback and some print out the last line\u001b[0m\u001b[0;34m\u001b[0m\u001b[0;34m\u001b[0m\u001b[0;34m\u001b[0m\u001b[0m\n\u001b[0;32m--> 197\u001b[0;31m     Variable._execution_engine.run_backward(  # Calls into the C++ engine to run the backward pass\n\u001b[0m\u001b[1;32m    198\u001b[0m         \u001b[0mtensors\u001b[0m\u001b[0;34m,\u001b[0m \u001b[0mgrad_tensors_\u001b[0m\u001b[0;34m,\u001b[0m \u001b[0mretain_graph\u001b[0m\u001b[0;34m,\u001b[0m \u001b[0mcreate_graph\u001b[0m\u001b[0;34m,\u001b[0m \u001b[0minputs\u001b[0m\u001b[0;34m,\u001b[0m\u001b[0;34m\u001b[0m\u001b[0;34m\u001b[0m\u001b[0m\n\u001b[1;32m    199\u001b[0m         allow_unreachable=True, accumulate_grad=True)  # Calls into the C++ engine to run the backward pass\n",
            "\u001b[0;31mKeyboardInterrupt\u001b[0m: "
          ]
        }
      ]
    },
    {
      "cell_type": "code",
      "source": [
        "# using mse instead\n",
        "def train_model(dloaders, model_nn, optimizer, criterion):\n",
        "    train_loss_all = []\n",
        "    test_loss_all = []\n",
        "\n",
        "    for epoch in range(10):\n",
        "        train_loss = 0\n",
        "        train_num = 0\n",
        "        for step,(X, y) in enumerate(dloaders[\"train\"]):\n",
        "            X, y = X.to(device), y.to(device)\n",
        "            output = model_nn(X)\n",
        "            \n",
        "            loss = criterion(output, y)\n",
        "            optimizer.zero_grad()\n",
        "            loss.backward()\n",
        "            optimizer.step()\n",
        "            \n",
        "            train_loss += loss.item() * X.size(0)\n",
        "            train_num += X.size(0)\n",
        "\n",
        "        train_loss_all.append(train_loss / train_num)\n",
        "        print('Epoch [{}/{}]'.format(epoch, 10))\n",
        "        print('trian mse: ', sum(train_loss_all) / len(train_loss_all))\n",
        "\n",
        "        test_loss = 0\n",
        "        test_num = 0\n",
        "        for step,(X, y) in enumerate(dloaders[\"test\"]):\n",
        "            X, y = X.to(device), y.to(device)\n",
        "\n",
        "            output = model_nn(X)\n",
        "\n",
        "            loss = criterion(output, y)\n",
        "\n",
        "            test_loss += loss.item() * X.size(0)\n",
        "            test_num += X.size(0)\n",
        "\n",
        "        test_loss_all.append(test_loss / test_num)\n",
        "        print('val mse: ', sum(test_loss_all) / len(test_loss_all))\n",
        "    return model_nn, train_loss_all, test_loss_all"
      ],
      "metadata": {
        "id": "yHMV2QkORXU7"
      },
      "execution_count": 101,
      "outputs": []
    },
    {
      "cell_type": "code",
      "source": [
        "model_nn = model_nn.to(device)\n",
        "criterion = nn.L1Loss()\n",
        "optimizer = torch.optim.SGD(model_nn.parameters(), lr=1e-3)"
      ],
      "metadata": {
        "id": "--xJKS3GTPn_"
      },
      "execution_count": 99,
      "outputs": []
    },
    {
      "cell_type": "code",
      "source": [
        "model_nn_trained = train_model(dloaders, model_nn, optimizer, criterion) # actually should be Epoch(i, 10), but not affect the model itself"
      ],
      "metadata": {
        "colab": {
          "base_uri": "https://localhost:8080/"
        },
        "id": "n8uy8obBTIzX",
        "outputId": "3b3eb1d3-2c01-4eb6-c2a8-6825008716b3"
      },
      "execution_count": 102,
      "outputs": [
        {
          "output_type": "stream",
          "name": "stdout",
          "text": [
            "Epoch [0/-1]\n",
            "trian mse:  23.426960265491335\n",
            "val mse:  11.834806712160828\n",
            "Epoch [1/0]\n",
            "trian mse:  17.295235181285726\n",
            "val mse:  11.662730839637018\n",
            "Epoch [2/1]\n",
            "trian mse:  15.258603045879717\n",
            "val mse:  11.599679955239791\n",
            "Epoch [3/2]\n",
            "trian mse:  14.228360270671148\n",
            "val mse:  11.549119477425851\n",
            "Epoch [4/3]\n",
            "trian mse:  13.621981901332754\n",
            "val mse:  11.527011630232616\n",
            "Epoch [5/4]\n",
            "trian mse:  13.195028844771462\n",
            "val mse:  11.534621554275567\n",
            "Epoch [6/5]\n",
            "trian mse:  12.892814357043155\n",
            "val mse:  11.527403365807599\n",
            "Epoch [7/6]\n",
            "trian mse:  12.664554802024115\n",
            "val mse:  11.520941354177332\n",
            "Epoch [8/7]\n",
            "trian mse:  12.483275753312672\n",
            "val mse:  11.509141028118247\n",
            "Epoch [9/8]\n",
            "trian mse:  12.334201164396871\n",
            "val mse:  11.50536953489242\n"
          ]
        }
      ]
    },
    {
      "cell_type": "code",
      "source": [
        "plt.figure()\n",
        "plt.plot(model_nn_trained[1],  label=\"train loss\")\n",
        "plt.plot(model_nn_trained[2],  label=\"test loss\")\n",
        "plt.legend()\n",
        "plt.grid()\n",
        "plt.xlabel(\"epoch\")\n",
        "plt.ylabel(\"L1_loss\")\n",
        "\n",
        "plt.show()"
      ],
      "metadata": {
        "colab": {
          "base_uri": "https://localhost:8080/",
          "height": 283
        },
        "id": "fRGVkY6rme17",
        "outputId": "5754fb46-7616-401b-e1a9-9fe006daeb48"
      },
      "execution_count": 105,
      "outputs": [
        {
          "output_type": "display_data",
          "data": {
            "text/plain": [
              "<Figure size 432x288 with 1 Axes>"
            ],
            "image/png": "[encoded data removed]"
          },
          "metadata": {
            "needs_background": "light"
          }
        }
      ]
    },
    {
      "cell_type": "markdown",
      "source": [
        "### 4.4 Another approach, physics principle based methods\n",
        "\n",
        "\n",
        "There are also other physics principle based methods which can predict protein stabilities such as ESM, EVE and Rosetta etc., without using the provided training set.\\newline\n",
        "\n",
        "        \n",
        "What's interesting is these approach are more likely to get higher scores over 0.2, better than models trained based on given train\\_dataset, which would be discussed later.\n",
        "\n",
        "Maybe a better approach is combine outsourse data with physics theorems, and totally drop the given train dataset because the differences between train and test proteins is actually large.\n",
        "\n",
        "#### 4.4.1 a good example\n",
        "from CHRIS DEOTTE, current 1st (acc. 0.823) in the leaderbord. The notebook he shared 1 month ago gets a score of 0.6, see https://www.kaggle.com/code/cdeotte/difference-features-lb-0-600#EDA-Structure-Difference\n",
        "\n",
        ": for each test mutation we compute the difference between pLDDT mutation minus pLDDT wildtype. We notice that this submission is very diverse from the existing public notebooks (which mainly focus on wild type protein)."
      ],
      "metadata": {
        "id": "IR_r6cum5ACL"
      }
    },
    {
      "cell_type": "markdown",
      "source": [
        "#### 4.4.2 part of his work, no need to run the following"
      ],
      "metadata": {
        "id": "8GG4Dpc_5ACL"
      }
    },
    {
      "cell_type": "code",
      "source": [
        "import pandas as pd\n",
        "pd.set_option('display.max_columns', 500)\n",
        "import matplotlib.pyplot as plt\n",
        "from scipy.stats import rankdata"
      ],
      "metadata": {
        "id": "lE1La6SI5ACM"
      },
      "execution_count": null,
      "outputs": []
    },
    {
      "cell_type": "code",
      "source": [
        "# basically they working on features only on test dataset and drop train dataset\n",
        "test = pd.read_csv('../input/novozymes-enzyme-stability-prediction/test.csv')\n",
        "deletions = test.loc[test.protein_sequence.str.len()==220,'seq_id'].values\n",
        "test.head()"
      ],
      "metadata": {
        "id": "8btkYPZW5ACM"
      },
      "execution_count": null,
      "outputs": []
    },
    {
      "cell_type": "code",
      "source": [
        "# LOAD TEST WILDTYPE\n",
        "base = 'VPVNPEPDATSVENVALKTGSGDSQSDPIKADLEVKGQSALPFDVDCWAILCKGAPNVLQRVNEKTKNSNRDRSGANKGPFKDPQKWGIKALPPKNPSWSAQDFKSPEEYAFASSLQGGTNAILAPVNLASQNSQGGVLNGFYSANKVAQFDPSKPQQTKGTWFQITKFTGAAGPYCKALGSNDKSVCDKNKNIAGDWGFDPAKWAYQYDEKNNKFNYVGK'\n",
        "len(base)"
      ],
      "metadata": {
        "id": "Eq2-P0T45ACM"
      },
      "execution_count": null,
      "outputs": []
    },
    {
      "cell_type": "code",
      "source": [
        "# Yu: we also have a trial on train dataset\n",
        "def get_test_mutation(row):\n",
        "    for i,(a,b) in enumerate(zip(row.protein_sequence,base)):\n",
        "        if a!=b: break\n",
        "    row['wildtype'] = base[i]\n",
        "    row['mutation'] = row.protein_sequence[i]\n",
        "    row['position'] = i+1\n",
        "    return row\n",
        "test = test.apply(get_test_mutation,axis=1)\n",
        "test.loc[test.seq_id.isin(deletions),'mutation'] = '_'\n",
        "test.head()"
      ],
      "metadata": {
        "id": "HJt2OoGK5ACM"
      },
      "execution_count": null,
      "outputs": []
    },
    {
      "cell_type": "code",
      "source": [
        "# Load PDBs Provided by Kvigly\n",
        "# EDA Structure Difference\n",
        "# EDA pLDDT Difference\n",
        "# Compute Difference Mutation vs. Wild Type Feature\n",
        "# Create Submission CSV"
      ],
      "metadata": {
        "id": "Sid_ICAH5ACM"
      },
      "execution_count": null,
      "outputs": []
    },
    {
      "cell_type": "code",
      "source": [
        "# try to get a prediction\n",
        "preds_final = rf_random.predict(data_test.drop(columns=[\"seq_id\", \"protein_sequence\"]))\n",
        "preds_final"
      ],
      "metadata": {
        "id": "TsLvEHA15ACM",
        "outputId": "4613a5d9-faf4-4b35-ec24-8b6fccff3132"
      },
      "execution_count": null,
      "outputs": [
        {
          "execution_count": 55,
          "output_type": "execute_result",
          "data": {
            "text/plain": [
              "array([52.8643484 , 52.77468619, 52.80806179, ..., 53.12768857,\n",
              "       53.02009609, 53.03263147])"
            ]
          },
          "metadata": {}
        }
      ]
    },
    {
      "cell_type": "markdown",
      "source": [
        "## 5 Submission"
      ],
      "metadata": {
        "id": "sVv9Su025ACM"
      }
    },
    {
      "cell_type": "markdown",
      "source": [
        "The main features in our model are the individual amino acids. The test set consists of just one protein with lots of small mutations, so there is very little variation in the numbers of individual amino acids."
      ],
      "metadata": {
        "id": "WlEk_-oy5ACM"
      }
    },
    {
      "cell_type": "code",
      "source": [
        "# trying to get a prediction via NN\n",
        "nn_test = data_test[[\"protein_sequence\", \"pH\", \"data_source\"]]\n",
        "nn_test = protein_length_lim(nn_test)\n",
        "nn_test = encode(nn_test)\n",
        "nn_test.head()"
      ],
      "metadata": {
        "colab": {
          "base_uri": "https://localhost:8080/",
          "height": 235
        },
        "id": "O9jAOhNPnNKc",
        "outputId": "638fad73-cd20-4a6d-c4e4-34f78c976c24"
      },
      "execution_count": 107,
      "outputs": [
        {
          "output_type": "execute_result",
          "data": {
            "text/plain": [
              "   pH  data_source  0   1  2  3   4  5   6   7  ...  211  212  213  214  215  \\\n",
              "0   8            1  4  15  4  7  15  8  15  18  ...   10    7    7   10    2   \n",
              "1   8            1  4  15  4  7  15  8  15  18  ...   10    7    7   10    2   \n",
              "2   8            1  4  15  4  7  15  8  15  18  ...    7    7   10    2    7   \n",
              "3   8            1  4  15  4  7  15  8  15  18  ...   10    7    7   10    2   \n",
              "4   8            1  4  15  4  7  15  8  15  18  ...   10    7    7   10    2   \n",
              "\n",
              "   216  217  218  219  220  \n",
              "0    7   17    4   11   10  \n",
              "1    7   17    4   11   10  \n",
              "2   17    4   11   10    0  \n",
              "3    7   17    4   11   10  \n",
              "4    7   17    4   11   10  \n",
              "\n",
              "[5 rows x 223 columns]"
            ],
            "text/html": [
              "\n",
              "  <div id=\"df-013fb26e-126f-4aa1-88a8-b48142760c4c\">\n",
              "    <div class=\"colab-df-container\">\n",
              "      <div>\n",
              "<style scoped>\n",
              "    .dataframe tbody tr th:only-of-type {\n",
              "        vertical-align: middle;\n",
              "    }\n",
              "\n",
              "    .dataframe tbody tr th {\n",
              "        vertical-align: top;\n",
              "    }\n",
              "\n",
              "    .dataframe thead th {\n",
              "        text-align: right;\n",
              "    }\n",
              "</style>\n",
              "<table border=\"1\" class=\"dataframe\">\n",
              "  <thead>\n",
              "    <tr style=\"text-align: right;\">\n",
              "      <th></th>\n",
              "      <th>pH</th>\n",
              "      <th>data_source</th>\n",
              "      <th>0</th>\n",
              "      <th>1</th>\n",
              "      <th>2</th>\n",
              "      <th>3</th>\n",
              "      <th>4</th>\n",
              "      <th>5</th>\n",
              "      <th>6</th>\n",
              "      <th>7</th>\n",
              "      <th>...</th>\n",
              "      <th>211</th>\n",
              "      <th>212</th>\n",
              "      <th>213</th>\n",
              "      <th>214</th>\n",
              "      <th>215</th>\n",
              "      <th>216</th>\n",
              "      <th>217</th>\n",
              "      <th>218</th>\n",
              "      <th>219</th>\n",
              "      <th>220</th>\n",
              "    </tr>\n",
              "  </thead>\n",
              "  <tbody>\n",
              "    <tr>\n",
              "      <th>0</th>\n",
              "      <td>8</td>\n",
              "      <td>1</td>\n",
              "      <td>4</td>\n",
              "      <td>15</td>\n",
              "      <td>4</td>\n",
              "      <td>7</td>\n",
              "      <td>15</td>\n",
              "      <td>8</td>\n",
              "      <td>15</td>\n",
              "      <td>18</td>\n",
              "      <td>...</td>\n",
              "      <td>10</td>\n",
              "      <td>7</td>\n",
              "      <td>7</td>\n",
              "      <td>10</td>\n",
              "      <td>2</td>\n",
              "      <td>7</td>\n",
              "      <td>17</td>\n",
              "      <td>4</td>\n",
              "      <td>11</td>\n",
              "      <td>10</td>\n",
              "    </tr>\n",
              "    <tr>\n",
              "      <th>1</th>\n",
              "      <td>8</td>\n",
              "      <td>1</td>\n",
              "      <td>4</td>\n",
              "      <td>15</td>\n",
              "      <td>4</td>\n",
              "      <td>7</td>\n",
              "      <td>15</td>\n",
              "      <td>8</td>\n",
              "      <td>15</td>\n",
              "      <td>18</td>\n",
              "      <td>...</td>\n",
              "      <td>10</td>\n",
              "      <td>7</td>\n",
              "      <td>7</td>\n",
              "      <td>10</td>\n",
              "      <td>2</td>\n",
              "      <td>7</td>\n",
              "      <td>17</td>\n",
              "      <td>4</td>\n",
              "      <td>11</td>\n",
              "      <td>10</td>\n",
              "    </tr>\n",
              "    <tr>\n",
              "      <th>2</th>\n",
              "      <td>8</td>\n",
              "      <td>1</td>\n",
              "      <td>4</td>\n",
              "      <td>15</td>\n",
              "      <td>4</td>\n",
              "      <td>7</td>\n",
              "      <td>15</td>\n",
              "      <td>8</td>\n",
              "      <td>15</td>\n",
              "      <td>18</td>\n",
              "      <td>...</td>\n",
              "      <td>7</td>\n",
              "      <td>7</td>\n",
              "      <td>10</td>\n",
              "      <td>2</td>\n",
              "      <td>7</td>\n",
              "      <td>17</td>\n",
              "      <td>4</td>\n",
              "      <td>11</td>\n",
              "      <td>10</td>\n",
              "      <td>0</td>\n",
              "    </tr>\n",
              "    <tr>\n",
              "      <th>3</th>\n",
              "      <td>8</td>\n",
              "      <td>1</td>\n",
              "      <td>4</td>\n",
              "      <td>15</td>\n",
              "      <td>4</td>\n",
              "      <td>7</td>\n",
              "      <td>15</td>\n",
              "      <td>8</td>\n",
              "      <td>15</td>\n",
              "      <td>18</td>\n",
              "      <td>...</td>\n",
              "      <td>10</td>\n",
              "      <td>7</td>\n",
              "      <td>7</td>\n",
              "      <td>10</td>\n",
              "      <td>2</td>\n",
              "      <td>7</td>\n",
              "      <td>17</td>\n",
              "      <td>4</td>\n",
              "      <td>11</td>\n",
              "      <td>10</td>\n",
              "    </tr>\n",
              "    <tr>\n",
              "      <th>4</th>\n",
              "      <td>8</td>\n",
              "      <td>1</td>\n",
              "      <td>4</td>\n",
              "      <td>15</td>\n",
              "      <td>4</td>\n",
              "      <td>7</td>\n",
              "      <td>15</td>\n",
              "      <td>8</td>\n",
              "      <td>15</td>\n",
              "      <td>18</td>\n",
              "      <td>...</td>\n",
              "      <td>10</td>\n",
              "      <td>7</td>\n",
              "      <td>7</td>\n",
              "      <td>10</td>\n",
              "      <td>2</td>\n",
              "      <td>7</td>\n",
              "      <td>17</td>\n",
              "      <td>4</td>\n",
              "      <td>11</td>\n",
              "      <td>10</td>\n",
              "    </tr>\n",
              "  </tbody>\n",
              "</table>\n",
              "<p>5 rows × 223 columns</p>\n",
              "</div>\n",
              "      <button class=\"colab-df-convert\" onclick=\"convertToInteractive('df-013fb26e-126f-4aa1-88a8-b48142760c4c')\"\n",
              "              title=\"Convert this dataframe to an interactive table.\"\n",
              "              style=\"display:none;\">\n",
              "        \n",
              "  <svg xmlns=\"http://www.w3.org/2000/svg\" height=\"24px\"viewBox=\"0 0 24 24\"\n",
              "       width=\"24px\">\n",
              "    <path d=\"M0 0h24v24H0V0z\" fill=\"none\"/>\n",
              "    <path d=\"M18.56 5.44l.94 2.06.94-2.06 2.06-.94-2.06-.94-.94-2.06-.94 2.06-2.06.94zm-11 1L8.5 8.5l.94-2.06 2.06-.94-2.06-.94L8.5 2.5l-.94 2.06-2.06.94zm10 10l.94 2.06.94-2.06 2.06-.94-2.06-.94-.94-2.06-.94 2.06-2.06.94z\"/><path d=\"M17.41 7.96l-1.37-1.37c-.4-.4-.92-.59-1.43-.59-.52 0-1.04.2-1.43.59L10.3 9.45l-7.72 7.72c-.78.78-.78 2.05 0 2.83L4 21.41c.39.39.9.59 1.41.59.51 0 1.02-.2 1.41-.59l7.78-7.78 2.81-2.81c.8-.78.8-2.07 0-2.86zM5.41 20L4 18.59l7.72-7.72 1.47 1.35L5.41 20z\"/>\n",
              "  </svg>\n",
              "      </button>\n",
              "      \n",
              "  <style>\n",
              "    .colab-df-container {\n",
              "      display:flex;\n",
              "      flex-wrap:wrap;\n",
              "      gap: 12px;\n",
              "    }\n",
              "\n",
              "    .colab-df-convert {\n",
              "      background-color: #E8F0FE;\n",
              "      border: none;\n",
              "      border-radius: 50%;\n",
              "      cursor: pointer;\n",
              "      display: none;\n",
              "      fill: #1967D2;\n",
              "      height: 32px;\n",
              "      padding: 0 0 0 0;\n",
              "      width: 32px;\n",
              "    }\n",
              "\n",
              "    .colab-df-convert:hover {\n",
              "      background-color: #E2EBFA;\n",
              "      box-shadow: 0px 1px 2px rgba(60, 64, 67, 0.3), 0px 1px 3px 1px rgba(60, 64, 67, 0.15);\n",
              "      fill: #174EA6;\n",
              "    }\n",
              "\n",
              "    [theme=dark] .colab-df-convert {\n",
              "      background-color: #3B4455;\n",
              "      fill: #D2E3FC;\n",
              "    }\n",
              "\n",
              "    [theme=dark] .colab-df-convert:hover {\n",
              "      background-color: #434B5C;\n",
              "      box-shadow: 0px 1px 3px 1px rgba(0, 0, 0, 0.15);\n",
              "      filter: drop-shadow(0px 1px 2px rgba(0, 0, 0, 0.3));\n",
              "      fill: #FFFFFF;\n",
              "    }\n",
              "  </style>\n",
              "\n",
              "      <script>\n",
              "        const buttonEl =\n",
              "          document.querySelector('#df-013fb26e-126f-4aa1-88a8-b48142760c4c button.colab-df-convert');\n",
              "        buttonEl.style.display =\n",
              "          google.colab.kernel.accessAllowed ? 'block' : 'none';\n",
              "\n",
              "        async function convertToInteractive(key) {\n",
              "          const element = document.querySelector('#df-013fb26e-126f-4aa1-88a8-b48142760c4c');\n",
              "          const dataTable =\n",
              "            await google.colab.kernel.invokeFunction('convertToInteractive',\n",
              "                                                     [key], {});\n",
              "          if (!dataTable) return;\n",
              "\n",
              "          const docLinkHtml = 'Like what you see? Visit the ' +\n",
              "            '<a target=\"_blank\" href=https://colab.research.google.com/notebooks/data_table.ipynb>data table notebook</a>'\n",
              "            + ' to learn more about interactive tables.';\n",
              "          element.innerHTML = '';\n",
              "          dataTable['output_type'] = 'display_data';\n",
              "          await google.colab.output.renderOutput(dataTable, element);\n",
              "          const docLink = document.createElement('div');\n",
              "          docLink.innerHTML = docLinkHtml;\n",
              "          element.appendChild(docLink);\n",
              "        }\n",
              "      </script>\n",
              "    </div>\n",
              "  </div>\n",
              "  "
            ]
          },
          "metadata": {},
          "execution_count": 107
        }
      ]
    },
    {
      "cell_type": "code",
      "source": [
        "num_test = nn_test.shape[0]\n",
        "test_ds_nn = torch.tensor((nn_test[:num_test].values), dtype=torch.long)"
      ],
      "metadata": {
        "id": "xgMjQzdWnuzw"
      },
      "execution_count": 111,
      "outputs": []
    },
    {
      "cell_type": "code",
      "source": [
        "output_nn = model_nn(test_ds_nn.to(device)).to(device)"
      ],
      "metadata": {
        "id": "Qkfv87bpogGq"
      },
      "execution_count": 113,
      "outputs": []
    },
    {
      "cell_type": "code",
      "source": [
        "df_preds_nn = output_nn.cpu().data.numpy()\n",
        "preds_final_nn = pd.DataFrame(df_preds_nn, columns=['tm'])"
      ],
      "metadata": {
        "id": "CmgmUt5soq3o"
      },
      "execution_count": 116,
      "outputs": []
    },
    {
      "cell_type": "code",
      "source": [
        "# also trying to get a submission via lgbm\n",
        "nn_test_lgbm = data_test.drop(columns=[\"seq_id\", \"protein_sequence\"])"
      ],
      "metadata": {
        "id": "z1evvLH62xae"
      },
      "execution_count": 129,
      "outputs": []
    },
    {
      "cell_type": "code",
      "source": [
        "preds_final_lgbm = gs_lgbm.predict(nn_test_lgbm)"
      ],
      "metadata": {
        "id": "hnQqByHv3b9K"
      },
      "execution_count": 131,
      "outputs": []
    },
    {
      "cell_type": "code",
      "source": [
        "sub = pd.read_csv(\"/content/drive/MyDrive/after intermediate/sample_submission.csv\")\n",
        "sub.head()"
      ],
      "metadata": {
        "colab": {
          "base_uri": "https://localhost:8080/",
          "height": 206
        },
        "id": "0kx9LQWD5ACN",
        "outputId": "a02ae8a4-e4b3-4e1e-aca2-c4cb51186737"
      },
      "execution_count": 133,
      "outputs": [
        {
          "output_type": "execute_result",
          "data": {
            "text/plain": [
              "   seq_id  tm\n",
              "0   31390   0\n",
              "1   31391   1\n",
              "2   31392   2\n",
              "3   31393   3\n",
              "4   31394   4"
            ],
            "text/html": [
              "\n",
              "  <div id=\"df-7a426218-b865-4d7b-977f-6d1c7f64d66d\">\n",
              "    <div class=\"colab-df-container\">\n",
              "      <div>\n",
              "<style scoped>\n",
              "    .dataframe tbody tr th:only-of-type {\n",
              "        vertical-align: middle;\n",
              "    }\n",
              "\n",
              "    .dataframe tbody tr th {\n",
              "        vertical-align: top;\n",
              "    }\n",
              "\n",
              "    .dataframe thead th {\n",
              "        text-align: right;\n",
              "    }\n",
              "</style>\n",
              "<table border=\"1\" class=\"dataframe\">\n",
              "  <thead>\n",
              "    <tr style=\"text-align: right;\">\n",
              "      <th></th>\n",
              "      <th>seq_id</th>\n",
              "      <th>tm</th>\n",
              "    </tr>\n",
              "  </thead>\n",
              "  <tbody>\n",
              "    <tr>\n",
              "      <th>0</th>\n",
              "      <td>31390</td>\n",
              "      <td>0</td>\n",
              "    </tr>\n",
              "    <tr>\n",
              "      <th>1</th>\n",
              "      <td>31391</td>\n",
              "      <td>1</td>\n",
              "    </tr>\n",
              "    <tr>\n",
              "      <th>2</th>\n",
              "      <td>31392</td>\n",
              "      <td>2</td>\n",
              "    </tr>\n",
              "    <tr>\n",
              "      <th>3</th>\n",
              "      <td>31393</td>\n",
              "      <td>3</td>\n",
              "    </tr>\n",
              "    <tr>\n",
              "      <th>4</th>\n",
              "      <td>31394</td>\n",
              "      <td>4</td>\n",
              "    </tr>\n",
              "  </tbody>\n",
              "</table>\n",
              "</div>\n",
              "      <button class=\"colab-df-convert\" onclick=\"convertToInteractive('df-7a426218-b865-4d7b-977f-6d1c7f64d66d')\"\n",
              "              title=\"Convert this dataframe to an interactive table.\"\n",
              "              style=\"display:none;\">\n",
              "        \n",
              "  <svg xmlns=\"http://www.w3.org/2000/svg\" height=\"24px\"viewBox=\"0 0 24 24\"\n",
              "       width=\"24px\">\n",
              "    <path d=\"M0 0h24v24H0V0z\" fill=\"none\"/>\n",
              "    <path d=\"M18.56 5.44l.94 2.06.94-2.06 2.06-.94-2.06-.94-.94-2.06-.94 2.06-2.06.94zm-11 1L8.5 8.5l.94-2.06 2.06-.94-2.06-.94L8.5 2.5l-.94 2.06-2.06.94zm10 10l.94 2.06.94-2.06 2.06-.94-2.06-.94-.94-2.06-.94 2.06-2.06.94z\"/><path d=\"M17.41 7.96l-1.37-1.37c-.4-.4-.92-.59-1.43-.59-.52 0-1.04.2-1.43.59L10.3 9.45l-7.72 7.72c-.78.78-.78 2.05 0 2.83L4 21.41c.39.39.9.59 1.41.59.51 0 1.02-.2 1.41-.59l7.78-7.78 2.81-2.81c.8-.78.8-2.07 0-2.86zM5.41 20L4 18.59l7.72-7.72 1.47 1.35L5.41 20z\"/>\n",
              "  </svg>\n",
              "      </button>\n",
              "      \n",
              "  <style>\n",
              "    .colab-df-container {\n",
              "      display:flex;\n",
              "      flex-wrap:wrap;\n",
              "      gap: 12px;\n",
              "    }\n",
              "\n",
              "    .colab-df-convert {\n",
              "      background-color: #E8F0FE;\n",
              "      border: none;\n",
              "      border-radius: 50%;\n",
              "      cursor: pointer;\n",
              "      display: none;\n",
              "      fill: #1967D2;\n",
              "      height: 32px;\n",
              "      padding: 0 0 0 0;\n",
              "      width: 32px;\n",
              "    }\n",
              "\n",
              "    .colab-df-convert:hover {\n",
              "      background-color: #E2EBFA;\n",
              "      box-shadow: 0px 1px 2px rgba(60, 64, 67, 0.3), 0px 1px 3px 1px rgba(60, 64, 67, 0.15);\n",
              "      fill: #174EA6;\n",
              "    }\n",
              "\n",
              "    [theme=dark] .colab-df-convert {\n",
              "      background-color: #3B4455;\n",
              "      fill: #D2E3FC;\n",
              "    }\n",
              "\n",
              "    [theme=dark] .colab-df-convert:hover {\n",
              "      background-color: #434B5C;\n",
              "      box-shadow: 0px 1px 3px 1px rgba(0, 0, 0, 0.15);\n",
              "      filter: drop-shadow(0px 1px 2px rgba(0, 0, 0, 0.3));\n",
              "      fill: #FFFFFF;\n",
              "    }\n",
              "  </style>\n",
              "\n",
              "      <script>\n",
              "        const buttonEl =\n",
              "          document.querySelector('#df-7a426218-b865-4d7b-977f-6d1c7f64d66d button.colab-df-convert');\n",
              "        buttonEl.style.display =\n",
              "          google.colab.kernel.accessAllowed ? 'block' : 'none';\n",
              "\n",
              "        async function convertToInteractive(key) {\n",
              "          const element = document.querySelector('#df-7a426218-b865-4d7b-977f-6d1c7f64d66d');\n",
              "          const dataTable =\n",
              "            await google.colab.kernel.invokeFunction('convertToInteractive',\n",
              "                                                     [key], {});\n",
              "          if (!dataTable) return;\n",
              "\n",
              "          const docLinkHtml = 'Like what you see? Visit the ' +\n",
              "            '<a target=\"_blank\" href=https://colab.research.google.com/notebooks/data_table.ipynb>data table notebook</a>'\n",
              "            + ' to learn more about interactive tables.';\n",
              "          element.innerHTML = '';\n",
              "          dataTable['output_type'] = 'display_data';\n",
              "          await google.colab.output.renderOutput(dataTable, element);\n",
              "          const docLink = document.createElement('div');\n",
              "          docLink.innerHTML = docLinkHtml;\n",
              "          element.appendChild(docLink);\n",
              "        }\n",
              "      </script>\n",
              "    </div>\n",
              "  </div>\n",
              "  "
            ]
          },
          "metadata": {},
          "execution_count": 133
        }
      ]
    },
    {
      "cell_type": "code",
      "source": [
        "# with a score of 0.02, well... better than nothing\n",
        "from scipy.stats import rankdata\n",
        "sub[\"tm\"] = preds_final_nn\n",
        "sub[\"tm\"] = rankdata(sub[\"tm\"])\n",
        "sub.to_csv('submission1.csv', index=False)\n"
      ],
      "metadata": {
        "id": "qfnBpxY35ACN"
      },
      "execution_count": 117,
      "outputs": []
    },
    {
      "cell_type": "code",
      "source": [
        "# with a score of 0.16, do have some boosts comparing with ver.1.5\n",
        "sub[\"tm\"] = preds_final_lgbm\n",
        "sub[\"tm\"] = rankdata(sub[\"tm\"])\n",
        "sub.to_csv('submission2.csv', index=False)"
      ],
      "metadata": {
        "id": "JqQ5Lku1sqEX"
      },
      "execution_count": 132,
      "outputs": []
    },
    {
      "cell_type": "markdown",
      "source": [
        "## 6 Results & Discussion"
      ],
      "metadata": {
        "id": "iOKFwP8C5ACN"
      }
    },
    {
      "cell_type": "markdown",
      "source": [
        "### 6.1 why model performs bad in the submission part"
      ],
      "metadata": {
        "id": "1R7ndtmSeg-J"
      }
    },
    {
      "cell_type": "markdown",
      "source": [
        "The following are potencial reasons why our model performs significantly worse in the submission part in midterm report:\n",
        "1. lacking of further discussion for the protein_sequence **, checked**;\n",
        "2. lacking of more features (external dataset) conducted by the biologists and computer scientists **, checked**;\n",
        "3. the model itself is poorly constructed **, checked**;\n",
        "4. there's some tricks beneath the test dataset, sepcifically **, exactly!**:\n",
        "\n",
        "\n",
        "From the above data processing and modeling we've tried to solve the first three potencial reasons, which leads to the forth more suspectable. Remember, the test set contains experimental melting temperature of over 2,413 single-mutation variant of an enzyme (GenBank: KOC15878.1), obtained by Novozymes A/S. Actually the test sample's are highly similar, and much differs from the train dataset, sepcificially:"
      ],
      "metadata": {
        "id": "cZI2MvJi5ACN"
      }
    },
    {
      "cell_type": "markdown",
      "source": [
        "#### 6.1.1 only one pH values in test data"
      ],
      "metadata": {
        "id": "mCIPO-M35ACN"
      }
    },
    {
      "cell_type": "code",
      "source": [
        "data_test[\"pH\"].value_counts()"
      ],
      "metadata": {
        "id": "aEoKnlLh5ACN",
        "outputId": "abf2739c-654c-4377-aa76-7c8c89ef7577"
      },
      "execution_count": null,
      "outputs": [
        {
          "execution_count": 68,
          "output_type": "execute_result",
          "data": {
            "text/plain": [
              "8    2413\n",
              "Name: pH, dtype: int64"
            ]
          },
          "metadata": {}
        }
      ]
    },
    {
      "cell_type": "markdown",
      "source": [
        "#### 6.1.2 all test data contain and from the same data source"
      ],
      "metadata": {
        "id": "9b8HrvfE5ACN"
      }
    },
    {
      "cell_type": "code",
      "source": [
        "data_test[\"data_source\"].value_counts()"
      ],
      "metadata": {
        "id": "joXqdDaK5ACO",
        "outputId": "1127d290-48ba-4baf-8c8c-5edc57cf53b6"
      },
      "execution_count": null,
      "outputs": [
        {
          "execution_count": 69,
          "output_type": "execute_result",
          "data": {
            "text/plain": [
              "1    2413\n",
              "Name: data_source, dtype: int64"
            ]
          },
          "metadata": {}
        }
      ]
    },
    {
      "cell_type": "markdown",
      "source": [
        "#### 6.1.3 the length in test data is very similar"
      ],
      "metadata": {
        "id": "ra3Zwz7V5ACO"
      }
    },
    {
      "cell_type": "code",
      "source": [
        "data_test[\"length\"].value_counts()"
      ],
      "metadata": {
        "execution": {
          "iopub.status.busy": "2022-12-09T23:34:50.726082Z",
          "iopub.status.idle": "2022-12-09T23:34:50.727080Z",
          "shell.execute_reply.started": "2022-12-09T23:34:50.726597Z",
          "shell.execute_reply": "2022-12-09T23:34:50.726631Z"
        },
        "trusted": true,
        "id": "GeagwYBp5ACO"
      },
      "execution_count": null,
      "outputs": []
    },
    {
      "cell_type": "markdown",
      "source": [
        "#### 6.1.4 the protein sequence in test dataset is very alike, or otherwise, only differs form mutation or deletion point\n",
        "\n",
        "The main feature of our model is from protein sequence. The test data contains only protein sequences with many small mutations in amino acid, so the number of individual amino acids changes very little."
      ],
      "metadata": {
        "id": "JaXS0kkl5ACO"
      }
    },
    {
      "cell_type": "code",
      "source": [
        "data_test[\"protein_sequence\"]"
      ],
      "metadata": {
        "id": "VDvVIxbh5ACO",
        "outputId": "508ab4ac-9540-4f15-90f8-642a8625aaac"
      },
      "execution_count": null,
      "outputs": [
        {
          "execution_count": 71,
          "output_type": "execute_result",
          "data": {
            "text/plain": [
              "0       VPVNPEPDATSVENVAEKTGSGDSQSDPIKADLEVKGQSALPFDVD...\n",
              "1       VPVNPEPDATSVENVAKKTGSGDSQSDPIKADLEVKGQSALPFDVD...\n",
              "2       VPVNPEPDATSVENVAKTGSGDSQSDPIKADLEVKGQSALPFDVDC...\n",
              "3       VPVNPEPDATSVENVALCTGSGDSQSDPIKADLEVKGQSALPFDVD...\n",
              "4       VPVNPEPDATSVENVALFTGSGDSQSDPIKADLEVKGQSALPFDVD...\n",
              "                              ...                        \n",
              "2408    VPVNPEPDATSVENVILKTGSGDSQSDPIKADLEVKGQSALPFDVD...\n",
              "2409    VPVNPEPDATSVENVLLKTGSGDSQSDPIKADLEVKGQSALPFDVD...\n",
              "2410    VPVNPEPDATSVENVNLKTGSGDSQSDPIKADLEVKGQSALPFDVD...\n",
              "2411    VPVNPEPDATSVENVPLKTGSGDSQSDPIKADLEVKGQSALPFDVD...\n",
              "2412    VPVNPEPDATSVENVWLKTGSGDSQSDPIKADLEVKGQSALPFDVD...\n",
              "Name: protein_sequence, Length: 2413, dtype: object"
            ]
          },
          "metadata": {}
        }
      ]
    },
    {
      "cell_type": "markdown",
      "source": [
        "### 6.2 Results"
      ],
      "metadata": {
        "id": "z422HOlcfE83"
      }
    },
    {
      "cell_type": "markdown",
      "source": [
        "What's more, we've already found in empirical researches, lots of participants using physics principle based methodes and merely drop train dataset and get a score of about 0.4 recently.\n",
        "\n",
        "However, consider such differences, our model do have good performance on validation with a score of about 0.2 in submission, which indicates our model do detect some of the mutation features within protein sequence that related to stability.\n",
        "\n"
      ],
      "metadata": {
        "id": "fgyjL8cRb_Q-"
      }
    },
    {
      "cell_type": "markdown",
      "source": [
        "#### 6.2.1 a brief review\n",
        "Then let's take a brief review of what we have done in this project. For the intro we find the factors that may influent the protein stability, focuing on protein sequence, we construct feuture engineering to unearth several potencial factors within protein sequence, then construce several fundamantal models: KNeighbors, RandomForest, SVM, LinearRegression, LGBMRegressor and XGBRegressor as our baseline. From there LinearRegression and SVM perform mutch worse then the other four in R2 sense.\n",
        "\n",
        "Then we discuss the better hyperparameter for the better four models using grid search. After we try to combine models for ensemble, and tuned hyperparameters with randomized search, one ensemble for knn and lgbm as trial and another, and xgb and lgbm for improvements. Combining with these two ensembles with the above four tuned models, comparing in a R2, MAE, MSE sense, actually merely the tuned LGBMRegressor performs the best. \n",
        "\n",
        "Furthermore, we try to introduce NN for training using torch. to have another viewpoint on the protein sequence by new feature engineering, to see protein sequence that with sepcific order rather than statistical features and protein pairs. And the result indicates this approach is somewhat better than the above models in MSE sense.\n"
      ],
      "metadata": {
        "id": "0rY2-WLLlOtT"
      }
    },
    {
      "cell_type": "markdown",
      "source": [
        "6.2.2 pros and cons\n",
        "\n",
        "* pros:\n",
        "    * detailed data preprocessing procedure, feature engineering is interesting and somewhat inspring;\n",
        "    * abundant models with comparison, with NN as well.\n",
        "\n",
        "* cons:\n",
        "    * models evaluation should be more sepcific;\n",
        "    * lots of futher discussion should be on NN;\n",
        "    * lacking of deeper biological field knowledge which could inspir model construction;\n",
        "    * cannot get price, 1st Place - $ 12,000!\n"
      ],
      "metadata": {
        "id": "X6fdzJTajjlg"
      }
    },
    {
      "cell_type": "markdown",
      "source": [
        "### 6.3 Comment"
      ],
      "metadata": {
        "id": "QzVGZvDye7bz"
      }
    },
    {
      "cell_type": "markdown",
      "source": [
        "basically that's the end of my work, thanks for your attention. "
      ],
      "metadata": {
        "id": "fxI70O8DmHsl"
      }
    }
  ]
}